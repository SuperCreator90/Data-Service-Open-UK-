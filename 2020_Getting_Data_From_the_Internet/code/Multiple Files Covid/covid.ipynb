{
 "cells": [
  {
   "cell_type": "code",
   "execution_count": null,
   "metadata": {},
   "outputs": [],
   "source": [
    "import requests\n"
   ]
  },
  {
   "cell_type": "markdown",
   "metadata": {},
   "source": [
    "## The code below is what we have seen before\n",
    "\n",
    "## The file comes from the Webpage `https://www.getthedata.com/covid-19/utla-by-day`\n",
    "\n",
    "## With the link to the download file shown as `cases_by_utla_2020-03-16.csv`\n",
    "\n",
    "## But the actual file we would download is shown at the bottom left of the screen as we hover over the link. It is:\n",
    "\n",
    "##  ![Actual Filename](./images/actual_filename.jpg)\n",
    "\n",
    "## If we want to download the file by other means then this is the filename we must use."
   ]
  },
  {
   "cell_type": "code",
   "execution_count": null,
   "metadata": {},
   "outputs": [],
   "source": [
    "\n",
    "myurl = 'https://www.getthedata.com/downloads/cases_by_utla_2020-03-16.csv'\n",
    "\n",
    "savefilename = '200316.csv'\n",
    "r = requests.get(myurl)\n",
    "r.status_code\n",
    "file = open(savefilename, \"wb\")\n",
    "file.write(r.content)\n",
    "file.close()"
   ]
  },
  {
   "cell_type": "markdown",
   "metadata": {},
   "source": [
    "## If we wanted to download multiple files we can use the structure of the filenames and requests the downloads in a loop structure\n",
    "## Like we see below. \n",
    "## As we want to save the files we use a similar technique to name the output files."
   ]
  },
  {
   "cell_type": "code",
   "execution_count": null,
   "metadata": {},
   "outputs": [],
   "source": [
    "stem = 'https://www.getthedata.com/downloads/cases_by_utla_2020-03-'\n",
    "ftype = '.csv'\n",
    "\n",
    "ym = 'd:/data/covid19/2003'\n",
    "\n",
    "for i in range(16,32):\n",
    "    print(stem + str(i) + ftype)\n",
    "    print(ym + str(i) + ftype)    "
   ]
  },
  {
   "cell_type": "markdown",
   "metadata": {},
   "source": [
    "## Then we can put it all together"
   ]
  },
  {
   "cell_type": "code",
   "execution_count": null,
   "metadata": {},
   "outputs": [],
   "source": [
    "stem = 'https://www.getthedata.com/downloads/cases_by_utla_2020-03-'\n",
    "ftype = '.csv'\n",
    "\n",
    "ym = 'd:/data/covid19/2003'\n",
    "\n",
    "for i in range(16,32):\n",
    "    # set up URL and filename\n",
    "    myurl = stem + str(i) + ftype\n",
    "    savefilename = ym + str(i) + ftype\n",
    "    \n",
    "    # Make the request\n",
    "    r = requests.get(myurl)\n",
    "    print(r.status_code)\n",
    "    \n",
    "    # Write the output file\n",
    "    file = open(savefilename, \"wb\")\n",
    "    file.write(r.content)\n",
    "    file.close()\n"
   ]
  },
  {
   "cell_type": "markdown",
   "metadata": {},
   "source": [
    "## Once downloaded we can use Excel Data | Import from other sources | from folder  to combine the files into one."
   ]
  },
  {
   "cell_type": "code",
   "execution_count": null,
   "metadata": {},
   "outputs": [],
   "source": []
  }
 ],
 "metadata": {
  "kernelspec": {
   "display_name": "Python 3",
   "language": "python",
   "name": "python3"
  },
  "language_info": {
   "codemirror_mode": {
    "name": "ipython",
    "version": 3
   },
   "file_extension": ".py",
   "mimetype": "text/x-python",
   "name": "python",
   "nbconvert_exporter": "python",
   "pygments_lexer": "ipython3",
   "version": "3.7.5"
  }
 },
 "nbformat": 4,
 "nbformat_minor": 4
}
