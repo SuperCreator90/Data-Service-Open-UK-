{
 "cells": [
  {
   "cell_type": "markdown",
   "metadata": {},
   "source": [
    "## Commandline Options\n",
    "\n",
    "* wget    (wget --help)\n",
    "* curl    (curl -- hrlp)\n",
    "\n",
    "\n",
    "## These are Linux tools nor natively available in Windows. Although in Windows 10 you can install the Windows Linux system and access them from there. \n",
    "\n",
    "## There are also other tools you can install to make them available\n",
    "\n",
    "## In general though if you are not used to the commandline it is probalby best to ignore them.\n",
    "\n",
    "\n",
    "wget www.bbc.co.uk -O bbc_wget.html\n",
    "curl www.bbc.co.uk -o bbc_curl.html\n",
    "\n",
    "wget http://api.football-data.org/v2/competitions  -O football_competitions.json\n"
   ]
  },
  {
   "cell_type": "code",
   "execution_count": 1,
   "metadata": {},
   "outputs": [],
   "source": [
    "import requests"
   ]
  },
  {
   "cell_type": "code",
   "execution_count": 7,
   "metadata": {},
   "outputs": [],
   "source": [
    "# A csv file \n",
    "#myurl = 'https://www.getthedata.com/downloads/cases_by_utla_2020-03-16.csv'\n",
    "#savefilename = '200316.csv'\n",
    "\n",
    "# A JSON File\n",
    "#myurl = 'http://api.football-data.org/v2/competitions'\n",
    "#savefilename = 'competitions.json'\n",
    "\n",
    "# HTML\n",
    "myurl = 'https://www.bbc.co.uk/news/business-52276149'\n",
    "savefilename = 'bbc_business.html'"
   ]
  },
  {
   "cell_type": "code",
   "execution_count": 8,
   "metadata": {},
   "outputs": [
    {
     "name": "stdout",
     "output_type": "stream",
     "text": [
      "200\n"
     ]
    }
   ],
   "source": [
    "\n",
    "r = requests.get(myurl)\n",
    "print(r.status_code)\n",
    "\n",
    "file = open(savefilename, \"wb\")\n",
    "file.write(r.content)\n",
    "file.close()"
   ]
  },
  {
   "cell_type": "code",
   "execution_count": 4,
   "metadata": {},
   "outputs": [
    {
     "data": {
      "text/plain": [
       "'https://www.getthedata.com/downloads/cases_by_utla_2020-03-16.csv'"
      ]
     },
     "execution_count": 4,
     "metadata": {},
     "output_type": "execute_result"
    }
   ],
   "source": [
    "r.url\n"
   ]
  },
  {
   "cell_type": "code",
   "execution_count": null,
   "metadata": {},
   "outputs": [],
   "source": []
  }
 ],
 "metadata": {
  "kernelspec": {
   "display_name": "Python 3",
   "language": "python",
   "name": "python3"
  },
  "language_info": {
   "codemirror_mode": {
    "name": "ipython",
    "version": 3
   },
   "file_extension": ".py",
   "mimetype": "text/x-python",
   "name": "python",
   "nbconvert_exporter": "python",
   "pygments_lexer": "ipython3",
   "version": "3.7.5"
  }
 },
 "nbformat": 4,
 "nbformat_minor": 4
}
