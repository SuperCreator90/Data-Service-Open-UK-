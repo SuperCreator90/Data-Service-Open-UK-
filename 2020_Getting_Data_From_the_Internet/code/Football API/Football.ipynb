{
 "cells": [
  {
   "cell_type": "markdown",
   "metadata": {},
   "source": [
    "# Using an API\n",
    "\n",
    "In this example we will be using the `api.football-data.org` api.\n",
    "The documentation for the Api can be found here https://www.football-data.org/ \n",
    "\n",
    "\n",
    "## Before starting make sure that you have read the API documentation"
   ]
  },
  {
   "cell_type": "code",
   "execution_count": null,
   "metadata": {},
   "outputs": [],
   "source": [
    "# These are the libraries we will need to use\n",
    "\n",
    "import requests\n",
    "import json\n",
    "import csv\n",
    "import time\n",
    "import pandas as pd"
   ]
  },
  {
   "cell_type": "markdown",
   "metadata": {},
   "source": [
    "## A simple call\n",
    "\n",
    "## We can use the JSON.dumps method to see the returned data or\n",
    "\n",
    "## We can write it to a file and use other tools to look at it. \n"
   ]
  },
  {
   "cell_type": "code",
   "execution_count": null,
   "metadata": {},
   "outputs": [],
   "source": [
    "r=requests.get(\"http://api.football-data.org/v2/competitions/2021/matches\", \n",
    "               params={'matchday': '1', 'season': '2018'},               \n",
    "               headers={'X-Auth-Token':'ae3c0b8b3a544082889c24df68c7e951'})\n",
    "\n",
    "\n",
    "# making the json more readable\n",
    "#print(json.dumps(r.json(), indent=4))\n",
    "\n",
    "# writing the json to a file\n",
    "with open(\"games.json\", \"w\") as outfile : outfile.write(json.dumps(r.json(), indent=4))\n"
   ]
  },
  {
   "cell_type": "code",
   "execution_count": null,
   "metadata": {},
   "outputs": [],
   "source": [
    "# What it really looks like\n",
    "print(r.text)  "
   ]
  },
  {
   "cell_type": "markdown",
   "metadata": {},
   "source": [
    "## Using the same approach as we did for multiple files \n",
    "## We can make multiple calls by iterating through the matchdays\n",
    "\n",
    "## Why might this code cause a problem?   - Read the API documents! "
   ]
  },
  {
   "cell_type": "code",
   "execution_count": null,
   "metadata": {},
   "outputs": [],
   "source": [
    "url = 'https://api.football-data.org/v2/competitions/2021/matches'\n",
    "headers = { 'X-Auth-Token': '<your API token goes here>' }   # Your API Key\n",
    "\n",
    "filters = {'matchday': '1', 'season': '2018'}\n",
    "\n",
    "for md in range(1,39) :\n",
    "    filters['matchday'] = str(md)\n",
    "    r = requests.get(url, headers=headers, params=filters)\n",
    "    print(r.url)\n",
    "    \n"
   ]
  },
  {
   "cell_type": "markdown",
   "metadata": {},
   "source": [
    "## Now we need to parse the json to extract the pieces of information we are going to need.\n",
    "\n",
    "## First however, we will have alook at the saved JSON file\n",
    "\n",
    "## We will start by extracting indivdual elements from the first match \n",
    "## (In Python this will be the index value of `0`)."
   ]
  },
  {
   "cell_type": "code",
   "execution_count": null,
   "metadata": {},
   "outputs": [],
   "source": [
    "response = r.json()\n",
    "\n",
    "print(response['matches'][0])"
   ]
  },
  {
   "cell_type": "markdown",
   "metadata": {},
   "source": [
    "## Notice that this is a complete dictionary object. From which we can extract the values from the keys we want\n",
    "\n",
    "## We need the Home team and the Away team and the Goals scored by each at Full Time.\n",
    "\n",
    "## There is a lot more details in the dictionary object, so for fun we will also extract the score at Half Time. "
   ]
  },
  {
   "cell_type": "code",
   "execution_count": null,
   "metadata": {},
   "outputs": [],
   "source": [
    "print(response['matches'][0]['score'])"
   ]
  },
  {
   "cell_type": "code",
   "execution_count": null,
   "metadata": {},
   "outputs": [],
   "source": [
    "print(response['matches'][0]['score']['fullTime']['homeTeam'])\n",
    "print(response['matches'][0]['score']['fullTime']['awayTeam'])"
   ]
  },
  {
   "cell_type": "code",
   "execution_count": null,
   "metadata": {},
   "outputs": [],
   "source": [
    "print(response['matches'][0]['homeTeam']['name'])\n",
    "print(response['matches'][0]['awayTeam']['name'])"
   ]
  },
  {
   "cell_type": "code",
   "execution_count": null,
   "metadata": {},
   "outputs": [],
   "source": [
    "print(response['matches'][0]['score']['halfTime']['homeTeam'])\n",
    "print(response['matches'][0]['score']['halfTime']['awayTeam'])"
   ]
  },
  {
   "cell_type": "markdown",
   "metadata": {},
   "source": [
    "For clarity we will assign these values to simple variables"
   ]
  },
  {
   "cell_type": "code",
   "execution_count": null,
   "metadata": {},
   "outputs": [],
   "source": [
    "HomeTeam = response['matches'][0]['homeTeam']['name']\n",
    "AwayTeam = response['matches'][0]['awayTeam']['name']\n",
    "HomeTeamHalfTime = response['matches'][0]['score']['halfTime']['homeTeam']\n",
    "AwayTeamHalfTime = response['matches'][0]['score']['halfTime']['awayTeam']\n",
    "HomeTeamFullTime = response['matches'][0]['score']['fullTime']['homeTeam']\n",
    "AwayTeamFullTime = response['matches'][0]['score']['fullTime']['awayTeam']"
   ]
  },
  {
   "cell_type": "markdown",
   "metadata": {},
   "source": [
    "## As we want to save all of the results we will write them all to a simple `csv` file for future use.\n",
    "\n",
    "## Because eventually we are going to retrieve the data for all of the `matchday`s. It might be useful to write this to the file as well.\n",
    "\n",
    "## If we go back and look at the JSON, we can see that `matchday` is recorded as part of the `filter` entry\n",
    "\n",
    "![Matchday](./images/matchday.jpg)"
   ]
  },
  {
   "cell_type": "code",
   "execution_count": null,
   "metadata": {},
   "outputs": [],
   "source": [
    "Matchday = response['filters']['matchday']"
   ]
  },
  {
   "cell_type": "markdown",
   "metadata": {},
   "source": [
    "## To write a csv file we will use the Python `csv` package.\n",
    "\n",
    "## We will try out our code by just writing out the single row we have so far.\n",
    "## In addition to the data elements, as it is a csv file we will also write out a header record with all of the column name in it"
   ]
  },
  {
   "cell_type": "code",
   "execution_count": null,
   "metadata": {},
   "outputs": [],
   "source": [
    "\n",
    "fw =  open('results.csv', 'w') \n",
    "outfile = csv.writer(fw, delimiter=',', lineterminator='\\r')\n",
    "\n",
    "# The header record\n",
    "outfile.writerow([\"matchday\", \"Home_team\", \"Home_goals\", \"Away_team\", \"Away_goals\", \"HT_Home_goals\", \"HT_Away_Goals\"])\n",
    "\n",
    "#The data\n",
    "outfile.writerow([Matchday, HomeTeam, AwayTeam, HomeTeamFullTime, AwayTeamFullTime, HomeTeamHalfTime, AwayTeamHalfTime] )\n",
    "                      \n",
    "# close the file    \n",
    "fw.close()\n",
    "\n"
   ]
  },
  {
   "cell_type": "markdown",
   "metadata": {},
   "source": [
    "We can see what this looks like by Browsing the file \n",
    "\n",
    "![Result](./images/results.jpg)\n",
    "\n",
    "\n",
    "Now we are ready to start putting it all together.\n",
    "\n",
    "1. Each API call gets us all of the results for a given Matchday.\n",
    "2. We need to make a seperate API call for each of the 38 matchdays"
   ]
  },
  {
   "cell_type": "code",
   "execution_count": null,
   "metadata": {},
   "outputs": [],
   "source": [
    "fw =  open('results.csv', 'w') \n",
    "outfile = csv.writer(fw, delimiter=',', lineterminator='\\r')\n",
    "\n",
    "# The header record\n",
    "outfile.writerow([\"matchday\", \"Home_team\", \"Away_team\", \"Home_goals\", \"Away_goals\", \"HT_Home_goals\", \"HT_Away_Goals\"])\n",
    "\n",
    "url = 'https://api.football-data.org/v2/competitions/2021/matches'\n",
    "headers = { 'X-Auth-Token': 'ae3c0b8b3a544082889c24df68c7e951' }   # This is my API Key\n",
    "\n",
    "filters = {'matchday': '1', 'season': '2018'}\n",
    "\n",
    "for md in range(1,39) :\n",
    "    filters['matchday'] = str(md)\n",
    "    r = requests.get(url, headers=headers, params=filters)\n",
    "    response = r.json()\n",
    "    \n",
    "    time.sleep(10)\n",
    "    \n",
    "    Matchday = response['filters']['matchday']\n",
    "    for game in range(0,10) :\n",
    "        HomeTeam = response['matches'][game]['homeTeam']['name']\n",
    "        AwayTeam = response['matches'][game]['awayTeam']['name']\n",
    "        HomeTeamHalfTime = response['matches'][game]['score']['halfTime']['homeTeam']\n",
    "        AwayTeamHalfTime = response['matches'][game]['score']['halfTime']['awayTeam']\n",
    "        HomeTeamFullTime = response['matches'][game]['score']['fullTime']['homeTeam']\n",
    "        AwayTeamFullTime = response['matches'][game]['score']['fullTime']['awayTeam']\n",
    "        \n",
    "        #The data\n",
    "        outfile.writerow([Matchday, HomeTeam, AwayTeam, HomeTeamFullTime, AwayTeamFullTime, HomeTeamHalfTime, AwayTeamHalfTime] )    \n",
    "        \n",
    "# close the file    \n",
    "fw.close()"
   ]
  },
  {
   "cell_type": "markdown",
   "metadata": {},
   "source": [
    "## With the results file we can generate a league table"
   ]
  },
  {
   "cell_type": "code",
   "execution_count": null,
   "metadata": {},
   "outputs": [],
   "source": [
    "\n",
    "table = {}\n",
    "\n",
    "f = open('results.csv', 'r')\n",
    "f_csv = csv.reader(f, delimiter=',')\n",
    "next(f_csv)\n",
    "\n",
    "for line in f_csv:\n",
    "    \n",
    "    #print (line[0], line[1], line[2], line[3], line[4])\n",
    "    if line[1] in table :                                    # repeat all of this for line[2] - Away team\n",
    "        table[line[1]]['played'] += 1\n",
    "        table[line[2]]['played'] += 1\n",
    "        if line[3] > line[4] :\n",
    "            table[line[1]]['won'] += 1\n",
    "            table[line[1]]['points']  += 3\n",
    "            table[line[2]]['lost'] += 1\n",
    "        if line[3]  == line[4] :\n",
    "            table[line[1]]['drawn'] += 1\n",
    "            table[line[1]]['points']  += 1\n",
    "            table[line[2]]['drawn'] += 1\n",
    "            table[line[2]]['points']  += 1\n",
    "        if line[3]  < line[4] :\n",
    "            table[line[1]]['lost'] += 1\n",
    "            table[line[2]]['won'] += 1\n",
    "            table[line[2]]['points']  += 3\n",
    "        table[line[1]]['GF'] += int(line[3]) \n",
    "        table[line[1]]['GA'] += int(line[4])\n",
    "        table[line[2]]['GF'] += int(line[4]) \n",
    "        table[line[2]]['GA'] += int(line[3])\n",
    "                    \n",
    "    else :\n",
    "        table[line[1]] = {}\n",
    "        table[line[1]]['played'] = 0\n",
    "        table[line[1]]['won'] = 0\n",
    "        table[line[1]]['drawn'] = 0\n",
    "        table[line[1]]['lost'] = 0\n",
    "        table[line[1]]['GF'] = 0\n",
    "        table[line[1]]['GA'] = 0\n",
    "        table[line[1]]['points'] = 0\n",
    "        table[line[1]]['played'] += 1\n",
    "        table[line[2]] = {}\n",
    "        table[line[2]]['played'] = 0\n",
    "        table[line[2]]['won'] = 0\n",
    "        table[line[2]]['drawn'] = 0\n",
    "        table[line[2]]['lost'] = 0\n",
    "        table[line[2]]['GF'] = 0\n",
    "        table[line[2]]['GA'] = 0\n",
    "        table[line[2]]['points'] = 0\n",
    "        table[line[2]]['played'] += 1  \n",
    "        if line[3] > line[4] :\n",
    "            table[line[1]]['won'] += 1\n",
    "            table[line[1]]['points']  += 3\n",
    "            table[line[2]]['lost']  += 1            \n",
    "        if line[3] == line[4] :\n",
    "            table[line[1]]['drawn'] += 1\n",
    "            table[line[1]]['points']  += 1\n",
    "            table[line[2]]['drawn'] += 1\n",
    "            table[line[2]]['points']  += 1\n",
    "        if line[3]  < line[4] :\n",
    "            table[line[1]]['lost'] += 1\n",
    "            table[line[2]]['won'] += 1\n",
    "            table[line[2]]['points']  += 3\n",
    "        table[line[1]]['GF'] += int(line[3]) \n",
    "        table[line[1]]['GA'] += int(line[4])\n",
    "        table[line[2]]['GF'] += int(line[4]) \n",
    "        table[line[2]]['GA'] += int(line[3])\n",
    "                      \n",
    "\n",
    "#  then need to flatten the dictionary and print\n",
    "        \n",
    "f.close()\n",
    "\n",
    "# create the dataframe\n",
    "League_Table = pd.DataFrame(columns = ['Team', 'W', 'D', 'L', 'GF', 'GA', 'GD', 'Points'])\n",
    "\n",
    "for team in table :\n",
    "    print(team, table[team]['won'], table[team]['drawn'], table[team]['lost'], table[team]['GF'], table[team]['GA'], (table[team]['GF'] - table[team]['GA']), table[team]['points'])\n",
    "    League_Table = League_Table.append({'Team': team , 'W' : table[team]['won'], 'D' : table[team]['drawn'], 'L' : table[team]['lost'], 'GF' : table[team]['GF'], 'GA' : table[team]['GA'], 'GD' : (table[team]['GF'] - table[team]['GA']), 'Points' : table[team]['points']}, ignore_index=True)\n",
    "\n",
    "print(League_Table.head())\n",
    "\n",
    "# Sort the dataframe and save to a file\n",
    "League_Table.sort_values(['Points', 'GD'], ascending=[False, False], inplace=True )\n",
    "League_Table.to_csv('League_Table.csv', index = False)"
   ]
  },
  {
   "cell_type": "markdown",
   "metadata": {},
   "source": [
    "## To get a half-time table I just need to change the comparisons (3 -> 5 and 4 -> 6)"
   ]
  },
  {
   "cell_type": "code",
   "execution_count": null,
   "metadata": {},
   "outputs": [],
   "source": [
    "table = {}\n",
    "\n",
    "f = open('results.csv', 'r')\n",
    "f_csv = csv.reader(f, delimiter=',')\n",
    "next(f_csv)\n",
    "\n",
    "for line in f_csv:\n",
    "    \n",
    "    #print (line[0], line[1], line[2], line[3], line[4])\n",
    "    if line[1] in table :                                    # repeat all of this for line[2] - Away team\n",
    "        table[line[1]]['played'] += 1\n",
    "        table[line[2]]['played'] += 1\n",
    "        if line[5] > line[6] :\n",
    "            table[line[1]]['won'] += 1\n",
    "            table[line[1]]['points']  += 3\n",
    "            table[line[2]]['lost'] += 1\n",
    "        if line[5]  == line[6] :\n",
    "            table[line[1]]['drawn'] += 1\n",
    "            table[line[1]]['points']  += 1\n",
    "            table[line[2]]['drawn'] += 1\n",
    "            table[line[2]]['points']  += 1\n",
    "        if line[5]  < line[6] :\n",
    "            table[line[1]]['lost'] += 1\n",
    "            table[line[2]]['won'] += 1\n",
    "            table[line[2]]['points']  += 3\n",
    "        table[line[1]]['GF'] += int(line[3]) \n",
    "        table[line[1]]['GA'] += int(line[4])\n",
    "        table[line[2]]['GF'] += int(line[4]) \n",
    "        table[line[2]]['GA'] += int(line[3])\n",
    "                    \n",
    "    else :\n",
    "        table[line[1]] = {}\n",
    "        table[line[1]]['played'] = 0\n",
    "        table[line[1]]['won'] = 0\n",
    "        table[line[1]]['drawn'] = 0\n",
    "        table[line[1]]['lost'] = 0\n",
    "        table[line[1]]['GF'] = 0\n",
    "        table[line[1]]['GA'] = 0\n",
    "        table[line[1]]['points'] = 0\n",
    "        table[line[1]]['played'] += 1\n",
    "        table[line[2]] = {}\n",
    "        table[line[2]]['played'] = 0\n",
    "        table[line[2]]['won'] = 0\n",
    "        table[line[2]]['drawn'] = 0\n",
    "        table[line[2]]['lost'] = 0\n",
    "        table[line[2]]['GF'] = 0\n",
    "        table[line[2]]['GA'] = 0\n",
    "        table[line[2]]['points'] = 0\n",
    "        table[line[2]]['played'] += 1  \n",
    "        if line[5] > line[6] :\n",
    "            table[line[1]]['won'] += 1\n",
    "            table[line[1]]['points']  += 3\n",
    "            table[line[2]]['lost']  += 1            \n",
    "        if line[5] == line[6] :\n",
    "            table[line[1]]['drawn'] += 1\n",
    "            table[line[1]]['points']  += 1\n",
    "            table[line[2]]['drawn'] += 1\n",
    "            table[line[2]]['points']  += 1\n",
    "        if line[5]  < line[6] :\n",
    "            table[line[1]]['lost'] += 1\n",
    "            table[line[2]]['won'] += 1\n",
    "            table[line[2]]['points']  += 3\n",
    "        table[line[1]]['GF'] += int(line[3]) \n",
    "        table[line[1]]['GA'] += int(line[4])\n",
    "        table[line[2]]['GF'] += int(line[4]) \n",
    "        table[line[2]]['GA'] += int(line[3])\n",
    "                      \n",
    "\n",
    "#  then need to flatten the dictionary and print\n",
    "        \n",
    "f.close()\n",
    "\n",
    "# create the dataframe\n",
    "League_Table = pd.DataFrame(columns = ['Team', 'W', 'D', 'L', 'GF', 'GA', 'GD', 'Points'])\n",
    "\n",
    "for team in table :\n",
    "    #print(team, table[team]['won'], table[team]['drawn'], table[team]['lost'], table[team]['GF'], table[team]['GA'], (table[team]['GF'] - table[team]['GA']), table[team]['points'])\n",
    "    League_Table = League_Table.append({'Team': team , 'W' : table[team]['won'], 'D' : table[team]['drawn'], 'L' : table[team]['lost'], 'GF' : table[team]['GF'], 'GA' : table[team]['GA'], 'GD' : (table[team]['GF'] - table[team]['GA']), 'Points' : table[team]['points']}, ignore_index=True)\n",
    "\n",
    "#print(League_Table.head())\n",
    "\n",
    "# Sort the dataframe and save to a file\n",
    "League_Table.sort_values(['Points', 'GD'], ascending=[False, False], inplace=True )\n",
    "League_Table.to_csv('League_Table (HT).csv', index = False)\n"
   ]
  }
 ],
 "metadata": {
  "kernelspec": {
   "display_name": "Python 3",
   "language": "python",
   "name": "python3"
  },
  "language_info": {
   "codemirror_mode": {
    "name": "ipython",
    "version": 3
   },
   "file_extension": ".py",
   "mimetype": "text/x-python",
   "name": "python",
   "nbconvert_exporter": "python",
   "pygments_lexer": "ipython3",
   "version": "3.7.5"
  }
 },
 "nbformat": 4,
 "nbformat_minor": 4
}
