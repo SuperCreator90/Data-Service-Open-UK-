{
 "cells": [
  {
   "cell_type": "markdown",
   "metadata": {},
   "source": [
    "![UKDS Logo](./images/UKDS_Logos_Col_Grey_300dpi.png)"
   ]
  },
  {
   "cell_type": "markdown",
   "metadata": {},
   "source": [
    "# Web-scraping for Social Science Research"
   ]
  },
  {
   "cell_type": "markdown",
   "metadata": {},
   "source": [
    "Welcome to the <a href=\"https://ukdataservice.ac.uk/\" target=_blank>UK Data Service</a> training series on *New Forms of Data for Social Science Research*. This series guides you through some of the most common and valuable new sources of data available for social science research: data collected from websites, social media platorms, text data, conducting simulations (agent based modelling), to name a few. To help you get to grips with these new forms of data, we provide webinars, interactive notebooks containing live programming code, reading lists and more.\n",
    "\n",
    "* To access training materials for the entire series: <a href=\"https://github.com/UKDataServiceOpen/new-forms-of-data\" target=_blank>[Training Materials]</a>\n",
    "\n",
    "* To keep up to date with upcoming and past training events: <a href=\"https://ukdataservice.ac.uk/news-and-events/events\" target=_blank>[Events]</a>\n",
    "\n",
    "* To get in contact with feedback, ideas or to seek assistance: <a href=\"https://ukdataservice.ac.uk/help.aspx\" target=_blank>[Help]</a>\n",
    "\n",
    "<a href=\"https://www.research.manchester.ac.uk/portal/julia.kasmire.html\" target=_blank>Dr Julia Kasmire</a> and <a href=\"https://www.research.manchester.ac.uk/portal/diarmuid.mcdonnell.html\" target=_blank>Dr Diarmuid McDonnell</a> <br />\n",
    "UK Data Service  <br />\n",
    "University of Manchester <br />\n",
    "April 2020"
   ]
  },
  {
   "cell_type": "markdown",
   "metadata": {
    "toc": true
   },
   "source": [
    "<h1>Table of Contents<span class=\"tocSkip\"></span></h1>\n",
    "<div class=\"toc\"><ul class=\"toc-item\"><li><span><a href=\"#Introduction\" data-toc-modified-id=\"Introduction-1\"><span class=\"toc-item-num\">1&nbsp;&nbsp;</span>Introduction</a></span></li><li><span><a href=\"#Guide-to-using-this-resource\" data-toc-modified-id=\"Guide-to-using-this-resource-2\"><span class=\"toc-item-num\">2&nbsp;&nbsp;</span>Guide to using this resource</a></span><ul class=\"toc-item\"><li><span><a href=\"#Interaction\" data-toc-modified-id=\"Interaction-2.1\"><span class=\"toc-item-num\">2.1&nbsp;&nbsp;</span>Interaction</a></span></li><li><span><a href=\"#Learn-more\" data-toc-modified-id=\"Learn-more-2.2\"><span class=\"toc-item-num\">2.2&nbsp;&nbsp;</span>Learn more</a></span></li></ul></li><li><span><a href=\"#Collecting-data-from-online-databases-using-an-API\" data-toc-modified-id=\"Collecting-data-from-online-databases-using-an-API-3\"><span class=\"toc-item-num\">3&nbsp;&nbsp;</span>Collecting data from online databases using an API</a></span><ul class=\"toc-item\"><li><span><a href=\"#What-is-an-API?\" data-toc-modified-id=\"What-is-an-API?-3.1\"><span class=\"toc-item-num\">3.1&nbsp;&nbsp;</span>What is an API?</a></span></li><li><span><a href=\"#Reasons-to-interact-with-an-API\" data-toc-modified-id=\"Reasons-to-interact-with-an-API-3.2\"><span class=\"toc-item-num\">3.2&nbsp;&nbsp;</span>Reasons to interact with an API</a></span></li><li><span><a href=\"#Logic-of-using-an-API\" data-toc-modified-id=\"Logic-of-using-an-API-3.3\"><span class=\"toc-item-num\">3.3&nbsp;&nbsp;</span>Logic of using an API</a></span></li></ul></li><li><span><a href=\"#Example:-Capturing-Covid-19-data\" data-toc-modified-id=\"Example:-Capturing-Covid-19-data-4\"><span class=\"toc-item-num\">4&nbsp;&nbsp;</span>Example: Capturing Covid-19 data</a></span><ul class=\"toc-item\"><li><span><a href=\"#Locating-the-API\" data-toc-modified-id=\"Locating-the-API-4.1\"><span class=\"toc-item-num\">4.1&nbsp;&nbsp;</span>Locating the API</a></span></li><li><span><a href=\"#API-terms-of-use\" data-toc-modified-id=\"API-terms-of-use-4.2\"><span class=\"toc-item-num\">4.2&nbsp;&nbsp;</span>API terms of use</a></span></li><li><span><a href=\"#Locating-data\" data-toc-modified-id=\"Locating-data-4.3\"><span class=\"toc-item-num\">4.3&nbsp;&nbsp;</span>Locating data</a></span></li><li><span><a href=\"#Registering-use-of-API\" data-toc-modified-id=\"Registering-use-of-API-4.4\"><span class=\"toc-item-num\">4.4&nbsp;&nbsp;</span>Registering use of API</a></span></li><li><span><a href=\"#Requesting-data\" data-toc-modified-id=\"Requesting-data-4.5\"><span class=\"toc-item-num\">4.5&nbsp;&nbsp;</span>Requesting data</a></span></li><li><span><a href=\"#Saving-results\" data-toc-modified-id=\"Saving-results-4.6\"><span class=\"toc-item-num\">4.6&nbsp;&nbsp;</span>Saving results</a></span></li><li><span><a href=\"#Comprehensive-Covid-19-data\" data-toc-modified-id=\"Comprehensive-Covid-19-data-4.7\"><span class=\"toc-item-num\">4.7&nbsp;&nbsp;</span>Comprehensive Covid-19 data</a></span></li></ul></li><li><span><a href=\"#Value,-limitations-and-ethics\" data-toc-modified-id=\"Value,-limitations-and-ethics-5\"><span class=\"toc-item-num\">5&nbsp;&nbsp;</span>Value, limitations and ethics</a></span></li><li><span><a href=\"#Conclusion\" data-toc-modified-id=\"Conclusion-6\"><span class=\"toc-item-num\">6&nbsp;&nbsp;</span>Conclusion</a></span></li><li><span><a href=\"#Bibliography\" data-toc-modified-id=\"Bibliography-7\"><span class=\"toc-item-num\">7&nbsp;&nbsp;</span>Bibliography</a></span></li><li><span><a href=\"#Further-reading-and-resources\" data-toc-modified-id=\"Further-reading-and-resources-8\"><span class=\"toc-item-num\">8&nbsp;&nbsp;</span>Further reading and resources</a></span></li><li><span><a href=\"#Appendices\" data-toc-modified-id=\"Appendices-9\"><span class=\"toc-item-num\">9&nbsp;&nbsp;</span>Appendices</a></span></li></ul></div>"
   ]
  },
  {
   "cell_type": "markdown",
   "metadata": {},
   "source": [
    "## Introduction\n",
    "\n",
    "In this training series we cover some of the essential skills needed to collect data from the web. In particular we focus on two different approaches:\n",
    "1. Collecting data stored on web pages. <a href=\"./web-scraping-websites-code-2020-04-23.ipynb\" target=_blank>[LINK]</a>\n",
    "2. Downloading data from online databases using Application Programming Interfaces (APIs). [Focus of this notebook]\n",
    "    \n",
    "Do not be alarmed by the technical aspects: both approaches can be implemented using simple code, a standard desktop or laptop, and a decent internet connection.    \n",
    "\n",
    "Given the Covid-19 public health crisis in which this programme of work occurred, we will examine ways in which web-scraping techniques can provide valuable data for studying this phenomenon. This is a fast moving, evolving public health emergency that, in addition to other impacts, will shape research agendas across the sciences for years to come. Therefore it is important to learn how we, as social scientists, can access or generate data that will provide a better understanding of this disease.\n",
    "\n",
    "In this lesson we will search the <a href=\"https://www.theguardian.com\" target=_blank>Guardian newspaper's</a> online database for articles referring to Covid-19. We will also examine two APIs that should be of wider interest to the social science community: \n",
    "* UK Police API, which provides data on street-level crime and outcomes, police stations and much more.\n",
    "* Companies House API, which provides data on the governance, finances and activities of UK registered companies."
   ]
  },
  {
   "cell_type": "markdown",
   "metadata": {},
   "source": [
    "## Guide to using this resource\n",
    "\n",
    "This learning resource was built using <a href=\"https://jupyter.org/\" target=_blank>Jupyter Notebook</a>, an open-source software application that allows you to mix code, results and narrative in a single document. As <a href=\"https://jupyter4edu.github.io/jupyter-edu-book/\" target=_blank>Barba et al. (2019)</a> espouse:\n",
    "> In a world where every subject matter can have a data-supported treatment, where computational devices are omnipresent and pervasive, the union of natural language and computation creates compelling communication and learning opportunities.\n",
    "\n",
    "If you are familiar with Jupyter notebooks then skip ahead to the main content (*Collecting data from online databases using an API*). Otherwise, the following is a quick guide to navigating and interacting with the notebook."
   ]
  },
  {
   "cell_type": "markdown",
   "metadata": {},
   "source": [
    "### Interaction\n",
    "\n",
    "**You only need to execute the code that is contained in sections which are marked by `In []`.**\n",
    "\n",
    "To execute a cell, click or double-click the cell and press the `Run` button on the top toolbar (you can also use the keyboard shortcut Shift + Enter).\n",
    "\n",
    "Try it for yourself:"
   ]
  },
  {
   "cell_type": "code",
   "execution_count": null,
   "metadata": {},
   "outputs": [
    {
     "name": "stdout",
     "output_type": "stream",
     "text": [
      "Enter your name and press enter:\n"
     ]
    }
   ],
   "source": [
    "print(\"Enter your name and press enter:\")\n",
    "name = input()\n",
    "print(\"Hello {}, enjoy learning more about Python and web-scraping!\".format(name)) "
   ]
  },
  {
   "cell_type": "markdown",
   "metadata": {},
   "source": [
    "### Learn more\n",
    "\n",
    "Jupyter notebooks provide rich, flexible features for conducting and documenting your data analysis workflow. To learn more about additional notebook features, we recommend working through some of the <a href=\"https://github.com/darribas/gds19/blob/master/content/labs/lab_00.ipynb\" target=_blank>materials</a> provided by Dani Arribas-Bel at the University of Liverpool. "
   ]
  },
  {
   "cell_type": "markdown",
   "metadata": {},
   "source": [
    "## Collecting data from online databases using an API\n",
    "\n",
    "### What is an API?\n",
    "\n",
    "An Application Programming Interface (API) is a \"a set of functions and procedures allowing the creation of applications that access the features or data of an operating system, application, or other service\" (Oxford English Dictionary). In plain English: an API acts as an intermediary between software applications. It performs this role by providing a set of protocols or standards for making *requests* and formulating *responses*. For example...\n",
    "\n",
    "### Reasons to interact with an API\n",
    "\n",
    "Many public, private and charitable institutions collect and share data of value to social scientists. Often they deposit their data to a data portal - e.g., <a href=\"https://data.gov.uk/\" target=_blank>UK Government Open Data</a> -, allowing you to download the files as and when needed. However, another approach they can adopt is to allow direct access to the underlying information that is stored in their database. Using this method, individuals can send a customised *request* for information to the database; if the request is valid, the database *responds* by providing you with the data. Think of this approach as the difference between downloading a raw data file and needing to filter out the rows \n",
    "\n",
    "Online databases can be an important source of publicly available information on phenomena of interest.  - for instance, they are used to store and disseminate files, text, photos, videos, tables etc. However, the data stored on websites are typically not structured or formatted for ease of use by researchers: for example, it may not be possible to perform a bulk download of all the files you need (think of needing the annual accounts of all registered companies in London for your research...), or the information may not even be held in a file and instead spread across paragraphs and tables throughout a web page (or worse, web pages). Luckily, web-scraping provides a means of quickly and accurately capturing and formatting data stored on web pages.\n",
    "\n",
    "Before we delve into writing code to capture data through an API, let's clearly state the logic underpinning the technique."
   ]
  },
  {
   "cell_type": "markdown",
   "metadata": {},
   "source": [
    "### Logic of using an API\n",
    "\n",
    "We begin by identifying an online database containing information of interest. Then we need to **know** the following:\n",
    "1. The location of the API (i.e., web address) through which the database can be accessed. For example, the UK Police API can be accessed via <a href=\"https://data.police.uk/api\" target=_blank>https://data.police.uk/api</a>.\n",
    "2. The terms of use associated with the API. Many APIs restrict the number of requests you can make over a given time period, while others require registration in order to authenicate who is trying to access the data. For example, the UK Police API does not require you to provide authentication but restricts the number of requests for data you can make (15 per second) - the number of allowable requests is known as the *rate limit*.\n",
    "3. The location of the data of interest on the API. For example, data on street-level crime from the UK Police API is available at: <a href=\"https://data.police.uk/api/crimes-street\" target=_blank>https://data.police.uk/api/crimes-street</a>. The location of the data is known as its *endpoint*.\n",
    "\n",
    "We can usually find all of the information we need by reading the API's documentation e.g., <a href=\"https://data.police.uk/docs/\" target=_blank>https://data.police.uk/docs/</a>.\n",
    "\n",
    "Then we need to **do** the following:\n",
    "4. Register your use of the API (if required).\n",
    "5. Request data from the endpoint of interest, supplying authentication if required. This process is known as *making a call* to the API.\n",
    "6. Write this data to a file for future use."
   ]
  },
  {
   "cell_type": "markdown",
   "metadata": {},
   "source": [
    "## Example: Capturing Covid-19 data"
   ]
  },
  {
   "cell_type": "markdown",
   "metadata": {},
   "source": [
    "The Guardian's API provides access to some of the data and metadata associcated with its content. For example, you can query its database to search for articles with certain tags (\"environmenmt\", \"covid-19\"), or articles published over a certain date range."
   ]
  },
  {
   "cell_type": "markdown",
   "metadata": {},
   "source": [
    "### Locating the API\n",
    "\n",
    "In some cases the organisation will allow you to explore the API without the need to write code or register for an API key. For instance, the Guardian's API can be explored at <a href=\"https://open-platform.theguardian.com/explore/\" target=_blank>https://open-platform.theguardian.com/explore/</a>.\n",
    "\n",
    "**TASK**: take some time to interact with the Guardian's API through its user interface.\n",
    "\n",
    "(Note: it possible to load websites into Python in order to view them, however the Guardian's API doesn't allow this. See the example code below for how it would work for a different website - just remove the quotation marks enclosing the code and run the cell)."
   ]
  },
  {
   "cell_type": "code",
   "execution_count": null,
   "metadata": {},
   "outputs": [],
   "source": [
    "\"\"\"\n",
    "from IPython.display import IFrame\n",
    "\n",
    "IFrame(\"https://ukdataservice.ac.uk/\", width=\"600\", height=\"650\")\n",
    "\"\"\""
   ]
  },
  {
   "cell_type": "markdown",
   "metadata": {},
   "source": [
    "However, interacting with an API through a user interface (i.e., text boxes, drop-down menues) is slow, untransparent, labour intensive and often not possible. We will instead focus on writing code that performs the requests for us. Therefore, we need to use the following web address to access the API: https://content.guardianapis.com.\n",
    "\n",
    "(Note that you cannot request this web address through your browser; this is because access to the API is only possible by providing authentication i.e., an API key. Try for yourself by clicking on the links)."
   ]
  },
  {
   "cell_type": "markdown",
   "metadata": {},
   "source": [
    "### API terms of use\n",
    "\n",
    "The Guardian API is well documented (not always the case, unfortunately) and we can clearly identify what is required in order to interact with it. Firstly, the API requires authentication, in the form of an API key, to be provided when making requests. The API key is generated when you register your use of the API.\n",
    "\n",
    "Secondly, the API provides multiple levels of access, each with its own set of restrictions and usage allowances. The free level of access allows you to make up to 12 calls per second, with a daily limit of 5,000; requests are also restricted to text content (no access to images, audio, video) - if you need more than the free level of access provides, there is a commercial product with custom rate limits, access to other type of data (e.g., images, videos) etc.\n",
    "\n",
    "See <a href=\"https://open-platform.theguardian.com/access/\" target=_blank>https://open-platform.theguardian.com/access/</a> for full information on levels of access."
   ]
  },
  {
   "cell_type": "markdown",
   "metadata": {},
   "source": [
    "### Locating data\n",
    "\n",
    "The Guardian API allows access to five endpoints:\n",
    "* Content - https://content.guardianapis.com/search\n",
    "* Tags - http://content.guardianapis.com/tags\n",
    "* Sections - https://content.guardianapis.com/sections\n",
    "* Editions - https://content.guardianapis.com/editions\n",
    "* Single Item - https://content.guardianapis.com/"
   ]
  },
  {
   "cell_type": "markdown",
   "metadata": {},
   "source": [
    "### Registering use of API\n",
    "\n",
    "We need an API key in order to start requesting data. The API key acts as a user's unique id when accessing the API. For the purposes of this lesson we have <a href=\"https://bonobo.capi.gutools.co.uk/register/developer\" target=_blank>registered our use</a> and been given an API key which is contained in a file called *guardian-api-key.txt*. \n",
    "\n",
    "Run the code below to check if the file exists:"
   ]
  },
  {
   "cell_type": "code",
   "execution_count": 1,
   "metadata": {},
   "outputs": [
    {
     "data": {
      "text/plain": [
       "['guardian-api-key.txt']"
      ]
     },
     "execution_count": 1,
     "metadata": {},
     "output_type": "execute_result"
    }
   ],
   "source": [
    "import os\n",
    "\n",
    "os.listdir(\"./auth\")"
   ]
  },
  {
   "cell_type": "markdown",
   "metadata": {},
   "source": [
    "You should generate your own API key, and keep it private and secure, when using the Guardian API for your own purposes."
   ]
  },
  {
   "cell_type": "markdown",
   "metadata": {},
   "source": [
    "### Requesting data\n",
    "\n",
    "We're ready for the interesting bit: requesting data through the API. We'll focus on finding, requesting and saving data about articles relating to the Covid-19 public health crisis.\n",
    "\n",
    "There is a preliminary step, which is setting up Python with the modules it needs to interact with the API."
   ]
  },
  {
   "cell_type": "code",
   "execution_count": 39,
   "metadata": {},
   "outputs": [
    {
     "name": "stdout",
     "output_type": "stream",
     "text": [
      "Succesfully imported necessary modules\n"
     ]
    }
   ],
   "source": [
    "# Import modules\n",
    "\n",
    "import os # module for navigating your machine (e.g., file directories)\n",
    "import requests # module for requesting urls\n",
    "import json # module for working with JSON data structures\n",
    "from datetime import datetime # module for working with dates and time\n",
    "print(\"Succesfully imported necessary modules\")"
   ]
  },
  {
   "cell_type": "markdown",
   "metadata": {},
   "source": [
    "Modules are additional techniques or functions that are not present when you launch Python. Some do not even come with Python when you download it and must be installed on your machine separately - think of using `ssc install <package>` in Stata, or `install.packages(<package>)` in R. For now just understand that many useful modules need to be imported every time you start a new Python session."
   ]
  },
  {
   "cell_type": "markdown",
   "metadata": {},
   "source": [
    "Now let's make our first request to the API. First, we need to load in the API key as it is stored in a separate file.\n",
    "\n",
    "(Delete the `#` symbol if you want to see the value of the API key)."
   ]
  },
  {
   "cell_type": "code",
   "execution_count": 40,
   "metadata": {},
   "outputs": [],
   "source": [
    "api_key = open(\"./auth/guardian-api-key.txt\", \"r\").read() # open the file and read its contents\n",
    "# api_key"
   ]
  },
  {
   "cell_type": "markdown",
   "metadata": {},
   "source": [
    "Next, let's search for articles tagged with \"covid-19\"."
   ]
  },
  {
   "cell_type": "code",
   "execution_count": 41,
   "metadata": {},
   "outputs": [
    {
     "name": "stdout",
     "output_type": "stream",
     "text": [
      "http://content.guardianapis.com/search?q=covid-19\n"
     ]
    },
    {
     "data": {
      "text/plain": [
       "200"
      ]
     },
     "execution_count": 41,
     "metadata": {},
     "output_type": "execute_result"
    }
   ],
   "source": [
    "# Define web address and search terms\n",
    "\n",
    "baseurl = \"http://content.guardianapis.com/search?\" # base web address\n",
    "searchterm = \"covid-19\" # tag we are searching for\n",
    "auth = {\"api-key\": api_key} # authentication\n",
    "webadd = baseurl + \"q=\" + searchterm # construct web address for requesting\n",
    "print(webadd)\n",
    "\n",
    "# Make call to API\n",
    "\n",
    "response = requests.get(webadd, headers=auth) # request the web address\n",
    "response.status_code # check if API was requested successfully"
   ]
  },
  {
   "cell_type": "markdown",
   "metadata": {},
   "source": [
    "Let's unpack the above code, as there is a lot happening. First, we declare a variable (also known as an 'object' in Python) called `baseurl` that contains the base web address of the *Tags* endpoint. Then we declare a variable containing the tag we are interested in searching for (`search`). Next, we define a variable to store the API key that is needed when making the request (`auth`). Finally we concatenate the separate elements of our search to form a valid web address that can be requested from the API (`webadd`). <br> The next step is to use the `get()` method of the `requests` module to request the web address, and in the same line of code, we store the results of the request in a variable called `response`. Finally, we check whether the request was successful by calling on the `status_code` attribute of the `response` variable.\n",
    "\n",
    "Confused? Don't worry, the conventions of Python and using its modules take a bit of getting used to. At this point, just understand that you can store the results of commands in variables, and a variable can have different attributes that can be accessed when needed. Also note that you have a lot of freedom in how you name your variables (subject to certain restrictions - see <a href=\"https://www.python.org/dev/peps/pep-0008/\" target=_blank>here for some guidance</a>).\n",
    "\n",
    "For example, the following would also work (bonus points if you can name the brewery lending its name to the variables):"
   ]
  },
  {
   "cell_type": "code",
   "execution_count": 42,
   "metadata": {},
   "outputs": [
    {
     "name": "stdout",
     "output_type": "stream",
     "text": [
      "http://content.guardianapis.com/tags?q=covid-19\n"
     ]
    },
    {
     "data": {
      "text/plain": [
       "200"
      ]
     },
     "execution_count": 42,
     "metadata": {},
     "output_type": "execute_result"
    }
   ],
   "source": [
    "highlander = \"http://content.guardianapis.com/tags?\" # base web address\n",
    "jarl = \"covid-19\" # tag we are searching for\n",
    "avalanche = {\"api-key\": api_key} # authentication\n",
    "hurricane_jack = highlander + \"q=\" + jarl # construct web address for requesting\n",
    "print(hurricane_jack)\n",
    "\n",
    "# Make call to API\n",
    "\n",
    "beers = requests.get(webadd, headers=avalanche) # request the web address\n",
    "beers.status_code # check if API was requested successfully"
   ]
  },
  {
   "cell_type": "markdown",
   "metadata": {},
   "source": [
    "Back to the request:\n",
    "\n",
    "Good, we get a status code of _200_ - this means we made a success call to the API. <a href=\"https://www.textbook.ds100.org/ch/07/web_http.html\" target=_blank>Lau, Gonzalez and Nolan</a> provide a succinct description of different types of response status codes:\n",
    "\n",
    "* **100s** - Informational: More input is expected from client or server (e.g. 100 Continue, 102 Processing)\n",
    "* **200s** - Success: The client's request was successful (e.g. 200 OK, 202 Accepted)\n",
    "* **300s** - Redirection: Requested URL is located elsewhere; May need user's further action (e.g. 300 Multiple Choices, 301 Moved Permanently)\n",
    "* **400s** - Client Error: Client-side error (e.g. 400 Bad Request, 403 Forbidden, 404 Not Found)\n",
    "* **500s** - Server Error: Server-side error or server is incapable of performing the request (e.g. 500 Internal Server Error, 503 Service Unavailable)\n",
    "\n",
    "For clarity:\n",
    "* **Client**: your machine\n",
    "* **Server**: the machine you are requesting the web page from"
   ]
  },
  {
   "cell_type": "markdown",
   "metadata": {},
   "source": [
    "You may be wondering exactly what it is we requested. To see the content of our request, we can call the `json()` method on the `response` variable:"
   ]
  },
  {
   "cell_type": "code",
   "execution_count": 43,
   "metadata": {},
   "outputs": [
    {
     "data": {
      "text/plain": [
       "{'response': {'status': 'ok',\n",
       "  'userTier': 'developer',\n",
       "  'total': 15585,\n",
       "  'startIndex': 1,\n",
       "  'pageSize': 10,\n",
       "  'currentPage': 1,\n",
       "  'pages': 1559,\n",
       "  'orderBy': 'relevance',\n",
       "  'results': [{'id': 'world/2020/feb/27/what-is-covid-19',\n",
       "    'type': 'article',\n",
       "    'sectionId': 'world',\n",
       "    'sectionName': 'World news',\n",
       "    'webPublicationDate': '2020-03-25T07:00:39Z',\n",
       "    'webTitle': 'What is Covid-19?',\n",
       "    'webUrl': 'https://www.theguardian.com/world/2020/feb/27/what-is-covid-19',\n",
       "    'apiUrl': 'https://content.guardianapis.com/world/2020/feb/27/what-is-covid-19',\n",
       "    'isHosted': False,\n",
       "    'pillarId': 'pillar/news',\n",
       "    'pillarName': 'News'},\n",
       "   {'id': 'world/2020/apr/17/pregnancy-and-the-covid-19-frontline',\n",
       "    'type': 'article',\n",
       "    'sectionId': 'world',\n",
       "    'sectionName': 'World news',\n",
       "    'webPublicationDate': '2020-04-17T15:46:13Z',\n",
       "    'webTitle': 'Pregnancy and the Covid-19 frontline | Letters',\n",
       "    'webUrl': 'https://www.theguardian.com/world/2020/apr/17/pregnancy-and-the-covid-19-frontline',\n",
       "    'apiUrl': 'https://content.guardianapis.com/world/2020/apr/17/pregnancy-and-the-covid-19-frontline',\n",
       "    'isHosted': False,\n",
       "    'pillarId': 'pillar/news',\n",
       "    'pillarName': 'News'},\n",
       "   {'id': 'environment/2020/apr/18/covid-19-a-blessing-for-pangolins',\n",
       "    'type': 'article',\n",
       "    'sectionId': 'environment',\n",
       "    'sectionName': 'Environment',\n",
       "    'webPublicationDate': '2020-04-18T17:00:14Z',\n",
       "    'webTitle': 'Covid-19 – a blessing for pangolins?',\n",
       "    'webUrl': 'https://www.theguardian.com/environment/2020/apr/18/covid-19-a-blessing-for-pangolins',\n",
       "    'apiUrl': 'https://content.guardianapis.com/environment/2020/apr/18/covid-19-a-blessing-for-pangolins',\n",
       "    'isHosted': False,\n",
       "    'pillarId': 'pillar/news',\n",
       "    'pillarName': 'News'},\n",
       "   {'id': 'world/2020/apr/19/key-questions-for-a-covid-19-inquiry',\n",
       "    'type': 'article',\n",
       "    'sectionId': 'world',\n",
       "    'sectionName': 'World news',\n",
       "    'webPublicationDate': '2020-04-19T16:57:00Z',\n",
       "    'webTitle': 'Key questions for a Covid-19 inquiry | Letters',\n",
       "    'webUrl': 'https://www.theguardian.com/world/2020/apr/19/key-questions-for-a-covid-19-inquiry',\n",
       "    'apiUrl': 'https://content.guardianapis.com/world/2020/apr/19/key-questions-for-a-covid-19-inquiry',\n",
       "    'isHosted': False,\n",
       "    'pillarId': 'pillar/news',\n",
       "    'pillarName': 'News'},\n",
       "   {'id': 'world/2020/mar/29/first-nhs-consultant-dies-from-covid-19',\n",
       "    'type': 'article',\n",
       "    'sectionId': 'world',\n",
       "    'sectionName': 'World news',\n",
       "    'webPublicationDate': '2020-03-29T16:37:18Z',\n",
       "    'webTitle': 'NHS consultant dies from Covid-19',\n",
       "    'webUrl': 'https://www.theguardian.com/world/2020/mar/29/first-nhs-consultant-dies-from-covid-19',\n",
       "    'apiUrl': 'https://content.guardianapis.com/world/2020/mar/29/first-nhs-consultant-dies-from-covid-19',\n",
       "    'isHosted': False,\n",
       "    'pillarId': 'pillar/news',\n",
       "    'pillarName': 'News'},\n",
       "   {'id': 'world/2020/mar/25/dispatches-from-the-covid-19-frontline',\n",
       "    'type': 'article',\n",
       "    'sectionId': 'world',\n",
       "    'sectionName': 'World news',\n",
       "    'webPublicationDate': '2020-03-25T19:27:20Z',\n",
       "    'webTitle': 'Dispatches from the Covid-19 frontline',\n",
       "    'webUrl': 'https://www.theguardian.com/world/2020/mar/25/dispatches-from-the-covid-19-frontline',\n",
       "    'apiUrl': 'https://content.guardianapis.com/world/2020/mar/25/dispatches-from-the-covid-19-frontline',\n",
       "    'isHosted': False,\n",
       "    'pillarId': 'pillar/news',\n",
       "    'pillarName': 'News'},\n",
       "   {'id': 'world/2020/mar/18/russian-media-spreading-covid-19-disinformation',\n",
       "    'type': 'article',\n",
       "    'sectionId': 'world',\n",
       "    'sectionName': 'World news',\n",
       "    'webPublicationDate': '2020-03-18T16:57:30Z',\n",
       "    'webTitle': 'Russian media ‘spreading Covid-19 disinformation’',\n",
       "    'webUrl': 'https://www.theguardian.com/world/2020/mar/18/russian-media-spreading-covid-19-disinformation',\n",
       "    'apiUrl': 'https://content.guardianapis.com/world/2020/mar/18/russian-media-spreading-covid-19-disinformation',\n",
       "    'isHosted': False,\n",
       "    'pillarId': 'pillar/news',\n",
       "    'pillarName': 'News'},\n",
       "   {'id': 'environment/2020/apr/17/polluter-bailouts-and-lobbying-during-covid-19-pandemic',\n",
       "    'type': 'article',\n",
       "    'sectionId': 'environment',\n",
       "    'sectionName': 'Environment',\n",
       "    'webPublicationDate': '2020-04-17T09:00:10Z',\n",
       "    'webTitle': 'Polluter bailouts and lobbying during Covid-19 pandemic',\n",
       "    'webUrl': 'https://www.theguardian.com/environment/2020/apr/17/polluter-bailouts-and-lobbying-during-covid-19-pandemic',\n",
       "    'apiUrl': 'https://content.guardianapis.com/environment/2020/apr/17/polluter-bailouts-and-lobbying-during-covid-19-pandemic',\n",
       "    'isHosted': False,\n",
       "    'pillarId': 'pillar/news',\n",
       "    'pillarName': 'News'},\n",
       "   {'id': 'world/2020/mar/27/pregnant-covid-19-patient-stop-going-out',\n",
       "    'type': 'article',\n",
       "    'sectionId': 'world',\n",
       "    'sectionName': 'World news',\n",
       "    'webPublicationDate': '2020-03-27T12:40:57Z',\n",
       "    'webTitle': \"Pregnant Covid-19 patient: 'Stop going out'\",\n",
       "    'webUrl': 'https://www.theguardian.com/world/2020/mar/27/pregnant-covid-19-patient-stop-going-out',\n",
       "    'apiUrl': 'https://content.guardianapis.com/world/2020/mar/27/pregnant-covid-19-patient-stop-going-out',\n",
       "    'isHosted': False,\n",
       "    'pillarId': 'pillar/news',\n",
       "    'pillarName': 'News'},\n",
       "   {'id': 'world/2020/apr/04/fraudsters-exploiting-covid-19-fears-have-scammed-16m',\n",
       "    'type': 'article',\n",
       "    'sectionId': 'world',\n",
       "    'sectionName': 'World news',\n",
       "    'webPublicationDate': '2020-04-04T16:29:35Z',\n",
       "    'webTitle': 'Fraudsters exploiting Covid-19 fears have scammed £1.6m',\n",
       "    'webUrl': 'https://www.theguardian.com/world/2020/apr/04/fraudsters-exploiting-covid-19-fears-have-scammed-16m',\n",
       "    'apiUrl': 'https://content.guardianapis.com/world/2020/apr/04/fraudsters-exploiting-covid-19-fears-have-scammed-16m',\n",
       "    'isHosted': False,\n",
       "    'pillarId': 'pillar/news',\n",
       "    'pillarName': 'News'}]}}"
      ]
     },
     "execution_count": 43,
     "metadata": {},
     "output_type": "execute_result"
    }
   ],
   "source": [
    "data = response.json() \n",
    "data # view the content of the response"
   ]
  },
  {
   "cell_type": "markdown",
   "metadata": {},
   "source": [
    "Just by scanning the first few lines we can pick out useful metadata about the response: we can see our search has yielded a total of 15,582 results, and there are ten results per page spread out across 1,559 pages. We can also see where the actual search results are contained, in a section helpfully called `results`.\n",
    "\n",
    "It is important we familiarise ourselves with the hierarchical structure the results are returned to us in. Note how we needed to call the `json()` method on the `response` variable. JSON stands for Javascript Object Notation, and is a hierarchical data structure based on key-value pairs (known as *items*), which are separated by commas (Brooker, 2020; Tagliaferri, n.d.). In our example, the `total` key stores the value `15582`. The hierarchical structure is possible because a key can contain a list of other key-value pairs (items). For example, the `results` key contains a list of items relating to each search result.\n",
    "\n",
    "A JSON data structure (known in Python as a *dictionary*) can be difficult to understand at first, in no small part due to the unappealing presentation format. Thankfully, Python provides some intuitive methods for navigating and processing this data structure."
   ]
  },
  {
   "cell_type": "markdown",
   "metadata": {},
   "source": [
    "List the keys contained in a dictionary:"
   ]
  },
  {
   "cell_type": "code",
   "execution_count": 44,
   "metadata": {},
   "outputs": [
    {
     "data": {
      "text/plain": [
       "dict_keys(['response'])"
      ]
     },
     "execution_count": 44,
     "metadata": {},
     "output_type": "execute_result"
    }
   ],
   "source": [
    "data.keys()"
   ]
  },
  {
   "cell_type": "markdown",
   "metadata": {},
   "source": [
    "The data are contained "
   ]
  },
  {
   "cell_type": "code",
   "execution_count": 45,
   "metadata": {},
   "outputs": [
    {
     "data": {
      "text/plain": [
       "dict_keys(['status', 'userTier', 'total', 'startIndex', 'pageSize', 'currentPage', 'pages', 'orderBy', 'results'])"
      ]
     },
     "execution_count": 45,
     "metadata": {},
     "output_type": "execute_result"
    }
   ],
   "source": [
    "data[\"response\"].keys() # list keys contained in the \"response\" key"
   ]
  },
  {
   "cell_type": "markdown",
   "metadata": {},
   "source": [
    "Note how we mentioned that keys can contain a list of other key-value pairs. A *list* is a Python data type used to store ordered sequences of elements (Tagliaferri, n.d.). Let's see how we can deal with lists by examining the `results` key:"
   ]
  },
  {
   "cell_type": "code",
   "execution_count": 46,
   "metadata": {},
   "outputs": [
    {
     "data": {
      "text/plain": [
       "[{'id': 'world/2020/feb/27/what-is-covid-19',\n",
       "  'type': 'article',\n",
       "  'sectionId': 'world',\n",
       "  'sectionName': 'World news',\n",
       "  'webPublicationDate': '2020-03-25T07:00:39Z',\n",
       "  'webTitle': 'What is Covid-19?',\n",
       "  'webUrl': 'https://www.theguardian.com/world/2020/feb/27/what-is-covid-19',\n",
       "  'apiUrl': 'https://content.guardianapis.com/world/2020/feb/27/what-is-covid-19',\n",
       "  'isHosted': False,\n",
       "  'pillarId': 'pillar/news',\n",
       "  'pillarName': 'News'},\n",
       " {'id': 'world/2020/apr/17/pregnancy-and-the-covid-19-frontline',\n",
       "  'type': 'article',\n",
       "  'sectionId': 'world',\n",
       "  'sectionName': 'World news',\n",
       "  'webPublicationDate': '2020-04-17T15:46:13Z',\n",
       "  'webTitle': 'Pregnancy and the Covid-19 frontline | Letters',\n",
       "  'webUrl': 'https://www.theguardian.com/world/2020/apr/17/pregnancy-and-the-covid-19-frontline',\n",
       "  'apiUrl': 'https://content.guardianapis.com/world/2020/apr/17/pregnancy-and-the-covid-19-frontline',\n",
       "  'isHosted': False,\n",
       "  'pillarId': 'pillar/news',\n",
       "  'pillarName': 'News'},\n",
       " {'id': 'environment/2020/apr/18/covid-19-a-blessing-for-pangolins',\n",
       "  'type': 'article',\n",
       "  'sectionId': 'environment',\n",
       "  'sectionName': 'Environment',\n",
       "  'webPublicationDate': '2020-04-18T17:00:14Z',\n",
       "  'webTitle': 'Covid-19 – a blessing for pangolins?',\n",
       "  'webUrl': 'https://www.theguardian.com/environment/2020/apr/18/covid-19-a-blessing-for-pangolins',\n",
       "  'apiUrl': 'https://content.guardianapis.com/environment/2020/apr/18/covid-19-a-blessing-for-pangolins',\n",
       "  'isHosted': False,\n",
       "  'pillarId': 'pillar/news',\n",
       "  'pillarName': 'News'},\n",
       " {'id': 'world/2020/apr/19/key-questions-for-a-covid-19-inquiry',\n",
       "  'type': 'article',\n",
       "  'sectionId': 'world',\n",
       "  'sectionName': 'World news',\n",
       "  'webPublicationDate': '2020-04-19T16:57:00Z',\n",
       "  'webTitle': 'Key questions for a Covid-19 inquiry | Letters',\n",
       "  'webUrl': 'https://www.theguardian.com/world/2020/apr/19/key-questions-for-a-covid-19-inquiry',\n",
       "  'apiUrl': 'https://content.guardianapis.com/world/2020/apr/19/key-questions-for-a-covid-19-inquiry',\n",
       "  'isHosted': False,\n",
       "  'pillarId': 'pillar/news',\n",
       "  'pillarName': 'News'},\n",
       " {'id': 'world/2020/mar/29/first-nhs-consultant-dies-from-covid-19',\n",
       "  'type': 'article',\n",
       "  'sectionId': 'world',\n",
       "  'sectionName': 'World news',\n",
       "  'webPublicationDate': '2020-03-29T16:37:18Z',\n",
       "  'webTitle': 'NHS consultant dies from Covid-19',\n",
       "  'webUrl': 'https://www.theguardian.com/world/2020/mar/29/first-nhs-consultant-dies-from-covid-19',\n",
       "  'apiUrl': 'https://content.guardianapis.com/world/2020/mar/29/first-nhs-consultant-dies-from-covid-19',\n",
       "  'isHosted': False,\n",
       "  'pillarId': 'pillar/news',\n",
       "  'pillarName': 'News'},\n",
       " {'id': 'world/2020/mar/25/dispatches-from-the-covid-19-frontline',\n",
       "  'type': 'article',\n",
       "  'sectionId': 'world',\n",
       "  'sectionName': 'World news',\n",
       "  'webPublicationDate': '2020-03-25T19:27:20Z',\n",
       "  'webTitle': 'Dispatches from the Covid-19 frontline',\n",
       "  'webUrl': 'https://www.theguardian.com/world/2020/mar/25/dispatches-from-the-covid-19-frontline',\n",
       "  'apiUrl': 'https://content.guardianapis.com/world/2020/mar/25/dispatches-from-the-covid-19-frontline',\n",
       "  'isHosted': False,\n",
       "  'pillarId': 'pillar/news',\n",
       "  'pillarName': 'News'},\n",
       " {'id': 'world/2020/mar/18/russian-media-spreading-covid-19-disinformation',\n",
       "  'type': 'article',\n",
       "  'sectionId': 'world',\n",
       "  'sectionName': 'World news',\n",
       "  'webPublicationDate': '2020-03-18T16:57:30Z',\n",
       "  'webTitle': 'Russian media ‘spreading Covid-19 disinformation’',\n",
       "  'webUrl': 'https://www.theguardian.com/world/2020/mar/18/russian-media-spreading-covid-19-disinformation',\n",
       "  'apiUrl': 'https://content.guardianapis.com/world/2020/mar/18/russian-media-spreading-covid-19-disinformation',\n",
       "  'isHosted': False,\n",
       "  'pillarId': 'pillar/news',\n",
       "  'pillarName': 'News'},\n",
       " {'id': 'environment/2020/apr/17/polluter-bailouts-and-lobbying-during-covid-19-pandemic',\n",
       "  'type': 'article',\n",
       "  'sectionId': 'environment',\n",
       "  'sectionName': 'Environment',\n",
       "  'webPublicationDate': '2020-04-17T09:00:10Z',\n",
       "  'webTitle': 'Polluter bailouts and lobbying during Covid-19 pandemic',\n",
       "  'webUrl': 'https://www.theguardian.com/environment/2020/apr/17/polluter-bailouts-and-lobbying-during-covid-19-pandemic',\n",
       "  'apiUrl': 'https://content.guardianapis.com/environment/2020/apr/17/polluter-bailouts-and-lobbying-during-covid-19-pandemic',\n",
       "  'isHosted': False,\n",
       "  'pillarId': 'pillar/news',\n",
       "  'pillarName': 'News'},\n",
       " {'id': 'world/2020/mar/27/pregnant-covid-19-patient-stop-going-out',\n",
       "  'type': 'article',\n",
       "  'sectionId': 'world',\n",
       "  'sectionName': 'World news',\n",
       "  'webPublicationDate': '2020-03-27T12:40:57Z',\n",
       "  'webTitle': \"Pregnant Covid-19 patient: 'Stop going out'\",\n",
       "  'webUrl': 'https://www.theguardian.com/world/2020/mar/27/pregnant-covid-19-patient-stop-going-out',\n",
       "  'apiUrl': 'https://content.guardianapis.com/world/2020/mar/27/pregnant-covid-19-patient-stop-going-out',\n",
       "  'isHosted': False,\n",
       "  'pillarId': 'pillar/news',\n",
       "  'pillarName': 'News'},\n",
       " {'id': 'world/2020/apr/04/fraudsters-exploiting-covid-19-fears-have-scammed-16m',\n",
       "  'type': 'article',\n",
       "  'sectionId': 'world',\n",
       "  'sectionName': 'World news',\n",
       "  'webPublicationDate': '2020-04-04T16:29:35Z',\n",
       "  'webTitle': 'Fraudsters exploiting Covid-19 fears have scammed £1.6m',\n",
       "  'webUrl': 'https://www.theguardian.com/world/2020/apr/04/fraudsters-exploiting-covid-19-fears-have-scammed-16m',\n",
       "  'apiUrl': 'https://content.guardianapis.com/world/2020/apr/04/fraudsters-exploiting-covid-19-fears-have-scammed-16m',\n",
       "  'isHosted': False,\n",
       "  'pillarId': 'pillar/news',\n",
       "  'pillarName': 'News'}]"
      ]
     },
     "execution_count": 46,
     "metadata": {},
     "output_type": "execute_result"
    }
   ],
   "source": [
    "search_results = data[\"response\"][\"results\"] \n",
    "search_results # view the contents of the \"results\" key nested within the \"response\" key"
   ]
  },
  {
   "cell_type": "markdown",
   "metadata": {},
   "source": [
    "A list can be identified by its values being enclosed in square parentheses (`[]`), however we can just ask Python to confirm the data type:"
   ]
  },
  {
   "cell_type": "code",
   "execution_count": 47,
   "metadata": {},
   "outputs": [
    {
     "data": {
      "text/plain": [
       "list"
      ]
     },
     "execution_count": 47,
     "metadata": {},
     "output_type": "execute_result"
    }
   ],
   "source": [
    "type(search_results)"
   ]
  },
  {
   "cell_type": "markdown",
   "metadata": {},
   "source": [
    "We can check how many elements are in a list by calling on the `len()` function:"
   ]
  },
  {
   "cell_type": "code",
   "execution_count": 48,
   "metadata": {},
   "outputs": [
    {
     "data": {
      "text/plain": [
       "10"
      ]
     },
     "execution_count": 48,
     "metadata": {},
     "output_type": "execute_result"
    }
   ],
   "source": [
    "len(search_results)"
   ]
  },
  {
   "cell_type": "markdown",
   "metadata": {},
   "source": [
    "We can view each element in the list of results as follows:"
   ]
  },
  {
   "cell_type": "code",
   "execution_count": 49,
   "metadata": {},
   "outputs": [
    {
     "name": "stdout",
     "output_type": "stream",
     "text": [
      "article\n",
      "World news\n",
      "2020-03-25T07:00:39Z\n",
      "\r\n",
      "-------------\n",
      "\r\n",
      "article\n",
      "World news\n",
      "2020-04-17T15:46:13Z\n",
      "\r\n",
      "-------------\n",
      "\r\n",
      "article\n",
      "Environment\n",
      "2020-04-18T17:00:14Z\n",
      "\r\n",
      "-------------\n",
      "\r\n",
      "article\n",
      "World news\n",
      "2020-04-19T16:57:00Z\n",
      "\r\n",
      "-------------\n",
      "\r\n",
      "article\n",
      "World news\n",
      "2020-03-29T16:37:18Z\n",
      "\r\n",
      "-------------\n",
      "\r\n",
      "article\n",
      "World news\n",
      "2020-03-25T19:27:20Z\n",
      "\r\n",
      "-------------\n",
      "\r\n",
      "article\n",
      "World news\n",
      "2020-03-18T16:57:30Z\n",
      "\r\n",
      "-------------\n",
      "\r\n",
      "article\n",
      "Environment\n",
      "2020-04-17T09:00:10Z\n",
      "\r\n",
      "-------------\n",
      "\r\n",
      "article\n",
      "World news\n",
      "2020-03-27T12:40:57Z\n",
      "\r\n",
      "-------------\n",
      "\r\n",
      "article\n",
      "World news\n",
      "2020-04-04T16:29:35Z\n",
      "\r\n",
      "-------------\n",
      "\r\n"
     ]
    }
   ],
   "source": [
    "for result in search_results:\n",
    "    print(result[\"type\"]) # view content type\n",
    "    print(result[\"sectionName\"]) # view newspaper section content appeared in\n",
    "    print(result[\"webPublicationDate\"]) # view date content was published online\n",
    "    print(\"\\r\")\n",
    "    print(\"-------------\")\n",
    "    print(\"\\r\")"
   ]
  },
  {
   "cell_type": "markdown",
   "metadata": {},
   "source": [
    "### Saving results\n",
    "\n",
    "The final task is to save the data to a file that we can use in the future. We'll write to a JSON file, as this is the format the data were returned in."
   ]
  },
  {
   "cell_type": "code",
   "execution_count": 50,
   "metadata": {},
   "outputs": [
    {
     "name": "stdout",
     "output_type": "stream",
     "text": [
      "Unable to create folder: already exists\n"
     ]
    }
   ],
   "source": [
    "# Create a downloads folder\n",
    "\n",
    "try:\n",
    "    os.mkdir(\"./downloads\")\n",
    "except:\n",
    "    print(\"Unable to create folder: already exists\")"
   ]
  },
  {
   "cell_type": "markdown",
   "metadata": {},
   "source": [
    "The use of \"./\" tells the `os.mkdir()` command that the \"downloads\" folder should be created at the same level of the directory where this notebook is located. So if this notebook was stored in a directory located at \"C:/Users/joebloggs/notebooks\", the `os.mkdir()` command would result in a new folder located at \"C:/Users/joebloggs/notebooks/downloads\".\n",
    "   \n",
    "(Technically the \"./\" is not needed and you could just write `os.mkdir(\"downloads\")` but it's good practice to be explicit)"
   ]
  },
  {
   "cell_type": "code",
   "execution_count": 51,
   "metadata": {},
   "outputs": [
    {
     "name": "stdout",
     "output_type": "stream",
     "text": [
      "2020-04-27\n"
     ]
    }
   ],
   "source": [
    "# Write the results to a JSON file\n",
    "\n",
    "date = datetime.now().strftime(\"%Y-%m-%d\") # get today's date in YYYY-MM-DD format\n",
    "print(date)\n",
    "\n",
    "outfile = \"./downloads/guardian-api-covid-19-search-\" + date + \".json\"\n",
    "\n",
    "with open(outfile, \"w\") as f:\n",
    "    json.dump(data, f)"
   ]
  },
  {
   "cell_type": "markdown",
   "metadata": {},
   "source": [
    "The code above defines a name and location for the file which will store the results of the API request. We then open the file in *write* mode and save (or \"dump\") the contents of the `data` variable to it."
   ]
  },
  {
   "cell_type": "markdown",
   "metadata": {},
   "source": [
    "How do we know this worked? The simplest way is to check whether a) the file was created, and b) the results were written to it."
   ]
  },
  {
   "cell_type": "code",
   "execution_count": 52,
   "metadata": {},
   "outputs": [
    {
     "data": {
      "text/plain": [
       "['covid-19-country-statistics-2020-04-23.csv',\n",
       " 'covid-19-statistics-2020-04-23.csv',\n",
       " 'guardian-api-covid-19-search-2020-04-27.json']"
      ]
     },
     "execution_count": 52,
     "metadata": {},
     "output_type": "execute_result"
    }
   ],
   "source": [
    "# Check presence of file in \"downloads\" folder\n",
    "\n",
    "os.listdir(\"./downloads\")"
   ]
  },
  {
   "cell_type": "code",
   "execution_count": 53,
   "metadata": {},
   "outputs": [
    {
     "name": "stdout",
     "output_type": "stream",
     "text": [
      "{'response': {'status': 'ok', 'userTier': 'developer', 'total': 15585, 'startIndex': 1, 'pageSize': 10, 'currentPage': 1, 'pages': 1559, 'orderBy': 'relevance', 'results': [{'id': 'world/2020/feb/27/what-is-covid-19', 'type': 'article', 'sectionId': 'world', 'sectionName': 'World news', 'webPublicationDate': '2020-03-25T07:00:39Z', 'webTitle': 'What is Covid-19?', 'webUrl': 'https://www.theguardian.com/world/2020/feb/27/what-is-covid-19', 'apiUrl': 'https://content.guardianapis.com/world/2020/feb/27/what-is-covid-19', 'isHosted': False, 'pillarId': 'pillar/news', 'pillarName': 'News'}, {'id': 'world/2020/apr/17/pregnancy-and-the-covid-19-frontline', 'type': 'article', 'sectionId': 'world', 'sectionName': 'World news', 'webPublicationDate': '2020-04-17T15:46:13Z', 'webTitle': 'Pregnancy and the Covid-19 frontline | Letters', 'webUrl': 'https://www.theguardian.com/world/2020/apr/17/pregnancy-and-the-covid-19-frontline', 'apiUrl': 'https://content.guardianapis.com/world/2020/apr/17/pregnancy-and-the-covid-19-frontline', 'isHosted': False, 'pillarId': 'pillar/news', 'pillarName': 'News'}, {'id': 'environment/2020/apr/18/covid-19-a-blessing-for-pangolins', 'type': 'article', 'sectionId': 'environment', 'sectionName': 'Environment', 'webPublicationDate': '2020-04-18T17:00:14Z', 'webTitle': 'Covid-19 – a blessing for pangolins?', 'webUrl': 'https://www.theguardian.com/environment/2020/apr/18/covid-19-a-blessing-for-pangolins', 'apiUrl': 'https://content.guardianapis.com/environment/2020/apr/18/covid-19-a-blessing-for-pangolins', 'isHosted': False, 'pillarId': 'pillar/news', 'pillarName': 'News'}, {'id': 'world/2020/apr/19/key-questions-for-a-covid-19-inquiry', 'type': 'article', 'sectionId': 'world', 'sectionName': 'World news', 'webPublicationDate': '2020-04-19T16:57:00Z', 'webTitle': 'Key questions for a Covid-19 inquiry | Letters', 'webUrl': 'https://www.theguardian.com/world/2020/apr/19/key-questions-for-a-covid-19-inquiry', 'apiUrl': 'https://content.guardianapis.com/world/2020/apr/19/key-questions-for-a-covid-19-inquiry', 'isHosted': False, 'pillarId': 'pillar/news', 'pillarName': 'News'}, {'id': 'world/2020/mar/29/first-nhs-consultant-dies-from-covid-19', 'type': 'article', 'sectionId': 'world', 'sectionName': 'World news', 'webPublicationDate': '2020-03-29T16:37:18Z', 'webTitle': 'NHS consultant dies from Covid-19', 'webUrl': 'https://www.theguardian.com/world/2020/mar/29/first-nhs-consultant-dies-from-covid-19', 'apiUrl': 'https://content.guardianapis.com/world/2020/mar/29/first-nhs-consultant-dies-from-covid-19', 'isHosted': False, 'pillarId': 'pillar/news', 'pillarName': 'News'}, {'id': 'world/2020/mar/25/dispatches-from-the-covid-19-frontline', 'type': 'article', 'sectionId': 'world', 'sectionName': 'World news', 'webPublicationDate': '2020-03-25T19:27:20Z', 'webTitle': 'Dispatches from the Covid-19 frontline', 'webUrl': 'https://www.theguardian.com/world/2020/mar/25/dispatches-from-the-covid-19-frontline', 'apiUrl': 'https://content.guardianapis.com/world/2020/mar/25/dispatches-from-the-covid-19-frontline', 'isHosted': False, 'pillarId': 'pillar/news', 'pillarName': 'News'}, {'id': 'world/2020/mar/18/russian-media-spreading-covid-19-disinformation', 'type': 'article', 'sectionId': 'world', 'sectionName': 'World news', 'webPublicationDate': '2020-03-18T16:57:30Z', 'webTitle': 'Russian media ‘spreading Covid-19 disinformation’', 'webUrl': 'https://www.theguardian.com/world/2020/mar/18/russian-media-spreading-covid-19-disinformation', 'apiUrl': 'https://content.guardianapis.com/world/2020/mar/18/russian-media-spreading-covid-19-disinformation', 'isHosted': False, 'pillarId': 'pillar/news', 'pillarName': 'News'}, {'id': 'environment/2020/apr/17/polluter-bailouts-and-lobbying-during-covid-19-pandemic', 'type': 'article', 'sectionId': 'environment', 'sectionName': 'Environment', 'webPublicationDate': '2020-04-17T09:00:10Z', 'webTitle': 'Polluter bailouts and lobbying during Covid-19 pandemic', 'webUrl': 'https://www.theguardian.com/environment/2020/apr/17/polluter-bailouts-and-lobbying-during-covid-19-pandemic', 'apiUrl': 'https://content.guardianapis.com/environment/2020/apr/17/polluter-bailouts-and-lobbying-during-covid-19-pandemic', 'isHosted': False, 'pillarId': 'pillar/news', 'pillarName': 'News'}, {'id': 'world/2020/mar/27/pregnant-covid-19-patient-stop-going-out', 'type': 'article', 'sectionId': 'world', 'sectionName': 'World news', 'webPublicationDate': '2020-03-27T12:40:57Z', 'webTitle': \"Pregnant Covid-19 patient: 'Stop going out'\", 'webUrl': 'https://www.theguardian.com/world/2020/mar/27/pregnant-covid-19-patient-stop-going-out', 'apiUrl': 'https://content.guardianapis.com/world/2020/mar/27/pregnant-covid-19-patient-stop-going-out', 'isHosted': False, 'pillarId': 'pillar/news', 'pillarName': 'News'}, {'id': 'world/2020/apr/04/fraudsters-exploiting-covid-19-fears-have-scammed-16m', 'type': 'article', 'sectionId': 'world', 'sectionName': 'World news', 'webPublicationDate': '2020-04-04T16:29:35Z', 'webTitle': 'Fraudsters exploiting Covid-19 fears have scammed £1.6m', 'webUrl': 'https://www.theguardian.com/world/2020/apr/04/fraudsters-exploiting-covid-19-fears-have-scammed-16m', 'apiUrl': 'https://content.guardianapis.com/world/2020/apr/04/fraudsters-exploiting-covid-19-fears-have-scammed-16m', 'isHosted': False, 'pillarId': 'pillar/news', 'pillarName': 'News'}]}}\n"
     ]
    }
   ],
   "source": [
    "# Open file and read (import) its contents\n",
    "\n",
    "with open(outfile, \"r\") as f:\n",
    "    data = json.load(f)\n",
    "    \n",
    "print(data)"
   ]
  },
  {
   "cell_type": "markdown",
   "metadata": {},
   "source": [
    "And Voila, we have successfully requested data using an API!"
   ]
  },
  {
   "cell_type": "markdown",
   "metadata": {},
   "source": [
    "### Comprehensive Covid-19 data\n",
    "\n",
    "We will complete our work gathering data on articles relating to Covid-19 by refining our request and handling of the response. In particular, we will deal with the following outstanding issues:\n",
    "* Dealing with multiple pages of results\n",
    "* Testing additional search terms\n",
    "* Extracting a subset of the results and saving this information to a different file format (CSV)\n",
    "* Handling the rate limit"
   ]
  },
  {
   "cell_type": "markdown",
   "metadata": {},
   "source": [
    "Let's get some the preliminaries out of the way:"
   ]
  },
  {
   "cell_type": "code",
   "execution_count": 56,
   "metadata": {},
   "outputs": [],
   "source": [
    "import os\n",
    "import requests\n",
    "import json\n",
    "import pandas as pd\n",
    "from datetime import datetime\n",
    "from bs4 import BeautifulSoup as soup\n",
    "\n",
    "date = datetime.now().strftime(\"%Y-%m-%d\")"
   ]
  },
  {
   "cell_type": "markdown",
   "metadata": {},
   "source": [
    "#### Dealing with multiple pages of results\n",
    "\n",
    "Sticking with our previous example, we noted how the search results were restricted to ten per page. There are a couple of ways of dealing with this issue:\n",
    "* Increasing the number of results returned per page; AND\n",
    "* Requesting each individual page of results\n",
    "\n",
    "First, increase the number of results per page using the `page-size` filter:"
   ]
  },
  {
   "cell_type": "code",
   "execution_count": 58,
   "metadata": {},
   "outputs": [
    {
     "name": "stdout",
     "output_type": "stream",
     "text": [
      "http://content.guardianapis.com/search?q=covid-19&page-size=50\n"
     ]
    },
    {
     "data": {
      "text/plain": [
       "200"
      ]
     },
     "execution_count": 58,
     "metadata": {},
     "output_type": "execute_result"
    }
   ],
   "source": [
    "# Define web address and search terms\n",
    "\n",
    "baseurl = \"http://content.guardianapis.com/search?\" # base web address\n",
    "searchterm = \"covid-19\" # tag we are searching for\n",
    "auth = {\"api-key\": api_key} # authentication\n",
    "numresults = \"50\" # number of results per page\n",
    "webadd = baseurl + \"q=\" + searchterm + \"&page-size=\" + numresults  # construct web address for requesting\n",
    "print(webadd)\n",
    "\n",
    "# Make call to API\n",
    "\n",
    "response = requests.get(webadd, headers=auth) # request the web address\n",
    "response.status_code # check if API was requested successfully"
   ]
  },
  {
   "cell_type": "markdown",
   "metadata": {},
   "source": [
    "Confirm the `page-size` filter was applied:"
   ]
  },
  {
   "cell_type": "code",
   "execution_count": 60,
   "metadata": {},
   "outputs": [
    {
     "data": {
      "text/plain": [
       "50"
      ]
     },
     "execution_count": 60,
     "metadata": {},
     "output_type": "execute_result"
    }
   ],
   "source": [
    "data = response.json()\n",
    "data[\"response\"][\"pageSize\"]"
   ]
  },
  {
   "cell_type": "markdown",
   "metadata": {},
   "source": [
    "Good, now let's request each page of results. We start by finding out how many pages we need to request:"
   ]
  },
  {
   "cell_type": "code",
   "execution_count": 66,
   "metadata": {},
   "outputs": [
    {
     "data": {
      "text/plain": [
       "313"
      ]
     },
     "execution_count": 66,
     "metadata": {},
     "output_type": "execute_result"
    }
   ],
   "source": [
    "total_pages = data[\"response\"][\"pages\"]\n",
    "total_pages = total_pages + 1\n",
    "total_pages"
   ]
  },
  {
   "cell_type": "markdown",
   "metadata": {},
   "source": [
    "Note how we needed to add one to the total number of pages. This is because of the way Python loops over a range of numbers. For example, the code below loops over numbers beginning at one and **up to but not including** five:"
   ]
  },
  {
   "cell_type": "code",
   "execution_count": 68,
   "metadata": {},
   "outputs": [
    {
     "name": "stdout",
     "output_type": "stream",
     "text": [
      "1\n",
      "2\n",
      "3\n",
      "4\n"
     ]
    }
   ],
   "source": [
    "for i in range(1, 5):\n",
    "    print(i)"
   ]
  },
  {
   "cell_type": "markdown",
   "metadata": {},
   "source": [
    "Requesting 312 pages may take a while, so let's just request the first 20 pages:"
   ]
  },
  {
   "cell_type": "code",
   "execution_count": 71,
   "metadata": {},
   "outputs": [
    {
     "name": "stdout",
     "output_type": "stream",
     "text": [
      "http://content.guardianapis.com/search?q=covid-19&page-size=50&page=1\n",
      "http://content.guardianapis.com/search?q=covid-19&page-size=50&page=2\n",
      "http://content.guardianapis.com/search?q=covid-19&page-size=50&page=3\n",
      "http://content.guardianapis.com/search?q=covid-19&page-size=50&page=4\n",
      "http://content.guardianapis.com/search?q=covid-19&page-size=50&page=5\n",
      "http://content.guardianapis.com/search?q=covid-19&page-size=50&page=6\n",
      "http://content.guardianapis.com/search?q=covid-19&page-size=50&page=7\n",
      "http://content.guardianapis.com/search?q=covid-19&page-size=50&page=8\n",
      "http://content.guardianapis.com/search?q=covid-19&page-size=50&page=9\n",
      "http://content.guardianapis.com/search?q=covid-19&page-size=50&page=10\n",
      "http://content.guardianapis.com/search?q=covid-19&page-size=50&page=11\n",
      "http://content.guardianapis.com/search?q=covid-19&page-size=50&page=12\n",
      "http://content.guardianapis.com/search?q=covid-19&page-size=50&page=13\n",
      "http://content.guardianapis.com/search?q=covid-19&page-size=50&page=14\n",
      "http://content.guardianapis.com/search?q=covid-19&page-size=50&page=15\n",
      "http://content.guardianapis.com/search?q=covid-19&page-size=50&page=16\n",
      "http://content.guardianapis.com/search?q=covid-19&page-size=50&page=17\n",
      "http://content.guardianapis.com/search?q=covid-19&page-size=50&page=18\n",
      "http://content.guardianapis.com/search?q=covid-19&page-size=50&page=19\n",
      "http://content.guardianapis.com/search?q=covid-19&page-size=50&page=20\n"
     ]
    }
   ],
   "source": [
    "for pagenum in range(1, 21):\n",
    "    \n",
    "    baseurl = \"http://content.guardianapis.com/search?\" # base web address\n",
    "    searchterm = \"covid-19\" # tag we are searching for\n",
    "    auth = {\"api-key\": api_key} # authentication\n",
    "    numresults = \"50\" # number of results per page\n",
    "    webadd = baseurl + \"q=\" + searchterm + \"&page-size=\" + numresults \\\n",
    "        + \"&page=\" + str(pagenum) # construct web address for requesting\n",
    "    print(webadd)\n",
    "\n",
    "    # Make call to API\n",
    "\n",
    "    response = requests.get(webadd, headers=auth) # request the web address\n",
    "    response.status_code # check if API was requested successfully\n",
    "    \n",
    "    # Save to file\n",
    "    \n",
    "    outfile = \"./downloads/guardian-api-covid-19-search-page-\" \\\n",
    "        + str(pagenum) + \"-\" + date + \".json\"\n",
    "\n",
    "    with open(outfile, \"w\") as f:\n",
    "        json.dump(data, f)"
   ]
  },
  {
   "cell_type": "code",
   "execution_count": 72,
   "metadata": {},
   "outputs": [
    {
     "data": {
      "text/plain": [
       "['covid-19-country-statistics-2020-04-23.csv',\n",
       " 'covid-19-statistics-2020-04-23.csv',\n",
       " 'guardian-api-covid-19-search-2020-04-27.json',\n",
       " 'guardian-api-covid-19-search-page-1-2020-04-27.json',\n",
       " 'guardian-api-covid-19-search-page-10-2020-04-27.json',\n",
       " 'guardian-api-covid-19-search-page-11-2020-04-27.json',\n",
       " 'guardian-api-covid-19-search-page-12-2020-04-27.json',\n",
       " 'guardian-api-covid-19-search-page-13-2020-04-27.json',\n",
       " 'guardian-api-covid-19-search-page-14-2020-04-27.json',\n",
       " 'guardian-api-covid-19-search-page-15-2020-04-27.json',\n",
       " 'guardian-api-covid-19-search-page-16-2020-04-27.json',\n",
       " 'guardian-api-covid-19-search-page-17-2020-04-27.json',\n",
       " 'guardian-api-covid-19-search-page-18-2020-04-27.json',\n",
       " 'guardian-api-covid-19-search-page-19-2020-04-27.json',\n",
       " 'guardian-api-covid-19-search-page-2-2020-04-27.json',\n",
       " 'guardian-api-covid-19-search-page-20-2020-04-27.json',\n",
       " 'guardian-api-covid-19-search-page-3-2020-04-27.json',\n",
       " 'guardian-api-covid-19-search-page-4-2020-04-27.json',\n",
       " 'guardian-api-covid-19-search-page-5-2020-04-27.json',\n",
       " 'guardian-api-covid-19-search-page-6-2020-04-27.json',\n",
       " 'guardian-api-covid-19-search-page-7-2020-04-27.json',\n",
       " 'guardian-api-covid-19-search-page-8-2020-04-27.json',\n",
       " 'guardian-api-covid-19-search-page-9-2020-04-27.json']"
      ]
     },
     "execution_count": 72,
     "metadata": {},
     "output_type": "execute_result"
    }
   ],
   "source": [
    "os.listdir(\"./downloads\")"
   ]
  },
  {
   "cell_type": "markdown",
   "metadata": {},
   "source": [
    "For our first example we will attempt to download data on 'Stop and searches' activity by police forces in England, Wales and Northern Ireland. We will use open police data available at [https://data.police.uk/](https://data.police.uk/).\n",
    "\n",
    "Let's see how we can use Python to achieve this task."
   ]
  },
  {
   "cell_type": "code",
   "execution_count": null,
   "metadata": {},
   "outputs": [],
   "source": [
    "## Title: Downloading 'Stop and search' police data\n",
    "## Created: 10/02/2020\n",
    "## Creater: Diarmuid McDonnell, University of Manchester\n",
    "\n",
    "# Importing modules #\n",
    "\n",
    "# Python comes with a large suite of ready-to-use functions; however, some must be explicitly downloaded and imported \n",
    "# into your Python session. \n",
    "#\n",
    "# A module bundles together code, data, documentation and tests, and provides an easy method to share with others.\n",
    "\n",
    "try:\n",
    "    import requests # module for requesting urls\n",
    "    import csv # module for handling csv files\n",
    "    import json # module for handling json data\n",
    "    import os # module for performing operating system tasks\n",
    "    print(\"Successfully imported modules\")\n",
    "except:\n",
    "    print(\"Did not import one or more modules!\")   "
   ]
  },
  {
   "cell_type": "markdown",
   "metadata": {},
   "source": [
    "**QUESTION:** What do you think the ```try, except``` block does? "
   ]
  },
  {
   "cell_type": "markdown",
   "metadata": {},
   "source": [
    " "
   ]
  },
  {
   "cell_type": "markdown",
   "metadata": {},
   "source": [
    "The next step is to figure out what datasets are available through the API and how they can be accessed. This can only be learned by reading the [API documentation](https://data.police.uk/docs/).\n",
    "\n",
    "The unique id or name of a dataset available via an API is known as an *endpoint*. For example, 'Stop and search' data is available via the ```stops-street``` endpoint, and we would request this dataset by sending the following URL to the API: ```https://data.police.uk/api/stops-street?``` (any characters following the '?' symbol represent customisable search terms e.g. 'Stop and search' data for certain areas)."
   ]
  },
  {
   "cell_type": "code",
   "execution_count": null,
   "metadata": {},
   "outputs": [],
   "source": [
    "# Exploring the Police API #\n",
    "\n",
    "# See what 'Stop and search' datasets are available\n",
    "\n",
    "datasets = 'https://data.police.uk/api/crimes-street-dates' # define the endpoint where a list of available datasets is found\n",
    "\n",
    "\n",
    "# Request the list of available datasets from the above endpoint\n",
    "\n",
    "response = requests.get(datasets, allow_redirects=True) # request the url\n",
    "print(\"----------------------------\") # additional print() commands to format output\n",
    "print(\"\\r\")\n",
    "print(response.status_code, \" | \", response.headers) # print the metadata behind the request to see if it was successful\n",
    "print(\"\\r\")"
   ]
  },
  {
   "cell_type": "markdown",
   "metadata": {},
   "source": [
    "The status code is **200**, signifying we made a successful request to the API. Now let's examine the contents of the request i.e. the list of available datasets:"
   ]
  },
  {
   "cell_type": "code",
   "execution_count": null,
   "metadata": {},
   "outputs": [],
   "source": [
    "sdata = json.loads(response.content) # store the returned response as a json object (easier for manipulating and saving)\n",
    "print(type(sdata)) # view the response type\n",
    "sdata[0] # view the first item in the list"
   ]
  },
  {
   "cell_type": "markdown",
   "metadata": {},
   "source": [
    "Let's parse the results of the API request:\n",
    "1. We store the returned response - a list of all 'Stop and search' data available via the API - as a json object; this makes it easier to manipulate the contents and save to a file.\n",
    "2. We ask Python to tell us what data type we are dealing with. In this instance it is a ```list```."
   ]
  },
  {
   "cell_type": "markdown",
   "metadata": {},
   "source": [
    "## Value, limitations and ethics\n",
    "\n",
    "Computational methods for collecting data from the web are an increasingly important component of a social scientist's toolkit. They enable individuals to collect and reshape data - qualitative and quantitative - that otherwise would be inaccessible for research purposes. Thus far, this notebook has focused on the logic and practice of using APIs, however it is crucial we reflect critically on its value, limitations and ethical implications for social science purposes."
   ]
  },
  {
   "cell_type": "markdown",
   "metadata": {},
   "source": [
    "## Conclusion\n",
    "\n",
    "*Web-scraping is a simple yet powerful computational method for collecting data of value for social science research. It provides a relatively gentle introduction to using programming languages, also. However, \"with great power comes great responsibility\" (sorry). Web-scraping takes you into the realm of data protection, website Terms of Service (ToS), and many murky ethical issues. Wielded sensibly and sensitively, web-scraping is a valuable and exciting social science research method.* [UPDATE]\n",
    "\n",
    "Good luck on your data-driven travels!"
   ]
  },
  {
   "cell_type": "markdown",
   "metadata": {},
   "source": [
    "## Bibliography\n",
    "\n",
    "Barba, Lorena A. et al. (2019). *Teaching and Learning with Jupyter*. <a href=\"https://jupyter4edu.github.io/jupyter-edu-book/\" target=_blank>https://jupyter4edu.github.io/jupyter-edu-book/</a>.\n",
    "\n",
    "Brooker, P. (2020). *Programming with Python for Social Scientists*. London: SAGE Publications Ltd.\n",
    "\n",
    "Lau, S., Gonzalez, J., & Nolan, D. (n.d.). *Principles and Techniques of Data Science*. https://www.textbook.ds100.org\n",
    "\n",
    "Tagliaferri, L. (n.d.). *How to Code in Python 3*. https://assets.digitalocean.com/books/python/how-to-code-in-python.pdf"
   ]
  },
  {
   "cell_type": "markdown",
   "metadata": {},
   "source": [
    "## Further reading and resources\n",
    "\n",
    "We publish a list of useful books, papers, websites and other resources on our web-scraping Github repository: <a href=\"https://github.com/UKDataServiceOpen/web-scraping/tree/master/reading-list/\" target=_blank>[Reading list]</a>\n",
    "\n",
    "The help documentation for the `requests` module is refreshingly readable and useful:\n",
    "* <a href=\"https://requests.readthedocs.io/en/master/\" target=_blank>`requests`</a>\n",
    "\n",
    "You may also be interested in the following articles specifically relating to APIs:"
   ]
  },
  {
   "cell_type": "markdown",
   "metadata": {},
   "source": [
    "## Appendices"
   ]
  },
  {
   "cell_type": "markdown",
   "metadata": {},
   "source": [
    "-- END OF FILE --"
   ]
  }
 ],
 "metadata": {
  "kernelspec": {
   "display_name": "Python 3",
   "language": "python",
   "name": "python3"
  },
  "language_info": {
   "codemirror_mode": {
    "name": "ipython",
    "version": 3
   },
   "file_extension": ".py",
   "mimetype": "text/x-python",
   "name": "python",
   "nbconvert_exporter": "python",
   "pygments_lexer": "ipython3",
   "version": "3.7.3"
  },
  "toc": {
   "base_numbering": 1,
   "nav_menu": {
    "height": "86.7333px",
    "width": "160px"
   },
   "number_sections": true,
   "sideBar": false,
   "skip_h1_title": true,
   "title_cell": "Table of Contents",
   "title_sidebar": "Contents",
   "toc_cell": true,
   "toc_position": {
    "height": "100px",
    "left": "366px",
    "top": "669.033px",
    "width": "165px"
   },
   "toc_section_display": true,
   "toc_window_display": false
  }
 },
 "nbformat": 4,
 "nbformat_minor": 2
}
