{
 "cells": [
  {
   "cell_type": "markdown",
   "metadata": {},
   "source": [
    "![UKDS Logo](./images/UKDS_Logos_Col_Grey_300dpi.png)"
   ]
  },
  {
   "cell_type": "markdown",
   "metadata": {},
   "source": [
    "# Web-scraping for Social Science Research"
   ]
  },
  {
   "cell_type": "markdown",
   "metadata": {},
   "source": [
    "Welcome to the <a href=\"https://ukdataservice.ac.uk/\" target=_blank>UK Data Service</a> training series on *New Forms of Data for Social Science Research*. This series guides you through some of the most common and valuable new sources of data available for social science research: data collected from websites, social media platorms, text data, conducting simulations (agent based modelling), to name a few. To help you get to grips with these new forms of data, we provide webinars, interactive notebooks containing live programming code, reading lists and more.\n",
    "\n",
    "* To access training materials for the entire series: <a href=\"https://github.com/UKDataServiceOpen/new-forms-of-data\" target=_blank>[Training Materials]</a>\n",
    "\n",
    "* To keep up to date with upcoming and past training events: <a href=\"https://ukdataservice.ac.uk/news-and-events/events\" target=_blank>[Events]</a>\n",
    "\n",
    "* To get in contact with feedback, ideas or to seek assistance: <a href=\"https://ukdataservice.ac.uk/help.aspx\" target=_blank>[Help]</a>\n",
    "\n",
    "<a href=\"https://www.research.manchester.ac.uk/portal/julia.kasmire.html\" target=_blank>Dr Julia Kasmire</a> and <a href=\"https://www.research.manchester.ac.uk/portal/diarmuid.mcdonnell.html\" target=_blank>Dr Diarmuid McDonnell</a> <br />\n",
    "UK Data Service  <br />\n",
    "University of Manchester <br />\n",
    "April 2020"
   ]
  },
  {
   "cell_type": "markdown",
   "metadata": {
    "toc": true
   },
   "source": [
    "<h1>Table of Contents<span class=\"tocSkip\"></span></h1>\n",
    "<div class=\"toc\"><ul class=\"toc-item\"><li><span><a href=\"#Introduction\" data-toc-modified-id=\"Introduction-1\"><span class=\"toc-item-num\">1&nbsp;&nbsp;</span>Introduction</a></span></li><li><span><a href=\"#Guide-to-using-this-resource\" data-toc-modified-id=\"Guide-to-using-this-resource-2\"><span class=\"toc-item-num\">2&nbsp;&nbsp;</span>Guide to using this resource</a></span><ul class=\"toc-item\"><li><span><a href=\"#Interaction\" data-toc-modified-id=\"Interaction-2.1\"><span class=\"toc-item-num\">2.1&nbsp;&nbsp;</span>Interaction</a></span></li><li><span><a href=\"#Learn-more\" data-toc-modified-id=\"Learn-more-2.2\"><span class=\"toc-item-num\">2.2&nbsp;&nbsp;</span>Learn more</a></span></li></ul></li><li><span><a href=\"#Collecting-data-from-online-databases-using-an-API\" data-toc-modified-id=\"Collecting-data-from-online-databases-using-an-API-3\"><span class=\"toc-item-num\">3&nbsp;&nbsp;</span>Collecting data from online databases using an API</a></span><ul class=\"toc-item\"><li><span><a href=\"#What-is-an-API?\" data-toc-modified-id=\"What-is-an-API?-3.1\"><span class=\"toc-item-num\">3.1&nbsp;&nbsp;</span>What is an API?</a></span></li><li><span><a href=\"#Reasons-to-interact-with-an-API\" data-toc-modified-id=\"Reasons-to-interact-with-an-API-3.2\"><span class=\"toc-item-num\">3.2&nbsp;&nbsp;</span>Reasons to interact with an API</a></span></li><li><span><a href=\"#Logic-of-using-an-API\" data-toc-modified-id=\"Logic-of-using-an-API-3.3\"><span class=\"toc-item-num\">3.3&nbsp;&nbsp;</span>Logic of using an API</a></span></li></ul></li><li><span><a href=\"#Example:-Capturing-Covid-19-data\" data-toc-modified-id=\"Example:-Capturing-Covid-19-data-4\"><span class=\"toc-item-num\">4&nbsp;&nbsp;</span>Example: Capturing Covid-19 data</a></span><ul class=\"toc-item\"><li><span><a href=\"#Locating-the-API\" data-toc-modified-id=\"Locating-the-API-4.1\"><span class=\"toc-item-num\">4.1&nbsp;&nbsp;</span>Locating the API</a></span></li><li><span><a href=\"#API-terms-of-use\" data-toc-modified-id=\"API-terms-of-use-4.2\"><span class=\"toc-item-num\">4.2&nbsp;&nbsp;</span>API terms of use</a></span></li><li><span><a href=\"#Locating-data\" data-toc-modified-id=\"Locating-data-4.3\"><span class=\"toc-item-num\">4.3&nbsp;&nbsp;</span>Locating data</a></span></li><li><span><a href=\"#Registering-use-of-API\" data-toc-modified-id=\"Registering-use-of-API-4.4\"><span class=\"toc-item-num\">4.4&nbsp;&nbsp;</span>Registering use of API</a></span></li><li><span><a href=\"#Requesting-data\" data-toc-modified-id=\"Requesting-data-4.5\"><span class=\"toc-item-num\">4.5&nbsp;&nbsp;</span>Requesting data</a></span></li><li><span><a href=\"#Saving-results\" data-toc-modified-id=\"Saving-results-4.6\"><span class=\"toc-item-num\">4.6&nbsp;&nbsp;</span>Saving results</a></span></li><li><span><a href=\"#Refining-Covid-19-data-collection\" data-toc-modified-id=\"Refining-Covid-19-data-collection-4.7\"><span class=\"toc-item-num\">4.7&nbsp;&nbsp;</span>Refining Covid-19 data collection</a></span></li><li><span><a href=\"#Concluding-remarks-on-Covid-19-data\" data-toc-modified-id=\"Concluding-remarks-on-Covid-19-data-4.8\"><span class=\"toc-item-num\">4.8&nbsp;&nbsp;</span>Concluding remarks on Covid-19 data</a></span></li></ul></li><li><span><a href=\"#Value,-limitations-and-ethics\" data-toc-modified-id=\"Value,-limitations-and-ethics-5\"><span class=\"toc-item-num\">5&nbsp;&nbsp;</span>Value, limitations and ethics</a></span><ul class=\"toc-item\"><li><span><a href=\"#Value\" data-toc-modified-id=\"Value-5.1\"><span class=\"toc-item-num\">5.1&nbsp;&nbsp;</span>Value</a></span></li><li><span><a href=\"#Limitations\" data-toc-modified-id=\"Limitations-5.2\"><span class=\"toc-item-num\">5.2&nbsp;&nbsp;</span>Limitations</a></span></li><li><span><a href=\"#Ethical-considerations\" data-toc-modified-id=\"Ethical-considerations-5.3\"><span class=\"toc-item-num\">5.3&nbsp;&nbsp;</span>Ethical considerations</a></span></li></ul></li><li><span><a href=\"#Conclusion\" data-toc-modified-id=\"Conclusion-6\"><span class=\"toc-item-num\">6&nbsp;&nbsp;</span>Conclusion</a></span></li><li><span><a href=\"#Bibliography\" data-toc-modified-id=\"Bibliography-7\"><span class=\"toc-item-num\">7&nbsp;&nbsp;</span>Bibliography</a></span></li><li><span><a href=\"#Further-reading-and-resources\" data-toc-modified-id=\"Further-reading-and-resources-8\"><span class=\"toc-item-num\">8&nbsp;&nbsp;</span>Further reading and resources</a></span></li><li><span><a href=\"#Appendices\" data-toc-modified-id=\"Appendices-9\"><span class=\"toc-item-num\">9&nbsp;&nbsp;</span>Appendices</a></span><ul class=\"toc-item\"><li><span><a href=\"#Appendix-A---Requesting-URLs\" data-toc-modified-id=\"Appendix-A---Requesting-URLs-9.1\"><span class=\"toc-item-num\">9.1&nbsp;&nbsp;</span>Appendix A - Requesting URLs</a></span></li><li><span><a href=\"#Appendix-B---Capturing-UK-Police-data\" data-toc-modified-id=\"Appendix-B---Capturing-UK-Police-data-9.2\"><span class=\"toc-item-num\">9.2&nbsp;&nbsp;</span>Appendix B - Capturing UK Police data</a></span></li></ul></li></ul></div>"
   ]
  },
  {
   "cell_type": "markdown",
   "metadata": {},
   "source": [
    "## Introduction\n",
    "\n",
    "In this training series we cover some of the essential skills needed to collect data from the web. In particular we focus on two different approaches:\n",
    "1. Collecting data stored on web pages. <a href=\"./web-scraping-websites-code-2020-04-23.ipynb\" target=_blank>[LINK]</a>\n",
    "2. Downloading data from online databases using Application Programming Interfaces (APIs). [Focus of this notebook]\n",
    "    \n",
    "Do not be alarmed by the technical aspects: both approaches can be implemented using simple code, a standard desktop or laptop, and a decent internet connection.    \n",
    "\n",
    "Given the Covid-19 public health crisis in which this programme of work occurred, we will examine ways in which computational methods can provide valuable data for studying this phenomenon. This is a fast moving, evolving public health emergency that, in addition to other impacts, will shape research agendas across the sciences for years to come. Therefore it is important to learn how we, as social scientists, can access or generate data that will provide a better understanding of this disease.\n",
    "\n",
    "In this lesson we will search the <a href=\"https://www.theguardian.com\" target=_blank>Guardian newspaper's</a> online database for articles referring to Covid-19. We will also examine two APIs that should be of wider interest to the social science community: \n",
    "* UK Police API, which provides data on street-level crime and outcomes, police stations and much more. [IN DEVELOPMENT]\n",
    "* Companies House API, which provides data on the governance, finances and activities of UK registered companies. [IN DEVELOPMENT]"
   ]
  },
  {
   "cell_type": "markdown",
   "metadata": {},
   "source": [
    "## Guide to using this resource\n",
    "\n",
    "This learning resource was built using <a href=\"https://jupyter.org/\" target=_blank>Jupyter Notebook</a>, an open-source software application that allows you to mix code, results and narrative in a single document. As <a href=\"https://jupyter4edu.github.io/jupyter-edu-book/\" target=_blank>Barba et al. (2019)</a> espouse:\n",
    "> In a world where every subject matter can have a data-supported treatment, where computational devices are omnipresent and pervasive, the union of natural language and computation creates compelling communication and learning opportunities.\n",
    "\n",
    "If you are familiar with Jupyter notebooks then skip ahead to the main content (*Collecting data from online databases using an API*). Otherwise, the following is a quick guide to navigating and interacting with the notebook."
   ]
  },
  {
   "cell_type": "markdown",
   "metadata": {},
   "source": [
    "### Interaction\n",
    "\n",
    "**You only need to execute the code that is contained in sections which are marked by `In []`.**\n",
    "\n",
    "To execute a cell, click or double-click the cell and press the `Run` button on the top toolbar (you can also use the keyboard shortcut Shift + Enter).\n",
    "\n",
    "Try it for yourself:"
   ]
  },
  {
   "cell_type": "code",
   "execution_count": null,
   "metadata": {},
   "outputs": [],
   "source": [
    "print(\"Enter your name and press enter:\")\n",
    "name = input()\n",
    "print(\"Hello {}, enjoy learning more about Python and web-scraping!\".format(name)) "
   ]
  },
  {
   "cell_type": "markdown",
   "metadata": {},
   "source": [
    "### Learn more\n",
    "\n",
    "Jupyter notebooks provide rich, flexible features for conducting and documenting your data analysis workflow. To learn more about additional notebook features, we recommend working through some of the <a href=\"https://github.com/darribas/gds19/blob/master/content/labs/lab_00.ipynb\" target=_blank>materials</a> provided by Dani Arribas-Bel at the University of Liverpool. "
   ]
  },
  {
   "cell_type": "markdown",
   "metadata": {},
   "source": [
    "## Collecting data from online databases using an API\n",
    "\n",
    "### What is an API?\n",
    "\n",
    "An Application Programming Interface (API) is\n",
    "> a set of functions and procedures allowing the creation of applications that access the features or data of an operating system, application, or other service\" (Oxford English Dictionary). \n",
    "\n",
    "In essence: an API acts as an intermediary between software applications. Think of an API's role as similar to that of a translator faciliating a conversation between two individuals who do not speak the same language. Neither individual needs to know the other's language, just how to formulate their response in a way the translator can understand. Similarly, an API simplifies how applications communicate with each other.\n",
    "\n",
    "It performs this role by providing a set of protocols/standards for making *requests* and formulating *responses* between applications. For example, a smart phone application might need real-time traffic data from an online database. An API can validate the application's request for data, and handle the online database's response (i.e., the transfer of data to the application). In the absence of an API, the smart phone application would need to know a lot more technical information about the online database in order to communicate with it (e.g., what commands does the database understand?). But thanks to the API, the smart phone application only needs to know how to formulate a request that the API understands, which then communicates the request to the database.\n",
    "\n",
    "(If you want to learn more about APIs, especially from a technical perspective, we highly recommend one of our previous webinars: <a href=\"https://www.youtube.com/watch?v=ffSQHPHO_c0\" target=_blank>What are APIs?</a>)\n",
    "\n",
    "### Reasons to interact with an API\n",
    "\n",
    "Many public, private and charitable institutions collect and share data of value to social scientists. Often they deposit their data to a data portal - e.g., <a href=\"https://data.gov.uk/\" target=_blank>UK Government Open Data</a> -, allowing you to download the files as and when needed. However, another approach they can adopt is to allow access to the underlying information that is stored in their database through an API. Using this method, individuals can send a customised *request* for information to the database; if the request is valid, the database *responds* by providing you with the information you asked for. Think of using an API as the difference between downloading a raw data file which then needs to be filtered to arrive at the information you need, and performing the filtering when you request the data, so only what you need is returned (the API method).\n",
    "\n",
    "Before we delve into writing code to capture data through an API, let's clearly state the logic underpinning the technique."
   ]
  },
  {
   "cell_type": "markdown",
   "metadata": {},
   "source": [
    "### Logic of using an API\n",
    "\n",
    "We begin by identifying an online database containing information of interest. Then we need to **know** the following:\n",
    "1. The location of the API (i.e., web address) through which the database can be accessed. For example, the UK Police API can be accessed via <a href=\"https://data.police.uk/api\" target=_blank>https://data.police.uk/api</a>.\n",
    "2. The terms of use associated with the API. Many APIs restrict the number of requests you can make over a given time period, while others require registration in order to authenicate who is trying to access the data. For example, the UK Police API does not require you to provide authentication but restricts the number of requests for data you can make (15 per second) - the number of allowable requests is known as the *rate limit*.\n",
    "3. The location of the data of interest on the API. For example, data on street-level crime from the UK Police API is available at: <a href=\"https://data.police.uk/api/crimes-street\" target=_blank>https://data.police.uk/api/crimes-street</a>. The location of the data is known as its *endpoint*.\n",
    "\n",
    "We can usually find all of the information we need by reading the API's documentation e.g., <a href=\"https://data.police.uk/docs/\" target=_blank>https://data.police.uk/docs/</a>.\n",
    "\n",
    "Then we need to **do** the following:\n",
    "4. Register your use of the API (if required).\n",
    "5. Request data from the endpoint of interest, supplying authentication if required. This process is known as *making a call* to the API.\n",
    "6. Write this data to a file for future use."
   ]
  },
  {
   "cell_type": "markdown",
   "metadata": {},
   "source": [
    "## Example: Capturing Covid-19 data"
   ]
  },
  {
   "cell_type": "markdown",
   "metadata": {},
   "source": [
    "<a href=\"https://open-platform.theguardian.com/documentation/\" target=_blank>The Guardian API</a> provides access to some of the data and metadata associcated with its content. For example, you can query its database to search for articles with certain tags (\"environmenmt\", \"covid-19\"), or articles published over a certain date range."
   ]
  },
  {
   "cell_type": "markdown",
   "metadata": {},
   "source": [
    "### Locating the API\n",
    "\n",
    "In some cases the organisation will allow you to explore the API without the need to write code or register for an API key. For instance, the Guardian API can be interacted with through the following user interface <a href=\"https://open-platform.theguardian.com/explore/\" target=_blank>https://open-platform.theguardian.com/explore/</a>.\n",
    "\n",
    "**TASK**: take some time to interact with the Guardian API interface using the link above.\n",
    "\n",
    "(Note: it possible to load websites into Python in order to view them, however the Guardian API doesn't allow this. See the example code below for how it would work for a different website - just remove the quotation marks enclosing the code and run the cell)."
   ]
  },
  {
   "cell_type": "code",
   "execution_count": null,
   "metadata": {},
   "outputs": [],
   "source": [
    "\"\"\"\n",
    "from IPython.display import IFrame\n",
    "\n",
    "IFrame(\"https://ukdataservice.ac.uk/\", width=\"600\", height=\"650\")\n",
    "\"\"\""
   ]
  },
  {
   "cell_type": "markdown",
   "metadata": {},
   "source": [
    "However, interacting with an API through a user interface (i.e., text boxes, drop-down menues) is slow, untransparent, labour intensive and often not possible. We will instead focus on writing code that performs the requests for us. Therefore, we need to use the following web address to access the API: https://content.guardianapis.com.\n",
    "\n",
    "(Note that you cannot request this web address through your browser; this is because access to the API is only possible by providing authentication i.e., an API key. Try for yourself by clicking on the links)."
   ]
  },
  {
   "cell_type": "markdown",
   "metadata": {},
   "source": [
    "### API terms of use\n",
    "\n",
    "The Guardian API is well documented (not always the case, unfortunately) and we can clearly identify what is required in order to interact with it. Firstly, the API requires authentication, in the form of an API key, to be provided when making requests. The API key is generated when you register your use of the API.\n",
    "\n",
    "Secondly, the API provides multiple levels of access, each with its own set of restrictions and usage allowances. The free level of access allows you to make up to 12 calls per second, with a daily limit of 5,000; requests are also restricted to text content (no access to images, audio, video) - if you need more than the free level of access provides, there is a commercial product with custom rate limits, access to other type of data (e.g., images, videos) etc.\n",
    "\n",
    "See <a href=\"https://open-platform.theguardian.com/access/\" target=_blank>https://open-platform.theguardian.com/access/</a> for full information on levels of access."
   ]
  },
  {
   "cell_type": "markdown",
   "metadata": {},
   "source": [
    "### Locating data\n",
    "\n",
    "The Guardian API allows access to five endpoints:\n",
    "* Content - https://content.guardianapis.com/search\n",
    "* Tags - http://content.guardianapis.com/tags\n",
    "* Sections - https://content.guardianapis.com/sections\n",
    "* Editions - https://content.guardianapis.com/editions\n",
    "* Single Item - https://content.guardianapis.com/"
   ]
  },
  {
   "cell_type": "markdown",
   "metadata": {},
   "source": [
    "### Registering use of API\n",
    "\n",
    "We need an API key in order to start requesting data. The API key acts as a user's unique id when accessing the API. For the purposes of this lesson we have <a href=\"https://bonobo.capi.gutools.co.uk/register/developer\" target=_blank>registered our use</a> and been given an API key which is contained in a file called *guardian-api-key.txt*. \n",
    "\n",
    "Run the code below to check if the file exists:"
   ]
  },
  {
   "cell_type": "code",
   "execution_count": null,
   "metadata": {},
   "outputs": [],
   "source": [
    "import os\n",
    "\n",
    "os.listdir(\"./auth\")"
   ]
  },
  {
   "cell_type": "markdown",
   "metadata": {},
   "source": [
    "You should generate your own API key, and keep it private and secure, when using the Guardian API for your own purposes."
   ]
  },
  {
   "cell_type": "markdown",
   "metadata": {},
   "source": [
    "### Requesting data\n",
    "\n",
    "We're ready for the interesting bit: requesting data through the API. We'll focus on finding and saving data about articles relating to the Covid-19 public health crisis.\n",
    "\n",
    "There is a preliminary step, which is setting up Python with the modules it needs to interact with the API."
   ]
  },
  {
   "cell_type": "code",
   "execution_count": null,
   "metadata": {},
   "outputs": [],
   "source": [
    "# Import modules\n",
    "\n",
    "import os # module for navigating your machine (e.g., file directories)\n",
    "import requests # module for requesting urls\n",
    "import json # module for working with JSON data structures\n",
    "from datetime import datetime # module for working with dates and time\n",
    "print(\"Succesfully imported necessary modules\")"
   ]
  },
  {
   "cell_type": "markdown",
   "metadata": {},
   "source": [
    "Modules are additional techniques or functions that are not present when you launch Python. Some do not even come with Python when you download it and must be installed on your machine separately - think of using `ssc install <package>` in Stata, or `install.packages(<package>)` in R. For now just understand that many useful modules need to be imported every time you start a new Python session."
   ]
  },
  {
   "cell_type": "markdown",
   "metadata": {},
   "source": [
    "Now let's make our first request to the API. First, we need to load in the API key as it is stored in a separate file for privacy reasons.\n",
    "\n",
    "(Delete the `#` symbol if you want to see the value of the API key)."
   ]
  },
  {
   "cell_type": "code",
   "execution_count": null,
   "metadata": {},
   "outputs": [],
   "source": [
    "api_key = open(\"./auth/guardian-api-key.txt\", \"r\").read() # open the file and read its contents\n",
    "# api_key"
   ]
  },
  {
   "cell_type": "markdown",
   "metadata": {},
   "source": [
    "Next, let's search for articles mentioning the term \"covid-19\"."
   ]
  },
  {
   "cell_type": "code",
   "execution_count": null,
   "metadata": {},
   "outputs": [],
   "source": [
    "# Define web address and search terms\n",
    "\n",
    "baseurl = \"http://content.guardianapis.com/search?\" # base web address\n",
    "searchterm = \"covid-19\" # term we want to search for\n",
    "auth = {\"api-key\": api_key} # authentication\n",
    "webadd = baseurl + \"q=\" + searchterm # construct web address for requesting\n",
    "print(webadd)\n",
    "\n",
    "# Make call to API\n",
    "\n",
    "response = requests.get(webadd, headers=auth) # request the web address\n",
    "response.status_code # check if API was requested successfully"
   ]
  },
  {
   "cell_type": "markdown",
   "metadata": {},
   "source": [
    "Let's unpack the above code, as there is a lot happening. First, we declare a variable (also known as an 'object' in Python) called `baseurl` that contains the base web address of the *Content* endpoint. Then we declare a variable containing the term we are interested in searching for (`searchterm`). Next, we define a variable to store the API key that is needed when making the request (`auth`). Finally we concatenate these separate elements to form a valid web address that can be requested from the API (`webadd`). <br> The next step is to use the `get()` method of the `requests` module to request the web address, and in the same line of code, we store the results of the request in a variable called `response`. Finally, we check whether the request was successful by calling on the `status_code` attribute of the `response` variable.\n",
    "\n",
    "Confused? Don't worry, the conventions of Python and using its modules take a bit of getting used to. At this point, just understand that you can store the results of commands in variables, and a variable can have different attributes that can be accessed when needed. Also note that you have a lot of freedom in how you name your variables (subject to certain restrictions - see <a href=\"https://www.python.org/dev/peps/pep-0008/\" target=_blank>here for some guidance</a>).\n",
    "\n",
    "For example, the following would also work (bonus points if you can name the brewery lending its name to the variables):"
   ]
  },
  {
   "cell_type": "code",
   "execution_count": null,
   "metadata": {},
   "outputs": [],
   "source": [
    "highlander = \"http://content.guardianapis.com/tags?\" # base web address\n",
    "jarl = \"covid-19\" # term we want to search for\n",
    "avalanche = {\"api-key\": api_key} # authentication\n",
    "hurricane_jack = highlander + \"q=\" + jarl # construct web address for requesting\n",
    "print(hurricane_jack)\n",
    "\n",
    "# Make call to API\n",
    "\n",
    "beers = requests.get(webadd, headers=avalanche) # request the web address\n",
    "beers.status_code # check if API was requested successfully"
   ]
  },
  {
   "cell_type": "markdown",
   "metadata": {},
   "source": [
    "Back to the request:\n",
    "\n",
    "Good, we get a status code of _200_ - this means we made a successful call to the API. <a href=\"https://www.textbook.ds100.org/ch/07/web_http.html\" target=_blank>Lau, Gonzalez and Nolan</a> provide a succinct description of different types of status codes:\n",
    "\n",
    "* **100s** - Informational: More input is expected from client or server (e.g. 100 Continue, 102 Processing)\n",
    "* **200s** - Success: The client's request was successful (e.g. 200 OK, 202 Accepted)\n",
    "* **300s** - Redirection: Requested URL is located elsewhere; May need user's further action (e.g. 300 Multiple Choices, 301 Moved Permanently)\n",
    "* **400s** - Client Error: Client-side error (e.g. 400 Bad Request, 403 Forbidden, 404 Not Found)\n",
    "* **500s** - Server Error: Server-side error or server is incapable of performing the request (e.g. 500 Internal Server Error, 503 Service Unavailable)\n",
    "\n",
    "For clarity:\n",
    "* **Client**: your machine\n",
    "* **Server**: the machine you are requesting the resource from\n",
    "\n",
    "(See Appendix A for more examples of how the `requests` module works and what information it returns.)"
   ]
  },
  {
   "cell_type": "markdown",
   "metadata": {},
   "source": [
    "You may be wondering exactly what it is we requested. To see the content of our request, we can call the `json()` method on the `response` variable:"
   ]
  },
  {
   "cell_type": "code",
   "execution_count": null,
   "metadata": {},
   "outputs": [],
   "source": [
    "data = response.json() \n",
    "data # view the content of the response"
   ]
  },
  {
   "cell_type": "markdown",
   "metadata": {},
   "source": [
    "Just by scanning the first few lines we can pick out useful metadata about the response: we can see our search has yielded over 15,000 results, and there are ten results per page spread out over 1,500 pages. We can also see where the actual content of the search results is contained, in a section helpfully called `results`.\n",
    "\n",
    "It is important we familiarise ourselves with the hierarchical structure of the returned data. Note how we needed to call the `json()` method on the `response` variable. JSON (Javascript Object Notation) is a hierarchical data structure based on key-value pairs (known as *items*), which are separated by commas (Brooker, 2020; Tagliaferri, n.d.). For example, the `pageSize` key stores the value `10`. The hierarchical structure is evident by observing how a key can contain a list of other key-value pairs (items). For example, the `results` key contains a list of items relating to each search result.\n",
    "\n",
    "A JSON data structure (known in Python as a *dictionary*) can be difficult to understand at first, in no small part due to the unappealing presentation format. Visually, it is worth noting that this data structure begins and ends with curly braces (`{}`). \n",
    "\n",
    "Let's examine some Python methods for navigating and processing this data structure."
   ]
  },
  {
   "cell_type": "markdown",
   "metadata": {},
   "source": [
    "#### Navigating a dictionary (JSON) variable"
   ]
  },
  {
   "cell_type": "markdown",
   "metadata": {},
   "source": [
    "The first thing we should do is list the keys contained in the dictionary:"
   ]
  },
  {
   "cell_type": "code",
   "execution_count": null,
   "metadata": {},
   "outputs": [],
   "source": [
    "data.keys()"
   ]
  },
  {
   "cell_type": "markdown",
   "metadata": {},
   "source": [
    "If you're wondering why only one key is listed, remember that we are dealing with a hierarchical data structure. The value of the `response` key is itself another dictionary, therefore we can access those keys as follows: "
   ]
  },
  {
   "cell_type": "code",
   "execution_count": null,
   "metadata": {},
   "outputs": [],
   "source": [
    "data[\"response\"].keys() # list keys contained in the \"response\" key"
   ]
  },
  {
   "cell_type": "markdown",
   "metadata": {},
   "source": [
    "Note how we mentioned that keys can contain a list of other key-value pairs. A *list* is a Python data type used to store ordered sequences of elements (Tagliaferri, n.d.). Let's see how we can deal with lists by examining the `results` key:"
   ]
  },
  {
   "cell_type": "code",
   "execution_count": null,
   "metadata": {},
   "outputs": [],
   "source": [
    "search_results = data[\"response\"][\"results\"] \n",
    "search_results # view the contents of the \"results\" key nested within the \"response\" key"
   ]
  },
  {
   "cell_type": "markdown",
   "metadata": {},
   "source": [
    "Visually, a list begins and ends with square parentheses (`[]`) -  however we can just ask Python to confirm that the `search_results` variable is a list:"
   ]
  },
  {
   "cell_type": "code",
   "execution_count": null,
   "metadata": {},
   "outputs": [],
   "source": [
    "type(search_results)"
   ]
  },
  {
   "cell_type": "markdown",
   "metadata": {},
   "source": [
    "We can check how many elements are in a list by calling on the `len()` function:"
   ]
  },
  {
   "cell_type": "code",
   "execution_count": null,
   "metadata": {},
   "outputs": [],
   "source": [
    "len(search_results)"
   ]
  },
  {
   "cell_type": "markdown",
   "metadata": {},
   "source": [
    "We can view each element in the list of search results as follows:"
   ]
  },
  {
   "cell_type": "code",
   "execution_count": null,
   "metadata": {},
   "outputs": [],
   "source": [
    "# View the values of certain keys in each element in the list\n",
    "\n",
    "for result in search_results:\n",
    "    print(result[\"type\"]) # view content type\n",
    "    print(result[\"sectionName\"]) # view newspaper section content appeared in\n",
    "    print(result[\"webPublicationDate\"]) # view date content was published online\n",
    "    print(\"\\r\")\n",
    "    print(\"-------------\")\n",
    "    print(\"\\r\")"
   ]
  },
  {
   "cell_type": "markdown",
   "metadata": {},
   "source": [
    "It takes a bit of time to get used to unfamiliar data structures and types. If you are a quantitative social scientist, you may be used to working with data structured in a tabular (variable-by-case) format: every row is an observation, every column is a variable, and every cell is a value.\n",
    "\n",
    "In section 4.7, we'll see how we can convert data from a JSON structure to a tabular format, but just keep in mind that JSON is a popular means of storing and sharing data found on the web and it is worth becoming proficient in managing and manipulating it."
   ]
  },
  {
   "cell_type": "markdown",
   "metadata": {},
   "source": [
    "### Saving results\n",
    "\n",
    "The final task is to save the data to a file that we can use in the future. We'll write the data to a JSON file format, as this is the structure the data were returned in."
   ]
  },
  {
   "cell_type": "code",
   "execution_count": null,
   "metadata": {},
   "outputs": [],
   "source": [
    "# Create a downloads folder\n",
    "\n",
    "try:\n",
    "    os.mkdir(\"./downloads\")\n",
    "except:\n",
    "    print(\"Unable to create folder: already exists\")"
   ]
  },
  {
   "cell_type": "markdown",
   "metadata": {},
   "source": [
    "The use of \"./\" tells the `os.mkdir()` command that the \"downloads\" folder should be created at the same level of the directory where this notebook is located. So if this notebook was stored in a directory located at \"C:/Users/joebloggs/notebooks\", the `os.mkdir()` command would result in a new folder located at \"C:/Users/joebloggs/notebooks/downloads\".\n",
    "   \n",
    "(Technically the \"./\" is not needed and you could just write `os.mkdir(\"downloads\")` but it's good practice to be explicit.)"
   ]
  },
  {
   "cell_type": "code",
   "execution_count": null,
   "metadata": {},
   "outputs": [],
   "source": [
    "# Write the results to a JSON file\n",
    "\n",
    "date = datetime.now().strftime(\"%Y-%m-%d\") # get today's date in YYYY-MM-DD format\n",
    "print(date)\n",
    "\n",
    "outfile = \"./downloads/guardian-api-covid-19-search-\" + date + \".json\"\n",
    "\n",
    "with open(outfile, \"w\") as f:\n",
    "    json.dump(data, f)"
   ]
  },
  {
   "cell_type": "markdown",
   "metadata": {},
   "source": [
    "The code above defines a name and location for the file which will store the results of the API request. We then open the file in *write* mode and save (or \"dump\") the contents of the `data` variable to it."
   ]
  },
  {
   "cell_type": "markdown",
   "metadata": {},
   "source": [
    "How do we know this worked? The simplest way is to check whether a) the file was created, and b) the results were written to it."
   ]
  },
  {
   "cell_type": "code",
   "execution_count": null,
   "metadata": {},
   "outputs": [],
   "source": [
    "# a) Check presence of file in \"downloads\" folder\n",
    "\n",
    "os.listdir(\"./downloads\")"
   ]
  },
  {
   "cell_type": "code",
   "execution_count": null,
   "metadata": {},
   "outputs": [],
   "source": [
    "# b) Open file and read (import) its contents\n",
    "\n",
    "with open(outfile, \"r\") as f:\n",
    "    data = json.load(f) # use the \"load()\" method of the \"json\" module\n",
    "    \n",
    "print(data)"
   ]
  },
  {
   "cell_type": "markdown",
   "metadata": {},
   "source": [
    "And Voila, we have successfully requested data using an API!"
   ]
  },
  {
   "cell_type": "markdown",
   "metadata": {},
   "source": [
    "### Refining Covid-19 data collection\n",
    "\n",
    "We will complete our work gathering data on articles relating to Covid-19 by refining our request and handling of the response. In particular, we will deal with the following outstanding issues:\n",
    "1. Including additional search terms\n",
    "2. Dealing with multiple pages of results\n",
    "3. Requesting the contents (text) of some of the articles contained in our list of search results\n",
    "4. Handling the rate limit\n",
    "\n",
    "The following blocks of code contain fewer comments explaining what each command is doing, so feel free to add these back in if you like.\n",
    "\n",
    "This section - and the notebook in general - is sequential, therefore not running the code in sequence will invariably lead to errors down the line. If this occurs, return to this point and run the code cells one-by-one.\n",
    "\n",
    "Let's get some the preliminaries out of the way before we begin:"
   ]
  },
  {
   "cell_type": "code",
   "execution_count": 3,
   "metadata": {},
   "outputs": [],
   "source": [
    "import os\n",
    "import requests\n",
    "import json\n",
    "import pandas as pd\n",
    "from datetime import datetime\n",
    "from bs4 import BeautifulSoup as soup\n",
    "\n",
    "date = datetime.now().strftime(\"%Y-%m-%d\")\n",
    "\n",
    "api_key = open(\"./auth/guardian-api-key.txt\", \"r\").read() # open the file and read its contents"
   ]
  },
  {
   "cell_type": "markdown",
   "metadata": {},
   "source": [
    "#### Including additional search terms\n",
    "\n",
    "We can use logical operators - AND, OR and NOT - to include additional search terms in our request."
   ]
  },
  {
   "cell_type": "code",
   "execution_count": 5,
   "metadata": {},
   "outputs": [
    {
     "name": "stdout",
     "output_type": "stream",
     "text": [
      "http://content.guardianapis.com/search?q=covid-19 OR coronavirus\n"
     ]
    },
    {
     "data": {
      "text/plain": [
       "200"
      ]
     },
     "execution_count": 5,
     "metadata": {},
     "output_type": "execute_result"
    }
   ],
   "source": [
    "# Define web address and search terms\n",
    "\n",
    "baseurl = \"http://content.guardianapis.com/search?\"\n",
    "searchterms = \"covid-19 OR coronavirus\" # terms we want to search for\n",
    "auth = {\"api-key\": api_key}\n",
    "\n",
    "webadd = baseurl + \"q=\" + searchterms\n",
    "print(webadd)\n",
    "\n",
    "# Make call to API\n",
    "\n",
    "response = requests.get(webadd, headers=auth)\n",
    "response.status_code"
   ]
  },
  {
   "cell_type": "code",
   "execution_count": 6,
   "metadata": {},
   "outputs": [
    {
     "data": {
      "text/plain": [
       "{'response': {'status': 'ok',\n",
       "  'userTier': 'developer',\n",
       "  'total': 19659,\n",
       "  'startIndex': 1,\n",
       "  'pageSize': 10,\n",
       "  'currentPage': 1,\n",
       "  'pages': 1966,\n",
       "  'orderBy': 'relevance',\n",
       "  'results': [{'id': 'world/2020/apr/24/coronavirus-what-have-scientists-learned-about-covid-19-so-far',\n",
       "    'type': 'article',\n",
       "    'sectionId': 'world',\n",
       "    'sectionName': 'World news',\n",
       "    'webPublicationDate': '2020-04-24T10:16:18Z',\n",
       "    'webTitle': 'Coronavirus: what have scientists learned about Covid-19 so far?',\n",
       "    'webUrl': 'https://www.theguardian.com/world/2020/apr/24/coronavirus-what-have-scientists-learned-about-covid-19-so-far',\n",
       "    'apiUrl': 'https://content.guardianapis.com/world/2020/apr/24/coronavirus-what-have-scientists-learned-about-covid-19-so-far',\n",
       "    'isHosted': False,\n",
       "    'pillarId': 'pillar/news',\n",
       "    'pillarName': 'News'},\n",
       "   {'id': 'australia-news/2020/apr/21/australia-coronavirus-victims-age-names-deaths-covid-19-australian-death-toll',\n",
       "    'type': 'article',\n",
       "    'sectionId': 'australia-news',\n",
       "    'sectionName': 'Australia news',\n",
       "    'webPublicationDate': '2020-04-21T04:09:50Z',\n",
       "    'webTitle': 'Australia’s coronavirus victims: Covid-19 related deaths across the country',\n",
       "    'webUrl': 'https://www.theguardian.com/australia-news/2020/apr/21/australia-coronavirus-victims-age-names-deaths-covid-19-australian-death-toll',\n",
       "    'apiUrl': 'https://content.guardianapis.com/australia-news/2020/apr/21/australia-coronavirus-victims-age-names-deaths-covid-19-australian-death-toll',\n",
       "    'isHosted': False,\n",
       "    'pillarId': 'pillar/news',\n",
       "    'pillarName': 'News'},\n",
       "   {'id': 'world/2020/apr/14/uk-care-providers-allege-covid-19-death-toll-underestimated',\n",
       "    'type': 'article',\n",
       "    'sectionId': 'world',\n",
       "    'sectionName': 'World news',\n",
       "    'webPublicationDate': '2020-04-15T06:09:09Z',\n",
       "    'webTitle': 'UK coronavirus: care providers allege Covid-19 death toll underestimated',\n",
       "    'webUrl': 'https://www.theguardian.com/world/2020/apr/14/uk-care-providers-allege-covid-19-death-toll-underestimated',\n",
       "    'apiUrl': 'https://content.guardianapis.com/world/2020/apr/14/uk-care-providers-allege-covid-19-death-toll-underestimated',\n",
       "    'isHosted': False,\n",
       "    'pillarId': 'pillar/news',\n",
       "    'pillarName': 'News'},\n",
       "   {'id': 'world/2020/mar/07/uk-coronavirus-total-infected-covid-19-passes-200',\n",
       "    'type': 'article',\n",
       "    'sectionId': 'world',\n",
       "    'sectionName': 'World news',\n",
       "    'webPublicationDate': '2020-03-07T15:55:13Z',\n",
       "    'webTitle': 'Coronavirus UK: total infected with Covid-19 passes 200',\n",
       "    'webUrl': 'https://www.theguardian.com/world/2020/mar/07/uk-coronavirus-total-infected-covid-19-passes-200',\n",
       "    'apiUrl': 'https://content.guardianapis.com/world/2020/mar/07/uk-coronavirus-total-infected-covid-19-passes-200',\n",
       "    'isHosted': False,\n",
       "    'pillarId': 'pillar/news',\n",
       "    'pillarName': 'News'},\n",
       "   {'id': 'world/2020/feb/27/what-is-covid-19',\n",
       "    'type': 'article',\n",
       "    'sectionId': 'world',\n",
       "    'sectionName': 'World news',\n",
       "    'webPublicationDate': '2020-03-25T07:00:39Z',\n",
       "    'webTitle': 'What is Covid-19?',\n",
       "    'webUrl': 'https://www.theguardian.com/world/2020/feb/27/what-is-covid-19',\n",
       "    'apiUrl': 'https://content.guardianapis.com/world/2020/feb/27/what-is-covid-19',\n",
       "    'isHosted': False,\n",
       "    'pillarId': 'pillar/news',\n",
       "    'pillarName': 'News'},\n",
       "   {'id': 'world/2020/apr/11/can-a-face-mask-protect-me-from-coronavirus-covid-19-myths-busted',\n",
       "    'type': 'article',\n",
       "    'sectionId': 'world',\n",
       "    'sectionName': 'World news',\n",
       "    'webPublicationDate': '2020-04-11T10:52:44Z',\n",
       "    'webTitle': 'Can a face mask protect me from coronavirus? Covid-19 myths busted',\n",
       "    'webUrl': 'https://www.theguardian.com/world/2020/apr/11/can-a-face-mask-protect-me-from-coronavirus-covid-19-myths-busted',\n",
       "    'apiUrl': 'https://content.guardianapis.com/world/2020/apr/11/can-a-face-mask-protect-me-from-coronavirus-covid-19-myths-busted',\n",
       "    'isHosted': False,\n",
       "    'pillarId': 'pillar/news',\n",
       "    'pillarName': 'News'},\n",
       "   {'id': 'world/live/2020/apr/24/coronavirus-death-toll-trump-china-live-news-us-passes-480bn-relief-bill-as-ramadan-restrictions-are-imposed-indonesia',\n",
       "    'type': 'liveblog',\n",
       "    'sectionId': 'world',\n",
       "    'sectionName': 'World news',\n",
       "    'webPublicationDate': '2020-04-25T00:22:03Z',\n",
       "    'webTitle': 'Coronavirus live: US Covid-19 death toll passes 50,000 - as it happened',\n",
       "    'webUrl': 'https://www.theguardian.com/world/live/2020/apr/24/coronavirus-death-toll-trump-china-live-news-us-passes-480bn-relief-bill-as-ramadan-restrictions-are-imposed-indonesia',\n",
       "    'apiUrl': 'https://content.guardianapis.com/world/live/2020/apr/24/coronavirus-death-toll-trump-china-live-news-us-passes-480bn-relief-bill-as-ramadan-restrictions-are-imposed-indonesia',\n",
       "    'isHosted': False,\n",
       "    'pillarId': 'pillar/news',\n",
       "    'pillarName': 'News'},\n",
       "   {'id': 'world/2020/mar/26/life-after-coronavirus-pandemic-change-world',\n",
       "    'type': 'article',\n",
       "    'sectionId': 'world',\n",
       "    'sectionName': 'World news',\n",
       "    'webPublicationDate': '2020-03-26T07:00:21Z',\n",
       "    'webTitle': 'Cities after coronavirus: how Covid-19 could radically alter urban life',\n",
       "    'webUrl': 'https://www.theguardian.com/world/2020/mar/26/life-after-coronavirus-pandemic-change-world',\n",
       "    'apiUrl': 'https://content.guardianapis.com/world/2020/mar/26/life-after-coronavirus-pandemic-change-world',\n",
       "    'isHosted': False,\n",
       "    'pillarId': 'pillar/news',\n",
       "    'pillarName': 'News'},\n",
       "   {'id': 'society/2020/apr/02/london-hospital-almost-runs-out-oxygen-coronavirus-patients',\n",
       "    'type': 'article',\n",
       "    'sectionId': 'society',\n",
       "    'sectionName': 'Society',\n",
       "    'webPublicationDate': '2020-04-02T06:28:58Z',\n",
       "    'webTitle': 'Coronavirus: London hospital almost runs out of oxygen for Covid-19 patients',\n",
       "    'webUrl': 'https://www.theguardian.com/society/2020/apr/02/london-hospital-almost-runs-out-oxygen-coronavirus-patients',\n",
       "    'apiUrl': 'https://content.guardianapis.com/society/2020/apr/02/london-hospital-almost-runs-out-oxygen-coronavirus-patients',\n",
       "    'isHosted': False,\n",
       "    'pillarId': 'pillar/news',\n",
       "    'pillarName': 'News'},\n",
       "   {'id': 'world/2020/apr/17/world-biggest-drug-trial-covid-19-uk',\n",
       "    'type': 'article',\n",
       "    'sectionId': 'world',\n",
       "    'sectionName': 'World news',\n",
       "    'webPublicationDate': '2020-04-17T09:11:50Z',\n",
       "    'webTitle': \"Coronavirus: world's biggest trial of drug to treat Covid-19 begins in UK\",\n",
       "    'webUrl': 'https://www.theguardian.com/world/2020/apr/17/world-biggest-drug-trial-covid-19-uk',\n",
       "    'apiUrl': 'https://content.guardianapis.com/world/2020/apr/17/world-biggest-drug-trial-covid-19-uk',\n",
       "    'isHosted': False,\n",
       "    'pillarId': 'pillar/news',\n",
       "    'pillarName': 'News'}]}}"
      ]
     },
     "execution_count": 6,
     "metadata": {},
     "output_type": "execute_result"
    }
   ],
   "source": [
    "response.json()"
   ]
  },
  {
   "cell_type": "markdown",
   "metadata": {},
   "source": [
    "Note how the total number of results is higher than if we just searched for \"covid-19\" on its own."
   ]
  },
  {
   "cell_type": "markdown",
   "metadata": {},
   "source": [
    "**EXERCISE**: Adapt the code above to include other search terms that you consider relevant to Covid-19 (e.g., covid-19 AND Scotland). Consult the <a href=\"https://open-platform.theguardian.com/documentation/search\" target=_blank>API's documentation</a> if you need help constructing more complicated search queries (*Query term* section)."
   ]
  },
  {
   "cell_type": "code",
   "execution_count": 7,
   "metadata": {},
   "outputs": [],
   "source": [
    "# INSERT EXERCISE CODE HERE"
   ]
  },
  {
   "cell_type": "markdown",
   "metadata": {},
   "source": [
    "#### Dealing with multiple pages of results\n",
    "\n",
    "Sticking with our previous example, we noted how the search results were restricted to ten per page. APIs often do not return all of the results for a given request due to the computing resource needed to process large volumes of data. There are a couple of ways of dealing with this issue:\n",
    "* Increasing the number of results returned per page; AND\n",
    "* Requesting each individual page of results\n",
    "\n",
    "First, increase the number of results per page using the `page-size` filter:"
   ]
  },
  {
   "cell_type": "code",
   "execution_count": 10,
   "metadata": {},
   "outputs": [
    {
     "name": "stdout",
     "output_type": "stream",
     "text": [
      "http://content.guardianapis.com/search?q=covid-19 OR coronavirus&page-size=50\n"
     ]
    },
    {
     "data": {
      "text/plain": [
       "200"
      ]
     },
     "execution_count": 10,
     "metadata": {},
     "output_type": "execute_result"
    }
   ],
   "source": [
    "# Define web address and search terms\n",
    "\n",
    "baseurl = \"http://content.guardianapis.com/search?\"\n",
    "searchterms = \"covid-19 OR coronavirus\"\n",
    "auth = {\"api-key\": api_key}\n",
    "numresults = \"50\" # number of results per page\n",
    "\n",
    "webadd = baseurl + \"q=\" + searchterms + \"&page-size=\" + numresults\n",
    "print(webadd)\n",
    "\n",
    "# Make call to API\n",
    "\n",
    "response = requests.get(webadd, headers=auth)\n",
    "response.status_code"
   ]
  },
  {
   "cell_type": "markdown",
   "metadata": {},
   "source": [
    "Confirm the `page-size` filter was applied:"
   ]
  },
  {
   "cell_type": "code",
   "execution_count": 11,
   "metadata": {},
   "outputs": [
    {
     "data": {
      "text/plain": [
       "50"
      ]
     },
     "execution_count": 11,
     "metadata": {},
     "output_type": "execute_result"
    }
   ],
   "source": [
    "data = response.json()\n",
    "data[\"response\"][\"pageSize\"]"
   ]
  },
  {
   "cell_type": "markdown",
   "metadata": {},
   "source": [
    "Good, now let's request each page of results. We start by finding out how many pages we need to request:"
   ]
  },
  {
   "cell_type": "code",
   "execution_count": 12,
   "metadata": {},
   "outputs": [
    {
     "data": {
      "text/plain": [
       "395"
      ]
     },
     "execution_count": 12,
     "metadata": {},
     "output_type": "execute_result"
    }
   ],
   "source": [
    "total_pages = data[\"response\"][\"pages\"]\n",
    "total_pages = total_pages + 1\n",
    "total_pages"
   ]
  },
  {
   "cell_type": "markdown",
   "metadata": {},
   "source": [
    "Note how we needed to add one to the total number of pages. This is because of the way Python loops over a range of numbers. For example, the code below loops over a range of numbers beginning at one and **up to but not including** five:"
   ]
  },
  {
   "cell_type": "code",
   "execution_count": 13,
   "metadata": {},
   "outputs": [
    {
     "name": "stdout",
     "output_type": "stream",
     "text": [
      "1\n",
      "2\n",
      "3\n",
      "4\n"
     ]
    }
   ],
   "source": [
    "for i in range(1, 5):\n",
    "    print(i)"
   ]
  },
  {
   "cell_type": "markdown",
   "metadata": {},
   "source": [
    "Requesting the total number of pages may take a while, so let's just request the first 20:"
   ]
  },
  {
   "cell_type": "code",
   "execution_count": null,
   "metadata": {},
   "outputs": [],
   "source": [
    "for pagenum in range(1, 21):\n",
    "    \n",
    "    baseurl = \"http://content.guardianapis.com/search?\"\n",
    "    searchterms = \"covid-19 OR coronavirus\"\n",
    "    auth = {\"api-key\": api_key}\n",
    "    numresults = \"50\"\n",
    "    \n",
    "    webadd = baseurl + \"q=\" + searchterms + \"&page-size=\" + numresults \\\n",
    "        + \"&page=\" + str(pagenum)\n",
    "    print(webadd)\n",
    "\n",
    "    # Make call to API\n",
    "\n",
    "    response = requests.get(webadd, headers=auth)\n",
    "    response.status_code\n",
    "    \n",
    "    # Save to file\n",
    "    \n",
    "    outfile = \"./downloads/guardian-api-covid-19-search-page-\" \\\n",
    "        + str(pagenum) + \"-\" + date + \".json\"\n",
    "\n",
    "    with open(outfile, \"w\") as f:\n",
    "        json.dump(data, f)"
   ]
  },
  {
   "cell_type": "code",
   "execution_count": null,
   "metadata": {},
   "outputs": [],
   "source": [
    "os.listdir(\"./downloads\")"
   ]
  },
  {
   "cell_type": "markdown",
   "metadata": {},
   "source": [
    "#### Requesting article contents\n",
    "\n",
    "The list of search results contain data and metadata about individual articles. What if we wanted the contents of the article i.e., the text? Thankfully the API has an endpoint (*Single Item*) that provides access to this data.\n",
    "\n",
    "First, we need to extract an article from our list of search results. We do this by accessing its *positional value* (index) in the list: "
   ]
  },
  {
   "cell_type": "code",
   "execution_count": 15,
   "metadata": {},
   "outputs": [
    {
     "data": {
      "text/plain": [
       "{'id': 'australia-news/2020/apr/21/australia-coronavirus-victims-age-names-deaths-covid-19-australian-death-toll',\n",
       " 'type': 'article',\n",
       " 'sectionId': 'australia-news',\n",
       " 'sectionName': 'Australia news',\n",
       " 'webPublicationDate': '2020-04-21T04:09:50Z',\n",
       " 'webTitle': 'Australia’s coronavirus victims: Covid-19 related deaths across the country',\n",
       " 'webUrl': 'https://www.theguardian.com/australia-news/2020/apr/21/australia-coronavirus-victims-age-names-deaths-covid-19-australian-death-toll',\n",
       " 'apiUrl': 'https://content.guardianapis.com/australia-news/2020/apr/21/australia-coronavirus-victims-age-names-deaths-covid-19-australian-death-toll',\n",
       " 'isHosted': False,\n",
       " 'pillarId': 'pillar/news',\n",
       " 'pillarName': 'News'}"
      ]
     },
     "execution_count": 15,
     "metadata": {},
     "output_type": "execute_result"
    }
   ],
   "source": [
    "search_results = data[\"response\"][\"results\"]\n",
    "article = search_results[0] # extract first article in list of results\n",
    "article"
   ]
  },
  {
   "cell_type": "markdown",
   "metadata": {},
   "source": [
    "In Python, indexing begins at zero (in R indexing begins at 1). Therefore, the first item in a list is located at position zero (e.g., `search_results[0]`), the second item at position one (e.g., `search_results[1]`) etc.\n",
    "\n",
    "**TASK**: extract a different article using another index value. Remember, there are 50 elements in the `search_results` list, so `[49]` is the highest index value you can refer to."
   ]
  },
  {
   "cell_type": "markdown",
   "metadata": {},
   "source": [
    "Next, we need to request its contents using the web address contained in the `apiUrl` key and specifying we want the body (text) of the article returned also:"
   ]
  },
  {
   "cell_type": "code",
   "execution_count": 16,
   "metadata": {},
   "outputs": [
    {
     "data": {
      "text/plain": [
       "200"
      ]
     },
     "execution_count": 16,
     "metadata": {},
     "output_type": "execute_result"
    }
   ],
   "source": [
    "baseurl = article[\"apiUrl\"]\n",
    "auth = {\"api-key\": api_key}\n",
    "field = \"body\"\n",
    "\n",
    "webadd = baseurl + \"?show-fields=\" + field\n",
    "\n",
    "# Make call to API\n",
    "\n",
    "response = requests.get(webadd, headers=auth)\n",
    "response.status_code"
   ]
  },
  {
   "cell_type": "code",
   "execution_count": 17,
   "metadata": {},
   "outputs": [
    {
     "data": {
      "text/plain": [
       "{'response': {'status': 'ok',\n",
       "  'userTier': 'developer',\n",
       "  'total': 1,\n",
       "  'content': {'id': 'australia-news/2020/apr/21/australia-coronavirus-victims-age-names-deaths-covid-19-australian-death-toll',\n",
       "   'type': 'article',\n",
       "   'sectionId': 'australia-news',\n",
       "   'sectionName': 'Australia news',\n",
       "   'webPublicationDate': '2020-04-21T04:09:50Z',\n",
       "   'webTitle': 'Australia’s coronavirus victims: Covid-19 related deaths across the country',\n",
       "   'webUrl': 'https://www.theguardian.com/australia-news/2020/apr/21/australia-coronavirus-victims-age-names-deaths-covid-19-australian-death-toll',\n",
       "   'apiUrl': 'https://content.guardianapis.com/australia-news/2020/apr/21/australia-coronavirus-victims-age-names-deaths-covid-19-australian-death-toll',\n",
       "   'fields': {'body': '<p>The Australian death toll from Covid-19 related illnesses stands at 83, as of 27 April. This story will be updated as Australia’s coronavirus victims are identified.</p> <h2>New South Wales (36)</h2> <p><strong>Janet Lieben, 67, Orange</strong></p> <p>On 1 April, Janet Lieben, died after contracting Covid-19. The 67-year-old was a passenger on the Ruby Princess cruise ship.</p> <p>The Daily Telegraph has reported that her husband, Jerry, also contracted the disease on board, and was unable to be with her as she passed away in a regional hospital in Orange.</p> <p><strong>The Dorothy Henderson Lodge</strong></p> <p>Six of the NSW Covid-19 deaths have been residents of the Dorothy Henderson Lodge aged care facility in the Sydney suburb of Macquarie Park. A 95-year-old woman died on 3 March, followed by an 82-year-old man on 9 March, a 90-year-old woman on 14 March and a 91-year-old woman on 28 March. The death of a 95-year-old woman was reported on 1 April.</p> <p>On 7 April, a 90 year-old male died at Dorothy Henderson Lodge in Macquarie Park.</p> <p>A number of other residents and staff members have tested positive for Covid-19.</p> <p><strong>Opal Care Bankstown</strong></p> <p>There are now two deaths associated with Opal Care Bankstown.</p> <p>On 6 April, NSW Health confirmed an 86-year-old male resident died at Liverpool Hospital.</p> <p>The next day a 90 year-old male resident died at the same hospital.</p> <p><strong>Newmarch House</strong></p> <p>Six residents at Newmarch House in Sydney’s west have died in a week.</p> <p>According <a href=\"https://www.health.nsw.gov.au/news/Pages/20200425_00.aspx\">to NSW Health</a>, the aged care facility has recorded 48 confirmed cases of coronavirus - including 17 staff and 31 residents, making it the largest coronavirus cluster in the state after the Ruby Princess ship.</p> <p>On 18 April, a 93-year-old man with multiple health issues died after testing positive for Covid-19.<strong> </strong></p> <p>On 19 April, a 94-year-old resident of Sydney died.</p> <p>A 92-year-old woman became <a href=\"https://www.theguardian.com/world/2020/apr/22/staff-shortage-strikes-coronavirus-stricken-newmarch-house-aged-care-home\">the third resident to die on 22 April </a>after testing positive for Covid-19, followed by a 79-year-old woman on 23 April, a 96-year-old woman on April 24, and an 83-year-old man with multiple health issues on April 25.</p> <p><strong>Unnamed</strong></p> <p>Other NSW deaths related to Covid-19 include an 86-year-old man on 18 March and an 81-year-old woman on 20 March.</p> <p>A 77-year-old woman from the Sunshine Coast died after her health deteriorated on a flight to Sydney on 13 March. She was taken to a Sydney hospital but could not be resuscitated. It was later confirmed she had Covid-19. She is believed to have had an underlying medical condition.</p> <p>On 3 April, a 74-year-old woman who is believed to have contracted the virus overseas died in an Albury hospital. On the same day, a 75-year-old man died in Wollongong. He was a passenger on the Ovation of the Seas cruise ship.</p> <p>On 5 April, NSW Health authorities confirmed four men died overnight. A 61-year-old in Hornsby Hospital, a 76-year- old and 80-year old at Westmead and a 91-year-old from Port Macquarie. Three of these men were believed to be passengers on the Ruby Princess cruise ship.</p> <p>It follows the death of another unnamed passenger on 24 March, with a woman in her 70s dying after disembarking from the Ruby Princess earlier that week. She was transported directly to the hospital from the ship. The NSW Health Department said she was one of the initial three passengers who were confirmed to have tested positive on board the ship. </p> <p>On 6 April, an 85-year-old-man died at Liverpool Hospital, he was a close contact of another confirmed case of Covid-19.</p> <p>On 7 April, an 87 year-old woman passed away at Sutherland Hospital. She was a passenger on the Ruby Princess.</p> <p>On 9 April, a 69-year-old man died in John Hunter hospital in Newcastle. He is believed to have caught the virus on a trip to Queensland.</p> <p>On 11 April, a 91-year-old woman died in hospital – no further details were immediately available.</p> <p>The death of an 82-year-old man with pre-existing medical conditions was reported on 12 April.</p> <p>On 13 April, the health minister, Brad Hazzard, announced that a 74-year-old woman had died at John Hunter hospital, and a 76-year-old man at the Northern Beaches hospital. Both were passengers on the Ruby Princess.</p> <p>On 16 April, a 58-year-old female who suffered a range of co-morbidities died in Tamworth hospital. A test found she was Covid-19 positive when she died.</p> <p>On 18 April, an 83-year-old man, with a range of co-morbidities and confirmed Covid-19, passed away today at the Royal Prince Alfred Hospital. He was a Queensland resident and passenger on Celebrity Eclipse, an overseas cruise ship that docked in San Diego.</p> <p>On 22 April, NSW chief medical officer Dr Kerry Chant announced two people had died overnight after testing positive with coronavirus. These included a 75-year-old man at St George Hospital, who was a household contact of a known case; an 80-year-old woman, who passed away in Gosford hospital with pre-existing medical conditions, who was part of a Gosford hospital outbreak.</p> <h2>Victoria (17)</h2> <p><strong>Elaine Cairns, Melbourne</strong></p> <p>Elaine Cairns died in hospital on April 4. She was aged in her 70s and was a dedicated volunteer at the Mornington Railway Preservation Society, who shared the news of her death of Facebook.</p> <p>“Elaine Cairns, a friend to many of us, and a long-serving member of our marketing team came home after an overseas trip recently and passed away this morning as a direct result of her contracting Covid-19,” the post read.</p> <p>“Rest in Peace Elaine, thank you for everything you did for us at the Mornington Railway and God Bless You.”</p> <p><strong>Sumith Pramachandra, 55, Melbourne</strong></p>  <figure class=\"element element-image\" data-media-id=\"a31479694ca79adba799d1e424395f6cc301a477\"> <img src=\"https://media.guim.co.uk/a31479694ca79adba799d1e424395f6cc301a477/0_67_1440_864/1000.jpg\" alt=\"Sumith Pramachandra\" width=\"1000\" height=\"600\" class=\"gu-image\" /> <figcaption> <span class=\"element-image__caption\">Sumith Pramachandra’s daughters said he was a loving grandfather and the life of any party.</span> <span class=\"element-image__credit\">Photograph: Gillian McMullen</span> </figcaption> </figure>  <p>The 55-year-old passed away at Dandenong Hospital on 6 April, several days after being diagnosed.</p> <p>His daughter, Sharyn, shared a tribute on Facebook.</p> <p>“Our hearts are broken into a million pieces. He was the most charismatic, kind-hearted, generous, hilarious, lovable, godly and caring man you would ever meet. Everyone that knew him would tell you he lit up any room he walked into and his presence will never be replaced,” she said.</p> <p>“Our dad was a disability nurse, a health care worker on the frontline, but for those of you that aren’t taking Covid-19 seriously, it may be hard not to see your friends and family at the moment but you can choose to isolate now or potentially live with the heartbreak of losing them forever.”</p> <p><strong>Marion Scott, 82, Melbourne</strong></p> <p>Marion Scott died at the Frankston Hospital near Melbourne on 7 April after contracting Covid-19. The 82-year-old was Victoria’s twelfth casualty.</p> <p>“Mum wasn’t number twelve, mum was our mum, grandmother, a great grandmother. Her name was Marion and she was loved so much,” Scott’s daughter, Marlene Stevenson, told 7 News.</p> <p>Scott was hospitalised 10 days after attending a radiology centre for a hip scan. A number of staff members from the centre have since tested positive to Covid-19.</p> <p><strong>Giuseppe Franzoni, 84, Melbourne</strong></p> <p>Giuseppe Franzoni died at the Sunshine Hospital in Melbourne on 18 April.</p> <p>The 84-year-old’s family told The Age he was “larger than life”.</p> <p>“He loved his family and would travel to the end of the world for them, but he expected the same in return,” said his son Frank Franzoni.</p> <p>Unable to be with him as he died, Franzoni’s family watched his last moments over a video call.</p> <p><strong>Unnamed</strong></p> <p>Three men, all in their 70s, died on 26 March after being diagnosed with Covid-19. The death of a fourth man, in his 80s, was reported on 29 March.</p> <p>On 1 April, a woman in her 70s died in hospital. The death of another woman in her 60s, which occurred the same night in a Melbourne hospital, was reported the following day.</p> <p>On 3 April, the chief health officer confirmed a man in his 70s had died in intensive care in hospital overnight.</p> <p>On 6 April, Victorian health minister Jenny Mikakos confirmed a woman in her 80s had died overnight. </p> <p>On 7 April, premier Daniel Andrews said an 11th Victoria had died overnight. </p> <p>On 10 April, a man in his 80s died in hospital. No further details were available at the time.</p> <p>On 11 April, Mikakos said another man in his 80s had died in hospital.</p> <p>On 23 April, Mikakos announced that a man in his 60s had died overnight.</p> <p>On 26 April, Mikakos confirmed that a man in his 90s had died in hospital overnight, bringing the state’s total deaths to 17.</p> <h2>Western Australia (8)</h2> <p><strong>James Kwan, 78, Perth</strong></p> <p>James Kwan was the first person in Australia to die after being diagnosed with Covid-19. The 78-year-old Perth man was a passenger on board the Diamond Princess, a cruise ship that was forced to quarantine in the Japanese port of Yokohama in February.</p> <p>He and his wife were among the 150 Australians who were isolated on board.</p> <p>He was transported home to Australia on a government-chartered Qantas flight and was diagnosed while isolating in Howard Springs, Northern Territory. He was then moved to a Perth hospital where died in the early hours of 1 March.</p> <p>Kwan has been remembered as a tourism pioneer, establishing Perth’s first inbound tourism company, Wel-Travel in 1988. He was a founding member of the Western Australian Tour Operators Association, now known as the Australian Tourism Export Council.</p> <p><strong>Ray Daniels, 73, Perth</strong></p>  <figure class=\"element element-image\" data-media-id=\"fd7013c9a78512ca36abb2ecfd80cbb2e60c2eb3\"> <img src=\"https://media.guim.co.uk/fd7013c9a78512ca36abb2ecfd80cbb2e60c2eb3/0_12_986_592/500.jpg\" alt=\"Western Australian man Ray Daniels died from coronavirus after travelling on the Celebrity Solstice cruise ship.\" width=\"500\" height=\"300\" class=\"gu-image\" /> <figcaption> <span class=\"element-image__caption\">Western Australian man Ray Daniels died from coronavirus after travelling on the Celebrity Solstice cruise ship.</span> <span class=\"element-image__credit\">Photograph: WA Police</span> </figcaption> </figure>  <p>On 26 March, a second WA man, Ray Daniels died at the Joondalup Health Campus after being diagnosed with Covid-19.</p> <p>“We as a family are completely devastated by the sudden death of our father, husband and grandfather. He was a very fit, healthy and active man with no known underlying health issues. He showed no real significant signs of being unwell until he collapsed at home on Wednesday morning. He died within 48 hours,” his family said in a statement.</p> <p>“Clearly this virus does not discriminate and we never believed for one second that it would take him from us.”</p> <p>He disembarked from the Celebrity Solstice cruise ship in Sydney earlier in the week.</p> <p><strong>Artania Cruise Ship</strong></p> <p>On 3 April, a German tourist died in Perth. The man, in his 70s, was a passenger on the Artania cruise ship and had been transferred to hospital a week earlier.</p> <p>A 42-year-old Filipino who was a crew member of the Artania died in Perth Royal hospital, becoming the youngest victim of Covid-19 in Australia to date. Announcing the man’s death on 17 April, the WA health minister, Roger Cook, said the man had been put in touch with his family before he died.</p> <p>“His family have been notified, and were put in contact with that crew member via translators and the shipping company,” Cook said. “They were able to reach out to him in his dying days.”</p> <p>On 24 April, Western Australia authorities reported a male passenger in his 70s on the Artania cruise ship, who was being treated for Covid-19, died overnight.</p> <p><strong>Unnamed</strong></p> <p>On 6 April, WA health minister Roger Cook announced a man in his 80s died from Covid-19 at Royal Perth hospital.</p> <p>On 7 April, Cook announced that a man and a woman, both in their 70s, had died overnight. The woman died at the Royal Perth hospital and had recently returned from overseas. The man was a passenger on the Artania cruise ship. He died at Joondalup health campus.</p> <h2>Queensland (4*)</h2> <p><strong>Garry Kirstenfeldt, 68, Toowoomba</strong></p>  <figure class=\"element element-image element--supporting\" data-media-id=\"5e5b437ee02cefb134ff02c94e80737915172343\"> <img src=\"https://media.guim.co.uk/5e5b437ee02cefb134ff02c94e80737915172343/0_0_720_960/375.jpg\" alt=\"Queensland man Garry Kirstenfeldt was Australia’s ninth coronavirus victim\" width=\"375\" height=\"500\" class=\"gu-image\" /> <figcaption> <span class=\"element-image__caption\">Queensland man Garry Kirstenfeldt was Australia’s ninth coronavirus victim</span> <span class=\"element-image__credit\">Photograph: Supplied</span> </figcaption> </figure>  <p>Garry Kirstenfeldt was the second Queensland victim, and the first to die in Queensland.</p> <p>The 68-year-old died on 25 March in Toowoomba, after recently disembarking from the Voyager of the Seas cruise ship in Sydney.</p> <p>His family say he was an avid traveller.</p> <p>“Our father was a man with much more life in him,” his children said in a statement.</p> <p>“He had been on 16 cruise ships and loved to relax with family or worry about activities to keep us entertained … We never expected his 17th cruise to be his last or no one to be at his side for the last moments of his life. As his family, this was the first time he had been in hospital and we were not at his side.”</p> <p>The Queensland Department of Health said he had a serious underlying medical condition before contracting the virus</p> <p>His wife Jennifer and other members of his family are now in self-isolation.</p> <p><strong>Karla Lake, 75, Caboolture</strong></p> <p>Karla Lake, and her husband Graeme both contracted Covid-19 while on the Ruby Princess cruise ship.</p> <p>Graeme told 7 News that he was in the room with Karla when she passed away in a Caboolture hospital on 29 March.</p> <p>“She was just the loveliest person you could ever have married,” he said.</p> <p>“She was an angel. She used to do work for Vietnam veterans in Hervey Bay… She would have done anything for everyone.”</p> <p><strong>Des Williams, 85, Toowoomba</strong></p>  <figure class=\"element element-image element--thumbnail\" data-media-id=\"0343f697cf0e80932406f7fdcdb437e3ab839058\"> <img src=\"https://media.guim.co.uk/0343f697cf0e80932406f7fdcdb437e3ab839058/0_3_368_258/368..jpg\" alt=\"Des Williams, who died from coronavirus on 2 April in a Toowoomba hospital, and his wife Bev. The 85-year-old was a passenger on the Ruby Princess cruise ship.\" width=\"368\" height=\"258\" class=\"gu-image\" /> <figcaption> <span class=\"element-image__caption\">Des Williams, who died from coronavirus on 2 April in a Toowoomba hospital, and his wife Bev. The 85-year-old was a passenger on the Ruby Princess cruise ship.</span> <span class=\"element-image__credit\">Photograph: Supplied</span> </figcaption> </figure>  <p>On 2 April Des Williams, who was a passenger on the Ruby Princess cruise ship, passed away in a Toowoomba hospital.</p> <p>His family say he was a patient and loving grandfather.</p> <p>“Des was a beautiful man who saw the best in every person and gave so much of his time to each and every one of us,” his relative Jacqui Blackburn posted on Facebook.</p> <p>“The news are reporting that an elderly man passed away, but while Des was 85, he had the health and strength of a 75-year-old. I wish they wouldn’t say he was elderly because he was nothing like that. He would spend most of his days in the garden tending to his plants and his garden.”</p> <p>Williams was a retired minister at St Stephen’s Uniting Church.</p> <p>His wife Bev was also a passenger on the ship, however, relatives say she is in good physical health.</p> <p><strong>Unnamed</strong></p> <p>On 5 April, Queensland Health confirmed that a 78-year-old man had died at the Prince Charles hospital in Brisbane. The man had underlying medical conditions and had contracted the disease after recently returning from a cruise.</p> <p>*Queensland counts the death of a Queensland woman who died in Sydney as part of its toll but she is included in national figures under NSW deaths and is in this piece too. Queensland also counts the death of an 83-year-old man who passed away from coronavirus while quarantined in Sydney. He is included in this piece under NSW deaths.</p> <h2>Tasmania (11)</h2> <p>On the morning of 30 March, Tasmanian premier Peter Gutwein confirmed the state’s first death, a woman in her 80s, who died in the North West Regional hospital in Burnie. A second Tasmanian death was reported on 31 March, a man in his 80s. Both had been passengers on the Ruby Princess, the state’s health minister, Sarah Courtney, said.</p> <p>On 7 April, a man in his eighties died at the North West Regional Hospital. He was a passenger on board the Ruby Princess.</p> <p>On 10 April, Gutwein confirmed the death of a man in his late 70s, who was being cared for at the North West Regional Hospital.</p> <p>On 12 April, Gutwein announced the death of a woman in her 70s at the same hospital. The same day he announced that it and the North West private hospital would close for 14 days as a result of the cluster of cases associated with patients and healthcare workers there. All of Tasmania’s 133 cases to that date had been in the north-west of the state.</p> <p>On 14 April, Gutwein offered his condolences to the family of a 91-year-old woman who died at the Mersey Community hospital in Devonport overnight.</p> <p>On 17 April the death was reported of a 72-year-old man, also in the Mersey.</p> <p>On 18 April, a 74-year-old man died at the Mersey hospital.</p> <p>On 24 April, the death of a 79-year-old woman from the state’ s North West was reported. She was being cared for at the Launceston General Hospital.</p> <p>On 25 April, <a href=\"http://www.premier.tas.gov.au/releases/10th_coronavirus_death_in_tasmania\">Gutwein confirmed </a>the state’s 10th coronavirus death, a 90-year-old man from the North West. He was being cared for at the Mersey Community Hospital.</p> <p>On 27 April, <a href=\"http://www.premier.tas.gov.au/releases/11th_coronavirus_death_in_tasmania\">Gutwein announced</a> that another North West man in his 90s from the North West died.</p> <h2>South Australia (4)</h2> <p><strong>Francesco Ferraro, 75, Adelaide</strong></p>  <figure class=\"element element-image\" data-media-id=\"6552f5a4e2a11d30aab03c0455fdfa026836551b\"> <img src=\"https://media.guim.co.uk/6552f5a4e2a11d30aab03c0455fdfa026836551b/0_0_2200_1429/1000.jpg\" alt=\"Francesco Ferraro with his wife and niece Anna Ferraro Cox.\" width=\"1000\" height=\"650\" class=\"gu-image\" /> <figcaption> <span class=\"element-image__caption\">Francesco Ferraro with his wife and niece Anna Ferraro Cox.</span> <span class=\"element-image__credit\">Photograph: Anna Ferraro Cox</span> </figcaption> </figure>  <p>On 6 April, South Australia recorded the state’s first death, 75-year-old Francesco (Frank) Ferraro from metropolitan Adelaide, who died at the Royal Adelaide Hospital.</p> <p>“Mr. Ferraro was a loving husband and father to three children and grandfather to eight,” his family said in a statement.</p> <p>His family said Ferraro had attended a family function interstate in March and began to feel unwell when he returned.</p> <p>“My father’s interactions which caused the spread of the virus were nothing outside what a family or group of friends would experience.</p> <p>“The family would like to take this opportunity to implore all South Australians to abide by and comply with all the advice and directions given by the government and police.”</p> <p><strong>Unnamed</strong></p> <p>A 62-year-old woman died early on 8 April after contracting the virus as a passenger on the Ruby Princess. SA’s chief public health officer, Nicola Spurrier, said it was understood the woman had “some very mild health problems, but that would be the same as most other 62-year-olds in our society”.</p> <p>A 76-year-old man who acquired Covid-19 in the Barossa Valley died on 9 April.</p> <p>On 12 April SA Health reported that a 74-year-old man from metropolitan Adelaide had died the previous night in Royal Adelaide hospital. The man had acquired Covid-19 on the Ruby Princess.</p> <h2>ACT (3)</h2> <p>A woman in her 80s became the territory’s first fatality on 30 March. She had been a passenger on the Ruby Princess, the territory’s health authorities reported.</p> <p>A man in his 80s, who had pre-existing health issues, died at the Canberra Hospital on 4 April.</p> <p>On 14 April ACT chief health officer Dr Kerryn Coleman, advised the Canberra community of the territory’s third death from Covid-19. The woman aged in her 60s died at the Canberra hospital. She acquired the virus while onboard the Ruby Princess.</p> <h2>Australians overseas</h2> <p>A <a href=\"https://www.theguardian.com/world/2020/mar/20/coronavirus-australian-man-36-diagnosed-with-virus-dies-in-iceland\">36-year-old Australian man</a> diagnosed with Covid-19 died in <a href=\"https://www.theguardian.com/world/iceland\">Iceland</a>.</p> <p>However, doctors said the man’s symptoms were atypical and although he had the illness they were continuing to investigate the cause of his death.</p> <ul> <li><p><em>Due to the unprecedented and ongoing nature of the coronavirus outbreak, this article is being regularly updated to ensure that it reflects the current situation at the date of publication. Any significant corrections made to this or previous versions of the article will continue to be footnoted in line with Guardian editorial policy.</em></p></li> </ul>'},\n",
       "   'isHosted': False,\n",
       "   'pillarId': 'pillar/news',\n",
       "   'pillarName': 'News'}}}"
      ]
     },
     "execution_count": 17,
     "metadata": {},
     "output_type": "execute_result"
    }
   ],
   "source": [
    "data = response.json()\n",
    "data"
   ]
  },
  {
   "cell_type": "markdown",
   "metadata": {},
   "source": [
    "Note we now have a key called `fields` which contains a dictionary with one key (`body`):"
   ]
  },
  {
   "cell_type": "code",
   "execution_count": 18,
   "metadata": {},
   "outputs": [
    {
     "data": {
      "text/plain": [
       "dict_keys(['body'])"
      ]
     },
     "execution_count": 18,
     "metadata": {},
     "output_type": "execute_result"
    }
   ],
   "source": [
    "data[\"response\"][\"content\"][\"fields\"].keys()"
   ]
  },
  {
   "cell_type": "code",
   "execution_count": 19,
   "metadata": {},
   "outputs": [
    {
     "data": {
      "text/plain": [
       "'<p>The Australian death toll from Covid-19 related illnesses stands at 83, as of 27 April. This story will be updated as Australia’s coronavirus victims are identified.</p> <h2>New South Wales (36)</h2> <p><strong>Janet Lieben, 67, Orange</strong></p> <p>On 1 April, Janet Lieben, died after contracting Covid-19. The 67-year-old was a passenger on the Ruby Princess cruise ship.</p> <p>The Daily Telegraph has reported that her husband, Jerry, also contracted the disease on board, and was unable to be with her as she passed away in a regional hospital in Orange.</p> <p><strong>The Dorothy Henderson Lodge</strong></p> <p>Six of the NSW Covid-19 deaths have been residents of the Dorothy Henderson Lodge aged care facility in the Sydney suburb of Macquarie Park. A 95-year-old woman died on 3 March, followed by an 82-year-old man on 9 March, a 90-year-old woman on 14 March and a 91-year-old woman on 28 March. The death of a 95-year-old woman was reported on 1 April.</p> <p>On 7 April, a 90 year-old male died at Dorothy Henderson Lodge in Macquarie Park.</p> <p>A number of other residents and staff members have tested positive for Covid-19.</p> <p><strong>Opal Care Bankstown</strong></p> <p>There are now two deaths associated with Opal Care Bankstown.</p> <p>On 6 April, NSW Health confirmed an 86-year-old male resident died at Liverpool Hospital.</p> <p>The next day a 90 year-old male resident died at the same hospital.</p> <p><strong>Newmarch House</strong></p> <p>Six residents at Newmarch House in Sydney’s west have died in a week.</p> <p>According <a href=\"https://www.health.nsw.gov.au/news/Pages/20200425_00.aspx\">to NSW Health</a>, the aged care facility has recorded 48 confirmed cases of coronavirus - including 17 staff and 31 residents, making it the largest coronavirus cluster in the state after the Ruby Princess ship.</p> <p>On 18 April, a 93-year-old man with multiple health issues died after testing positive for Covid-19.<strong> </strong></p> <p>On 19 April, a 94-year-old resident of Sydney died.</p> <p>A 92-year-old woman became <a href=\"https://www.theguardian.com/world/2020/apr/22/staff-shortage-strikes-coronavirus-stricken-newmarch-house-aged-care-home\">the third resident to die on 22 April </a>after testing positive for Covid-19, followed by a 79-year-old woman on 23 April, a 96-year-old woman on April 24, and an 83-year-old man with multiple health issues on April 25.</p> <p><strong>Unnamed</strong></p> <p>Other NSW deaths related to Covid-19 include an 86-year-old man on 18 March and an 81-year-old woman on 20 March.</p> <p>A 77-year-old woman from the Sunshine Coast died after her health deteriorated on a flight to Sydney on 13 March. She was taken to a Sydney hospital but could not be resuscitated. It was later confirmed she had Covid-19. She is believed to have had an underlying medical condition.</p> <p>On 3 April, a 74-year-old woman who is believed to have contracted the virus overseas died in an Albury hospital. On the same day, a 75-year-old man died in Wollongong. He was a passenger on the Ovation of the Seas cruise ship.</p> <p>On 5 April, NSW Health authorities confirmed four men died overnight. A 61-year-old in Hornsby Hospital, a 76-year- old and 80-year old at Westmead and a 91-year-old from Port Macquarie. Three of these men were believed to be passengers on the Ruby Princess cruise ship.</p> <p>It follows the death of another unnamed passenger on 24 March, with a woman in her 70s dying after disembarking from the Ruby Princess earlier that week. She was transported directly to the hospital from the ship. The NSW Health Department said she was one of the initial three passengers who were confirmed to have tested positive on board the ship. </p> <p>On 6 April, an 85-year-old-man died at Liverpool Hospital, he was a close contact of another confirmed case of Covid-19.</p> <p>On 7 April, an 87 year-old woman passed away at Sutherland Hospital. She was a passenger on the Ruby Princess.</p> <p>On 9 April, a 69-year-old man died in John Hunter hospital in Newcastle. He is believed to have caught the virus on a trip to Queensland.</p> <p>On 11 April, a 91-year-old woman died in hospital – no further details were immediately available.</p> <p>The death of an 82-year-old man with pre-existing medical conditions was reported on 12 April.</p> <p>On 13 April, the health minister, Brad Hazzard, announced that a 74-year-old woman had died at John Hunter hospital, and a 76-year-old man at the Northern Beaches hospital. Both were passengers on the Ruby Princess.</p> <p>On 16 April, a 58-year-old female who suffered a range of co-morbidities died in Tamworth hospital. A test found she was Covid-19 positive when she died.</p> <p>On 18 April, an 83-year-old man, with a range of co-morbidities and confirmed Covid-19, passed away today at the Royal Prince Alfred Hospital. He was a Queensland resident and passenger on Celebrity Eclipse, an overseas cruise ship that docked in San Diego.</p> <p>On 22 April, NSW chief medical officer Dr Kerry Chant announced two people had died overnight after testing positive with coronavirus. These included a 75-year-old man at St George Hospital, who was a household contact of a known case; an 80-year-old woman, who passed away in Gosford hospital with pre-existing medical conditions, who was part of a Gosford hospital outbreak.</p> <h2>Victoria (17)</h2> <p><strong>Elaine Cairns, Melbourne</strong></p> <p>Elaine Cairns died in hospital on April 4. She was aged in her 70s and was a dedicated volunteer at the Mornington Railway Preservation Society, who shared the news of her death of Facebook.</p> <p>“Elaine Cairns, a friend to many of us, and a long-serving member of our marketing team came home after an overseas trip recently and passed away this morning as a direct result of her contracting Covid-19,” the post read.</p> <p>“Rest in Peace Elaine, thank you for everything you did for us at the Mornington Railway and God Bless You.”</p> <p><strong>Sumith Pramachandra, 55, Melbourne</strong></p>  <figure class=\"element element-image\" data-media-id=\"a31479694ca79adba799d1e424395f6cc301a477\"> <img src=\"https://media.guim.co.uk/a31479694ca79adba799d1e424395f6cc301a477/0_67_1440_864/1000.jpg\" alt=\"Sumith Pramachandra\" width=\"1000\" height=\"600\" class=\"gu-image\" /> <figcaption> <span class=\"element-image__caption\">Sumith Pramachandra’s daughters said he was a loving grandfather and the life of any party.</span> <span class=\"element-image__credit\">Photograph: Gillian McMullen</span> </figcaption> </figure>  <p>The 55-year-old passed away at Dandenong Hospital on 6 April, several days after being diagnosed.</p> <p>His daughter, Sharyn, shared a tribute on Facebook.</p> <p>“Our hearts are broken into a million pieces. He was the most charismatic, kind-hearted, generous, hilarious, lovable, godly and caring man you would ever meet. Everyone that knew him would tell you he lit up any room he walked into and his presence will never be replaced,” she said.</p> <p>“Our dad was a disability nurse, a health care worker on the frontline, but for those of you that aren’t taking Covid-19 seriously, it may be hard not to see your friends and family at the moment but you can choose to isolate now or potentially live with the heartbreak of losing them forever.”</p> <p><strong>Marion Scott, 82, Melbourne</strong></p> <p>Marion Scott died at the Frankston Hospital near Melbourne on 7 April after contracting Covid-19. The 82-year-old was Victoria’s twelfth casualty.</p> <p>“Mum wasn’t number twelve, mum was our mum, grandmother, a great grandmother. Her name was Marion and she was loved so much,” Scott’s daughter, Marlene Stevenson, told 7 News.</p> <p>Scott was hospitalised 10 days after attending a radiology centre for a hip scan. A number of staff members from the centre have since tested positive to Covid-19.</p> <p><strong>Giuseppe Franzoni, 84, Melbourne</strong></p> <p>Giuseppe Franzoni died at the Sunshine Hospital in Melbourne on 18 April.</p> <p>The 84-year-old’s family told The Age he was “larger than life”.</p> <p>“He loved his family and would travel to the end of the world for them, but he expected the same in return,” said his son Frank Franzoni.</p> <p>Unable to be with him as he died, Franzoni’s family watched his last moments over a video call.</p> <p><strong>Unnamed</strong></p> <p>Three men, all in their 70s, died on 26 March after being diagnosed with Covid-19. The death of a fourth man, in his 80s, was reported on 29 March.</p> <p>On 1 April, a woman in her 70s died in hospital. The death of another woman in her 60s, which occurred the same night in a Melbourne hospital, was reported the following day.</p> <p>On 3 April, the chief health officer confirmed a man in his 70s had died in intensive care in hospital overnight.</p> <p>On 6 April, Victorian health minister Jenny Mikakos confirmed a woman in her 80s had died overnight. </p> <p>On 7 April, premier Daniel Andrews said an 11th Victoria had died overnight. </p> <p>On 10 April, a man in his 80s died in hospital. No further details were available at the time.</p> <p>On 11 April, Mikakos said another man in his 80s had died in hospital.</p> <p>On 23 April, Mikakos announced that a man in his 60s had died overnight.</p> <p>On 26 April, Mikakos confirmed that a man in his 90s had died in hospital overnight, bringing the state’s total deaths to 17.</p> <h2>Western Australia (8)</h2> <p><strong>James Kwan, 78, Perth</strong></p> <p>James Kwan was the first person in Australia to die after being diagnosed with Covid-19. The 78-year-old Perth man was a passenger on board the Diamond Princess, a cruise ship that was forced to quarantine in the Japanese port of Yokohama in February.</p> <p>He and his wife were among the 150 Australians who were isolated on board.</p> <p>He was transported home to Australia on a government-chartered Qantas flight and was diagnosed while isolating in Howard Springs, Northern Territory. He was then moved to a Perth hospital where died in the early hours of 1 March.</p> <p>Kwan has been remembered as a tourism pioneer, establishing Perth’s first inbound tourism company, Wel-Travel in 1988. He was a founding member of the Western Australian Tour Operators Association, now known as the Australian Tourism Export Council.</p> <p><strong>Ray Daniels, 73, Perth</strong></p>  <figure class=\"element element-image\" data-media-id=\"fd7013c9a78512ca36abb2ecfd80cbb2e60c2eb3\"> <img src=\"https://media.guim.co.uk/fd7013c9a78512ca36abb2ecfd80cbb2e60c2eb3/0_12_986_592/500.jpg\" alt=\"Western Australian man Ray Daniels died from coronavirus after travelling on the Celebrity Solstice cruise ship.\" width=\"500\" height=\"300\" class=\"gu-image\" /> <figcaption> <span class=\"element-image__caption\">Western Australian man Ray Daniels died from coronavirus after travelling on the Celebrity Solstice cruise ship.</span> <span class=\"element-image__credit\">Photograph: WA Police</span> </figcaption> </figure>  <p>On 26 March, a second WA man, Ray Daniels died at the Joondalup Health Campus after being diagnosed with Covid-19.</p> <p>“We as a family are completely devastated by the sudden death of our father, husband and grandfather. He was a very fit, healthy and active man with no known underlying health issues. He showed no real significant signs of being unwell until he collapsed at home on Wednesday morning. He died within 48 hours,” his family said in a statement.</p> <p>“Clearly this virus does not discriminate and we never believed for one second that it would take him from us.”</p> <p>He disembarked from the Celebrity Solstice cruise ship in Sydney earlier in the week.</p> <p><strong>Artania Cruise Ship</strong></p> <p>On 3 April, a German tourist died in Perth. The man, in his 70s, was a passenger on the Artania cruise ship and had been transferred to hospital a week earlier.</p> <p>A 42-year-old Filipino who was a crew member of the Artania died in Perth Royal hospital, becoming the youngest victim of Covid-19 in Australia to date. Announcing the man’s death on 17 April, the WA health minister, Roger Cook, said the man had been put in touch with his family before he died.</p> <p>“His family have been notified, and were put in contact with that crew member via translators and the shipping company,” Cook said. “They were able to reach out to him in his dying days.”</p> <p>On 24 April, Western Australia authorities reported a male passenger in his 70s on the Artania cruise ship, who was being treated for Covid-19, died overnight.</p> <p><strong>Unnamed</strong></p> <p>On 6 April, WA health minister Roger Cook announced a man in his 80s died from Covid-19 at Royal Perth hospital.</p> <p>On 7 April, Cook announced that a man and a woman, both in their 70s, had died overnight. The woman died at the Royal Perth hospital and had recently returned from overseas. The man was a passenger on the Artania cruise ship. He died at Joondalup health campus.</p> <h2>Queensland (4*)</h2> <p><strong>Garry Kirstenfeldt, 68, Toowoomba</strong></p>  <figure class=\"element element-image element--supporting\" data-media-id=\"5e5b437ee02cefb134ff02c94e80737915172343\"> <img src=\"https://media.guim.co.uk/5e5b437ee02cefb134ff02c94e80737915172343/0_0_720_960/375.jpg\" alt=\"Queensland man Garry Kirstenfeldt was Australia’s ninth coronavirus victim\" width=\"375\" height=\"500\" class=\"gu-image\" /> <figcaption> <span class=\"element-image__caption\">Queensland man Garry Kirstenfeldt was Australia’s ninth coronavirus victim</span> <span class=\"element-image__credit\">Photograph: Supplied</span> </figcaption> </figure>  <p>Garry Kirstenfeldt was the second Queensland victim, and the first to die in Queensland.</p> <p>The 68-year-old died on 25 March in Toowoomba, after recently disembarking from the Voyager of the Seas cruise ship in Sydney.</p> <p>His family say he was an avid traveller.</p> <p>“Our father was a man with much more life in him,” his children said in a statement.</p> <p>“He had been on 16 cruise ships and loved to relax with family or worry about activities to keep us entertained … We never expected his 17th cruise to be his last or no one to be at his side for the last moments of his life. As his family, this was the first time he had been in hospital and we were not at his side.”</p> <p>The Queensland Department of Health said he had a serious underlying medical condition before contracting the virus</p> <p>His wife Jennifer and other members of his family are now in self-isolation.</p> <p><strong>Karla Lake, 75, Caboolture</strong></p> <p>Karla Lake, and her husband Graeme both contracted Covid-19 while on the Ruby Princess cruise ship.</p> <p>Graeme told 7 News that he was in the room with Karla when she passed away in a Caboolture hospital on 29 March.</p> <p>“She was just the loveliest person you could ever have married,” he said.</p> <p>“She was an angel. She used to do work for Vietnam veterans in Hervey Bay… She would have done anything for everyone.”</p> <p><strong>Des Williams, 85, Toowoomba</strong></p>  <figure class=\"element element-image element--thumbnail\" data-media-id=\"0343f697cf0e80932406f7fdcdb437e3ab839058\"> <img src=\"https://media.guim.co.uk/0343f697cf0e80932406f7fdcdb437e3ab839058/0_3_368_258/368..jpg\" alt=\"Des Williams, who died from coronavirus on 2 April in a Toowoomba hospital, and his wife Bev. The 85-year-old was a passenger on the Ruby Princess cruise ship.\" width=\"368\" height=\"258\" class=\"gu-image\" /> <figcaption> <span class=\"element-image__caption\">Des Williams, who died from coronavirus on 2 April in a Toowoomba hospital, and his wife Bev. The 85-year-old was a passenger on the Ruby Princess cruise ship.</span> <span class=\"element-image__credit\">Photograph: Supplied</span> </figcaption> </figure>  <p>On 2 April Des Williams, who was a passenger on the Ruby Princess cruise ship, passed away in a Toowoomba hospital.</p> <p>His family say he was a patient and loving grandfather.</p> <p>“Des was a beautiful man who saw the best in every person and gave so much of his time to each and every one of us,” his relative Jacqui Blackburn posted on Facebook.</p> <p>“The news are reporting that an elderly man passed away, but while Des was 85, he had the health and strength of a 75-year-old. I wish they wouldn’t say he was elderly because he was nothing like that. He would spend most of his days in the garden tending to his plants and his garden.”</p> <p>Williams was a retired minister at St Stephen’s Uniting Church.</p> <p>His wife Bev was also a passenger on the ship, however, relatives say she is in good physical health.</p> <p><strong>Unnamed</strong></p> <p>On 5 April, Queensland Health confirmed that a 78-year-old man had died at the Prince Charles hospital in Brisbane. The man had underlying medical conditions and had contracted the disease after recently returning from a cruise.</p> <p>*Queensland counts the death of a Queensland woman who died in Sydney as part of its toll but she is included in national figures under NSW deaths and is in this piece too. Queensland also counts the death of an 83-year-old man who passed away from coronavirus while quarantined in Sydney. He is included in this piece under NSW deaths.</p> <h2>Tasmania (11)</h2> <p>On the morning of 30 March, Tasmanian premier Peter Gutwein confirmed the state’s first death, a woman in her 80s, who died in the North West Regional hospital in Burnie. A second Tasmanian death was reported on 31 March, a man in his 80s. Both had been passengers on the Ruby Princess, the state’s health minister, Sarah Courtney, said.</p> <p>On 7 April, a man in his eighties died at the North West Regional Hospital. He was a passenger on board the Ruby Princess.</p> <p>On 10 April, Gutwein confirmed the death of a man in his late 70s, who was being cared for at the North West Regional Hospital.</p> <p>On 12 April, Gutwein announced the death of a woman in her 70s at the same hospital. The same day he announced that it and the North West private hospital would close for 14 days as a result of the cluster of cases associated with patients and healthcare workers there. All of Tasmania’s 133 cases to that date had been in the north-west of the state.</p> <p>On 14 April, Gutwein offered his condolences to the family of a 91-year-old woman who died at the Mersey Community hospital in Devonport overnight.</p> <p>On 17 April the death was reported of a 72-year-old man, also in the Mersey.</p> <p>On 18 April, a 74-year-old man died at the Mersey hospital.</p> <p>On 24 April, the death of a 79-year-old woman from the state’ s North West was reported. She was being cared for at the Launceston General Hospital.</p> <p>On 25 April, <a href=\"http://www.premier.tas.gov.au/releases/10th_coronavirus_death_in_tasmania\">Gutwein confirmed </a>the state’s 10th coronavirus death, a 90-year-old man from the North West. He was being cared for at the Mersey Community Hospital.</p> <p>On 27 April, <a href=\"http://www.premier.tas.gov.au/releases/11th_coronavirus_death_in_tasmania\">Gutwein announced</a> that another North West man in his 90s from the North West died.</p> <h2>South Australia (4)</h2> <p><strong>Francesco Ferraro, 75, Adelaide</strong></p>  <figure class=\"element element-image\" data-media-id=\"6552f5a4e2a11d30aab03c0455fdfa026836551b\"> <img src=\"https://media.guim.co.uk/6552f5a4e2a11d30aab03c0455fdfa026836551b/0_0_2200_1429/1000.jpg\" alt=\"Francesco Ferraro with his wife and niece Anna Ferraro Cox.\" width=\"1000\" height=\"650\" class=\"gu-image\" /> <figcaption> <span class=\"element-image__caption\">Francesco Ferraro with his wife and niece Anna Ferraro Cox.</span> <span class=\"element-image__credit\">Photograph: Anna Ferraro Cox</span> </figcaption> </figure>  <p>On 6 April, South Australia recorded the state’s first death, 75-year-old Francesco (Frank) Ferraro from metropolitan Adelaide, who died at the Royal Adelaide Hospital.</p> <p>“Mr. Ferraro was a loving husband and father to three children and grandfather to eight,” his family said in a statement.</p> <p>His family said Ferraro had attended a family function interstate in March and began to feel unwell when he returned.</p> <p>“My father’s interactions which caused the spread of the virus were nothing outside what a family or group of friends would experience.</p> <p>“The family would like to take this opportunity to implore all South Australians to abide by and comply with all the advice and directions given by the government and police.”</p> <p><strong>Unnamed</strong></p> <p>A 62-year-old woman died early on 8 April after contracting the virus as a passenger on the Ruby Princess. SA’s chief public health officer, Nicola Spurrier, said it was understood the woman had “some very mild health problems, but that would be the same as most other 62-year-olds in our society”.</p> <p>A 76-year-old man who acquired Covid-19 in the Barossa Valley died on 9 April.</p> <p>On 12 April SA Health reported that a 74-year-old man from metropolitan Adelaide had died the previous night in Royal Adelaide hospital. The man had acquired Covid-19 on the Ruby Princess.</p> <h2>ACT (3)</h2> <p>A woman in her 80s became the territory’s first fatality on 30 March. She had been a passenger on the Ruby Princess, the territory’s health authorities reported.</p> <p>A man in his 80s, who had pre-existing health issues, died at the Canberra Hospital on 4 April.</p> <p>On 14 April ACT chief health officer Dr Kerryn Coleman, advised the Canberra community of the territory’s third death from Covid-19. The woman aged in her 60s died at the Canberra hospital. She acquired the virus while onboard the Ruby Princess.</p> <h2>Australians overseas</h2> <p>A <a href=\"https://www.theguardian.com/world/2020/mar/20/coronavirus-australian-man-36-diagnosed-with-virus-dies-in-iceland\">36-year-old Australian man</a> diagnosed with Covid-19 died in <a href=\"https://www.theguardian.com/world/iceland\">Iceland</a>.</p> <p>However, doctors said the man’s symptoms were atypical and although he had the illness they were continuing to investigate the cause of his death.</p> <ul> <li><p><em>Due to the unprecedented and ongoing nature of the coronavirus outbreak, this article is being regularly updated to ensure that it reflects the current situation at the date of publication. Any significant corrections made to this or previous versions of the article will continue to be footnoted in line with Guardian editorial policy.</em></p></li> </ul>'"
      ]
     },
     "execution_count": 19,
     "metadata": {},
     "output_type": "execute_result"
    }
   ],
   "source": [
    "text = data[\"response\"][\"content\"][\"fields\"][\"body\"]\n",
    "text"
   ]
  },
  {
   "cell_type": "markdown",
   "metadata": {},
   "source": [
    "The article's content is returned as a long piece of unstructured text (known as a *string* data type in Python). However you may have noticed lots of strange symbols or tags scattered throughout (e.g., `<p>`, `</ul>`) - their presence confirms that the content is actually a piece of HTML, the programming language that web pages are written in. Thankfully, Python has a module for working with HTML data.\n",
    "\n",
    "`BeautifulSoup` is a Python module that provides a systematic way of navigating the elements of a web page and extracting its contents. Let's see how it works in practice:"
   ]
  },
  {
   "cell_type": "code",
   "execution_count": 25,
   "metadata": {},
   "outputs": [],
   "source": [
    "from bs4 import BeautifulSoup as soup # module for parsing web pages\n",
    "\n",
    "soup_text = soup(text, \"html.parser\") # convert text to HTML\n",
    "type(soup_text)"
   ]
  },
  {
   "cell_type": "markdown",
   "metadata": {},
   "source": [
    "In the above code, we apply the `soup()` method from the `BeautifulSoup` module to the `text` variable, and store the results in a new variable called `soup_text`. \n",
    "\n",
    "Now that the raw text has been converted to a different data type, we are able to navigate and extract the information of interest. For example, let's extract all of the links in the article:"
   ]
  },
  {
   "cell_type": "code",
   "execution_count": 29,
   "metadata": {},
   "outputs": [
    {
     "data": {
      "text/plain": [
       "[<a href=\"https://www.health.nsw.gov.au/news/Pages/20200425_00.aspx\">to NSW Health</a>,\n",
       " <a href=\"https://www.theguardian.com/world/2020/apr/22/staff-shortage-strikes-coronavirus-stricken-newmarch-house-aged-care-home\">the third resident to die on 22 April </a>,\n",
       " <a href=\"http://www.premier.tas.gov.au/releases/10th_coronavirus_death_in_tasmania\">Gutwein confirmed </a>,\n",
       " <a href=\"http://www.premier.tas.gov.au/releases/11th_coronavirus_death_in_tasmania\">Gutwein announced</a>,\n",
       " <a href=\"https://www.theguardian.com/world/2020/mar/20/coronavirus-australian-man-36-diagnosed-with-virus-dies-in-iceland\">36-year-old Australian man</a>,\n",
       " <a href=\"https://www.theguardian.com/world/iceland\">Iceland</a>]"
      ]
     },
     "execution_count": 29,
     "metadata": {},
     "output_type": "execute_result"
    }
   ],
   "source": [
    "links = soup_text.find_all(\"a\") # find all <a> tags\n",
    "links"
   ]
  },
  {
   "cell_type": "markdown",
   "metadata": {},
   "source": [
    "We used the `find_all()` method to search for all `<a>` tags in the article. And because there is more than one set of tags matching this id, we get a list of results. We can check how many tags there are by calling on the `len()` function:"
   ]
  },
  {
   "cell_type": "code",
   "execution_count": 30,
   "metadata": {},
   "outputs": [
    {
     "data": {
      "text/plain": [
       "6"
      ]
     },
     "execution_count": 30,
     "metadata": {},
     "output_type": "execute_result"
    }
   ],
   "source": [
    "len(links)"
   ]
  },
  {
   "cell_type": "markdown",
   "metadata": {},
   "source": [
    "The list has six elements, which means this article links to six other resources.\n",
    "\n",
    "We can view each element in the list of results as follows:"
   ]
  },
  {
   "cell_type": "code",
   "execution_count": 32,
   "metadata": {},
   "outputs": [
    {
     "name": "stdout",
     "output_type": "stream",
     "text": [
      "--------\n",
      "https://www.health.nsw.gov.au/news/Pages/20200425_00.aspx\n",
      "--------\n",
      "\r\n",
      "--------\n",
      "https://www.theguardian.com/world/2020/apr/22/staff-shortage-strikes-coronavirus-stricken-newmarch-house-aged-care-home\n",
      "--------\n",
      "\r\n",
      "--------\n",
      "http://www.premier.tas.gov.au/releases/10th_coronavirus_death_in_tasmania\n",
      "--------\n",
      "\r\n",
      "--------\n",
      "http://www.premier.tas.gov.au/releases/11th_coronavirus_death_in_tasmania\n",
      "--------\n",
      "\r\n",
      "--------\n",
      "https://www.theguardian.com/world/2020/mar/20/coronavirus-australian-man-36-diagnosed-with-virus-dies-in-iceland\n",
      "--------\n",
      "\r\n",
      "--------\n",
      "https://www.theguardian.com/world/iceland\n",
      "--------\n",
      "\r\n"
     ]
    }
   ],
   "source": [
    "for link in links:\n",
    "    print(\"--------\")\n",
    "    print(link.get(\"href\")) # extract the URL from within the <a> tag\n",
    "    print(\"--------\")\n",
    "    print(\"\\r\") # print some blank space for better formatting"
   ]
  },
  {
   "cell_type": "markdown",
   "metadata": {},
   "source": [
    "Parsing HTML data is a topic in itself and we cover it in much more detail in our <a href=\"https://github.com/UKDataServiceOpen/web-scraping/blob/master/code/web-scraping-websites-code-2020-04-23.ipynb\" target=_blank>Websites as a Source of Data</a> lesson."
   ]
  },
  {
   "cell_type": "markdown",
   "metadata": {},
   "source": [
    "Finally, let's conclude by saving the article's data and metadata to a JSON file:"
   ]
  },
  {
   "cell_type": "code",
   "execution_count": 35,
   "metadata": {},
   "outputs": [
    {
     "data": {
      "text/plain": [
       "'./downloads/australia-news-2020-apr-21-australia-coronavirus-victims-age-names-deaths-covid-19-australian-death-toll.json'"
      ]
     },
     "execution_count": 35,
     "metadata": {},
     "output_type": "execute_result"
    }
   ],
   "source": [
    "# Use the articles unique id to name the file\n",
    "\n",
    "article_id = data[\"response\"][\"content\"][\"id\"].replace(\"/\", \"-\")\n",
    "#\n",
    "# We need to remove forward slashes (\"/\") as our computer interprets\n",
    "# these as folder separators.\n",
    "#\n",
    "\n",
    "outfile = \"./downloads/\" + article_id + \".json\"\n",
    "\n",
    "with open(outfile, \"w\") as f:\n",
    "    json.dump(data, f)\n",
    "    \n",
    "outfile # view the file name  "
   ]
  },
  {
   "cell_type": "markdown",
   "metadata": {},
   "source": [
    "#### Handling the rate limit\n",
    "\n",
    "The Guardian API's free level of access allows up to 12 calls (requests) per second, up to a daily limit of 5,000. You may consider this more than adequate for your purposes, but for argument's sake let's say you're worried about breaching these limits. How can you keep track of the number of calls you make?\n",
    "\n",
    "The first thing you can do is declare a variable that acts as a counter i.e., it tracks how many times you've made a call to the API. For example:"
   ]
  },
  {
   "cell_type": "code",
   "execution_count": 50,
   "metadata": {},
   "outputs": [
    {
     "name": "stdout",
     "output_type": "stream",
     "text": [
      "You have made 115 calls this session\n",
      "Call number 116 to the API\n",
      "Call number 117 to the API\n",
      "Call number 118 to the API\n",
      "Call number 119 to the API\n",
      "Call number 120 to the API\n",
      "You have made 120 total calls to the API in this session\n"
     ]
    }
   ],
   "source": [
    "# Initialise the variables counting the number of calls\n",
    "\n",
    "if \"total_calls\" in globals():\n",
    "    print(\"You have made {} calls this session\".format(total_calls))\n",
    "    counter = total_calls\n",
    "else:\n",
    "    counter = 0\n",
    "\n",
    "# Request data from Guardian API\n",
    "\n",
    "for pagenum in range(1, 6):\n",
    "    \n",
    "    baseurl = \"http://content.guardianapis.com/search?\"\n",
    "    searchterms = \"covid-19 OR coronavirus\"\n",
    "    auth = {\"api-key\": api_key}\n",
    "    numresults = \"50\"\n",
    "    \n",
    "    webadd = baseurl + \"q=\" + searchterms + \"&page-size=\" + \\\n",
    "        numresults + \"&page=\" + str(pagenum)\n",
    "\n",
    "    # Make call to API\n",
    "\n",
    "    response = requests.get(webadd, headers=auth)\n",
    "    response.status_code\n",
    "    \n",
    "    # Update counter\n",
    "    \n",
    "    counter += 1\n",
    "    print(\"Call number {} to the API\".format(counter))\n",
    "\n",
    "# Update overall number of calls\n",
    "\n",
    "if \"total_calls\" not in globals():\n",
    "    total_calls = counter\n",
    "elif \"total_calls\" in globals():\n",
    "    total_calls = total_calls + (counter - total_calls)\n",
    "else:\n",
    "    pass\n",
    "\n",
    "print(\"You have made {} total calls to the API in this session\".format(total_calls))    "
   ]
  },
  {
   "cell_type": "markdown",
   "metadata": {},
   "source": [
    "**TASK**: Re-run the code above another two or three times to see whether the `total_calls` variable is correctly keeping track of the number of requests."
   ]
  },
  {
   "cell_type": "markdown",
   "metadata": {},
   "source": [
    "There are quite a few new techniques introduced in the code above, so let's unpack each element one at a time:"
   ]
  },
  {
   "cell_type": "raw",
   "metadata": {},
   "source": [
    "if \"total_calls\" in globals():\n",
    "    print(\"You have made {} calls this session\".format(total_calls))\n",
    "    counter = total_calls\n",
    "else:\n",
    "    counter = 0"
   ]
  },
  {
   "cell_type": "markdown",
   "metadata": {},
   "source": [
    "The above block of code checks whether the `total_calls` variable exists: if it does then the variable keeping track of individual calls (`counter`) is initialised to the value of `total_calls`; if `total_calls` does not exist then `counter` is set to 0 (i.e., we have not made any calls to the API yet)."
   ]
  },
  {
   "cell_type": "raw",
   "metadata": {},
   "source": [
    "# Request data from Guardian API\n",
    "\n",
    "for pagenum in range(1, 6):\n",
    "    \n",
    "    baseurl = \"http://content.guardianapis.com/search?\"\n",
    "    searchterms = \"covid-19 OR coronavirus\"\n",
    "    auth = {\"api-key\": api_key}\n",
    "    numresults = \"50\"\n",
    "    \n",
    "    webadd = baseurl + \"q=\" + searchterms + \"&page-size=\" + \\\n",
    "        numresults + \"&page=\" + str(pagenum)\n",
    "\n",
    "    # Make call to API\n",
    "\n",
    "    response = requests.get(webadd, headers=auth)\n",
    "    response.status_code\n",
    "    \n",
    "    # Update counter\n",
    "    \n",
    "    counter += 1\n",
    "    print(\"Call number {} to the API\".format(counter))"
   ]
  },
  {
   "cell_type": "markdown",
   "metadata": {},
   "source": [
    "The above block performs the usual request to the API, but at the end it increases the `counter` variable by 1 to record the fact we made a call to the API."
   ]
  },
  {
   "cell_type": "raw",
   "metadata": {},
   "source": [
    "# Update overall number of calls\n",
    "\n",
    "if \"total_calls\" not in globals():\n",
    "    total_calls = counter\n",
    "elif \"total_calls\" in globals():\n",
    "    total_calls = total_calls + (counter - total_calls)\n",
    "else:\n",
    "    pass\n",
    "\n",
    "print(\"You have made {} total calls to the API in this session\".format(total_calls))"
   ]
  },
  {
   "cell_type": "markdown",
   "metadata": {},
   "source": [
    "Finally, this block updates the `total_calls` variable, conditional on whether it already exists or not."
   ]
  },
  {
   "cell_type": "markdown",
   "metadata": {},
   "source": [
    "Note that there usually isn't a penalty for exceeding the call limit; what happens is you are restricted from making further calls until a sufficient period of time has passed. We say \"usually\", because it depends on the API in question, whether you have paid for a commercial/custom level of access etc."
   ]
  },
  {
   "cell_type": "markdown",
   "metadata": {},
   "source": [
    "### Concluding remarks on Covid-19 data\n",
    "\n",
    "The Covid-19 pandemic is a seismic public health crisis that will dominate our lives for the foreseeable future. The example code above is not a craven attempt to provide some topicality to these materials, nor is it simply a particularly good example for learning how to interact with an API. There are real opportunities for social scientists to capture and analyse data on this phenomenon, such as The Guardian's reporting of the crisis.\n",
    "\n",
    "You may also be interested in the publicly available data repository provided by Johns Hopkins University Center for Systems Science and Engineering (JHU CSSE): <a href=\"https://github.com/CSSEGISandData/COVID-19\" target=_blank>https://github.com/CSSEGISandData/COVID-19</a>. Updated daily, this resource provides CSV (Comma Separated Values) files of global Covid-19 statistics (e.g., country-level time series), as well as PDF copies of the World Health Organisation's situation reports.\n",
    "\n",
    "At a UK level, the NHS releases data about Covid-19 symptoms reported through its NHS Pathways and 111 online platforms: <a href=\"https://digital.nhs.uk/data-and-information/publications/statistical/mi-potential-covid-19-symptoms-reported-through-nhs-pathways-and-111-online/latest\" target=_blank>NHS Open Data</a>. Data on reported cases is also provided by Public Health England (PHE): <a href=\"https://www.gov.uk/government/publications/covid-19-track-coronavirus-cases\" target=_blank>COVID-19: track coronavirus cases</a>. Many of these datasets are available as openly available as CSV files.\n",
    "\n",
    "Finally, the Office for National Statistics (ONS) provides data and experimental indicators of social like in the UK under Covid-19: <a href=\"https://www.ons.gov.uk/peoplepopulationandcommunity/healthandsocialcare/conditionsanddiseases\" target=_blank>Coronavirus (COVID-19)</a>."
   ]
  },
  {
   "cell_type": "markdown",
   "metadata": {},
   "source": [
    "## Value, limitations and ethics\n",
    "\n",
    "Computational methods for collecting data from the web are an increasingly important component of a social scientist's toolkit. They enable individuals to collect and reshape data - qualitative and quantitative - that otherwise would be inaccessible for research purposes. Thus far, this notebook has focused on the logic and practice of using APIs, however it is crucial we reflect critically on its value, limitations and ethical implications for social science purposes.\n",
    "\n",
    "### Value\n",
    "\n",
    "* The process of interacting with an API is a common and mature computational method, with lots of established packages (e.g., `requests`in Python), examples and help available. As a result the learning curve is not as steep as with other methods, and it is possible for a beginner to access data from an API in under an hour (see the UK Police API example in Appendix B, if you do not believe us).\n",
    "* APIs provide access to data that is intended to be shared; thus, the data are already in a more user-friendly format (e.g., as JSON or CSV files). Compare this to data scraped from a web page, which often needs extensive cleaning and parsing in order to be analysed and shared. \n",
    "* The richness of some of the information and data made available through APIs is a point worth repeating. Many public, private and charitable institutions use their web sites to release and regularly update information of value to social scientists. Getting a handle on the volume, variety and velocity of such information is extremely challenging (if not impossible) without the use of computational methods.\n",
    "* APIs provide flexible access to data: you do not need to bulk download data and then filter through the results to arrive at what you need. APIs allow you to format your request in a way that returns exactly and only what you require.\n",
    "* Finally, the data you need might only be available through an API. This might be the case if you require organisational and financial information on UK companies, thereby necessitating the use of the <a href=\"https://developer.companieshouse.gov.uk/api/docs/\" target=_blank>Companies House API</a>.\n",
    "\n",
    "### Limitations\n",
    "\n",
    "* APIs restrict the number of requests for data you can make. For example, the Guardian API allows up to 5,000 requests per day, the Companies House API up to 600 per five-minute period. These limits ensure the API can offer a reliable service to a wide user base (in contrast to a single user constantly requesting data and preventing others from doing so). Therefore you need to plan and structure your requests in such a way that you comply with the limit **and** retrieve the data you need for your analysis.\n",
    "* The quality of an API's official documentation can vary wildly. Some APIs provide accurate, detailed guides on how to make requests and handle responses; others are sparsely written and it can be a pain figuring out what data are available at each endpoint, how to correctly specify the web address, what the rate limit is etc. And if guidance is available, it might not be for the programming language you are using.\n",
    "* Data protection laws, such as the EU's General Data Protection Regulations (GDPR), impinge on the data you collect through APIs. GDPR means that you are responsible for processing, securing, storing, using and deleting an individual's personal data, even if it’s publicly available through an API. This is a critical and detailed area of data-driven activities, and we encourage you to consult relevant guidance (see *Further reading and resources* section).\n",
    "* APIs can be updated, resulting in changes to the rate limit, authenication requirements, endpoints providing access to the data, cost of using the service etc. It can be a lot of work maintaining your code, especially if you make it available for use by others.\n",
    "* Some websites may be advanced enough that they throttle or block scraping of their contents. For example, they may \"blacklist\" (ban) your IP address - your computer's unique id on the internet - from making requests to its server.\n",
    "* An API is a product and you must comply with the Terms of Service/Use associated with it; else there can be legal implications resulting from non-compliance - for example, there might be restrictions around sharing data collected from an API.\n",
    "* Interacting with APIs, and engaging in computational social science generally, is dependent on your computing setup. For example, you may not possess administrative rights on your machine, preventing you from scheduling your script to run on a regular basis (e.g., your computer automatically goes to sleep after a set period of time and you cannot change this setting). There are ways around this and you do not need a high performance computing setup to collect data from an API, but it is worth keeping in mind nonetheless.\n",
    "\n",
    "### Ethical considerations\n",
    "\n",
    "For the purposes of this discussion, we will assume you have sought and received ethical approval for a piece of research through the usual institutional processes: you've already considered consent, harm to researcher and participant, data security and curation etc. One of these aspects, *informed consent*, needs major consideration when it comes to using some APIs (Lomborg & Bechmannm 2014). Let's take Twitter user data, which is available via an <a href=\"https://developer.twitter.com/en/docs\" target=_blank>API</a> (we'll work with this in a future <a href=\"https://github.com/UKDataServiceOpen/new-forms-of-data\" target=_blank>training series</a>). Users of Twitter will have signed up to the Terms of Service/Use when registering on the platform, where they will have agreed various clauses regarding the use and sharing of their information. However, can they reasonably be said to have given consent to participating in research using this data? What if you capture a user's personal data through the API, which at a later date the user deletes from their own profile: should you use this information in your research? There are no easy answers and we encourage you to consider these issues prior to beginning your data collection (see further reading suggestions)."
   ]
  },
  {
   "cell_type": "markdown",
   "metadata": {},
   "source": [
    "## Conclusion\n",
    "\n",
    "Interacting with an API is a simple yet powerful computational method for collecting data of value for social science research. It provides a relatively gentle introduction to using programming languages, also. However, \"with great power comes great responsibility\" (sorry). APIs take you into the realm of data protection, Terms of Service/Use, and many murky ethical issues. Wielded sensibly and sensitively, collecting data from APIs is a valuable and exciting social science research method.\n",
    "\n",
    "Good luck on your data-driven travels!"
   ]
  },
  {
   "cell_type": "markdown",
   "metadata": {},
   "source": [
    "## Bibliography\n",
    "\n",
    "Barba, Lorena A. et al. (2019). *Teaching and Learning with Jupyter*. <a href=\"https://jupyter4edu.github.io/jupyter-edu-book/\" target=_blank>https://jupyter4edu.github.io/jupyter-edu-book/</a>.\n",
    "\n",
    "Brooker, P. (2020). *Programming with Python for Social Scientists*. London: SAGE Publications Ltd.\n",
    "\n",
    "Lau, S., Gonzalez, J., & Nolan, D. (n.d.). *Principles and Techniques of Data Science*. https://www.textbook.ds100.org\n",
    "\n",
    "Lomborg, S., and Bechmann, A. (2014). Using APIs for Data Collection on Social Media. *The Information Society: An International Journal*, 30(4): 256-265.\n",
    "\n",
    "Tagliaferri, L. (n.d.). *How to Code in Python 3*. https://assets.digitalocean.com/books/python/how-to-code-in-python.pdf"
   ]
  },
  {
   "cell_type": "markdown",
   "metadata": {},
   "source": [
    "## Further reading and resources\n",
    "\n",
    "We publish a list of useful books, papers, websites and other resources on our web-scraping Github repository: <a href=\"https://github.com/UKDataServiceOpen/web-scraping/tree/master/reading-list/\" target=_blank>[Reading list]</a>\n",
    "\n",
    "The help documentation for the `requests` module is refreshingly readable and useful:\n",
    "* <a href=\"https://requests.readthedocs.io/en/master/\" target=_blank>`requests`</a>\n",
    "\n",
    "You may also be interested in the following articles specifically relating to APIs:\n",
    "* <a href=\"https://www.digitalocean.com/community/tutorials/how-to-use-web-apis-in-python-3\" target=_blank>How To Use Web APIs in Python 3</a>\n",
    "* <a href=\"https://ico.org.uk/for-organisations/guide-to-data-protection\" target=_blank>Guide to Data Protection</a>\n",
    "* <a href=\"https://www.gla.ac.uk/media/Media_487729_smxx.pdf\" target=_blank>Social Media Research: A Guide to Ethics</a>"
   ]
  },
  {
   "cell_type": "markdown",
   "metadata": {},
   "source": [
    "## Appendices"
   ]
  },
  {
   "cell_type": "markdown",
   "metadata": {},
   "source": [
    "### Appendix A - Requesting URLs\n",
    "\n",
    "We refer to a website's location on the internet as its web address or Uniform Resource Locator (URL).\n",
    "\n",
    "In Python we've made use of the excellent `requests` module. By calling the `requests.get()` method, we mimic the manual process of launching a web browser and visiting a website. The `requests` module achieves this by placing a _request_ to the server hosting the website (e.g., show me the contents of the website), and handling the _response_ that is returned (e.g., the contents of the website and some metadata about the request). This _request-response_ protocol is known as HTTP (HyperText Transfer Protocol); HTTP allows computers to communicate with each other over the internet - you can learn more about it at <a href=\"https://www.w3schools.com/whatis/whatis_http.asp\" target=_blank>W3 Schools</a>.\n",
    "\n",
    "Run the code below to learn more about the data and metadata returned by `requests.get()`."
   ]
  },
  {
   "cell_type": "code",
   "execution_count": null,
   "metadata": {},
   "outputs": [],
   "source": [
    "import requests\n",
    "\n",
    "url = \"https://httpbin.org/html\"\n",
    "response = requests.get(url)\n",
    "\n",
    "print(\"1. {}\".format(response)) # returns the object type (i.e. a response) and status code\n",
    "print(\"\\r\")\n",
    "\n",
    "print(\"2. {}\".format(response.headers)) # returns a dictionary of response headers\n",
    "print(\"\\r\")\n",
    "\n",
    "print(\"3. {}\".format(response.headers[\"Date\"])) # return a particular header\n",
    "print(\"\\r\")\n",
    "\n",
    "print(\"4. {}\".format(response.request)) # returns the request object that requested this response\n",
    "print(\"\\r\")\n",
    "\n",
    "print(\"5. {}\".format(response.url)) # returns the URL of the response\n",
    "print(\"\\r\")\n",
    "\n",
    "#print(response.text) # returns the text contained in the response (i.e. the paragraphs, headers etc of the web page)\n",
    "#print(response.content) # returns the content of the response (i.e. the HTML contents of the web page)\n",
    "\n",
    "# Visit https://www.w3schools.com/python/ref_requests_response.asp for a full list of what is returned by the server\n",
    "# in response to a request."
   ]
  },
  {
   "cell_type": "markdown",
   "metadata": {},
   "source": [
    "### Appendix B - Capturing UK Police data"
   ]
  },
  {
   "cell_type": "markdown",
   "metadata": {},
   "source": [
    "For our first example we will attempt to download data on 'Stop and searches' activity by police forces in England, Wales and Northern Ireland. We will use open police data available at [https://data.police.uk/](https://data.police.uk/).\n",
    "\n",
    "Let's see how we can use Python to achieve this task."
   ]
  },
  {
   "cell_type": "code",
   "execution_count": null,
   "metadata": {},
   "outputs": [],
   "source": [
    "## Title: Downloading 'Stop and search' police data\n",
    "## Created: 10/02/2020\n",
    "## Creater: Diarmuid McDonnell, University of Manchester\n",
    "\n",
    "# Importing modules #\n",
    "\n",
    "# Python comes with a large suite of ready-to-use functions; however, some must be explicitly downloaded and imported \n",
    "# into your Python session. \n",
    "#\n",
    "# A module bundles together code, data, documentation and tests, and provides an easy method to share with others.\n",
    "\n",
    "try:\n",
    "    import requests # module for requesting urls\n",
    "    import csv # module for handling csv files\n",
    "    import json # module for handling json data\n",
    "    import os # module for performing operating system tasks\n",
    "    print(\"Successfully imported modules\")\n",
    "except:\n",
    "    print(\"Did not import one or more modules!\")   "
   ]
  },
  {
   "cell_type": "markdown",
   "metadata": {},
   "source": [
    "**QUESTION:** What do you think the ```try, except``` block does? "
   ]
  },
  {
   "cell_type": "markdown",
   "metadata": {},
   "source": [
    " "
   ]
  },
  {
   "cell_type": "markdown",
   "metadata": {},
   "source": [
    "The next step is to figure out what datasets are available through the API and how they can be accessed. This can only be learned by reading the [API documentation](https://data.police.uk/docs/).\n",
    "\n",
    "The unique id or name of a dataset available via an API is known as an *endpoint*. For example, 'Stop and search' data is available via the ```stops-street``` endpoint, and we would request this dataset by sending the following URL to the API: ```https://data.police.uk/api/stops-street?``` (any characters following the '?' symbol represent customisable search terms e.g. 'Stop and search' data for certain areas)."
   ]
  },
  {
   "cell_type": "code",
   "execution_count": null,
   "metadata": {},
   "outputs": [],
   "source": [
    "# Exploring the Police API #\n",
    "\n",
    "# See what 'Stop and search' datasets are available\n",
    "\n",
    "datasets = 'https://data.police.uk/api/crimes-street-dates' # define the endpoint where a list of available datasets is found\n",
    "\n",
    "\n",
    "# Request the list of available datasets from the above endpoint\n",
    "\n",
    "response = requests.get(datasets, allow_redirects=True) # request the url\n",
    "print(\"----------------------------\") # additional print() commands to format output\n",
    "print(\"\\r\")\n",
    "print(response.status_code, \" | \", response.headers) # print the metadata behind the request to see if it was successful\n",
    "print(\"\\r\")"
   ]
  },
  {
   "cell_type": "markdown",
   "metadata": {},
   "source": [
    "The status code is **200**, signifying we made a successful request to the API. Now let's examine the contents of the request i.e. the list of available datasets:"
   ]
  },
  {
   "cell_type": "code",
   "execution_count": null,
   "metadata": {},
   "outputs": [],
   "source": [
    "sdata = json.loads(response.content) # store the returned response as a json object (easier for manipulating and saving)\n",
    "print(type(sdata)) # view the response type\n",
    "sdata[0] # view the first item in the list"
   ]
  },
  {
   "cell_type": "markdown",
   "metadata": {},
   "source": [
    "Let's parse the results of the API request:\n",
    "1. We store the returned response - a list of all 'Stop and search' data available via the API - as a json object; this makes it easier to manipulate the contents and save to a file.\n",
    "2. We ask Python to tell us what data type we are dealing with. In this instance it is a ```list```."
   ]
  },
  {
   "cell_type": "markdown",
   "metadata": {},
   "source": [
    "-- END OF FILE --"
   ]
  }
 ],
 "metadata": {
  "kernelspec": {
   "display_name": "Python 3",
   "language": "python",
   "name": "python3"
  },
  "language_info": {
   "codemirror_mode": {
    "name": "ipython",
    "version": 3
   },
   "file_extension": ".py",
   "mimetype": "text/x-python",
   "name": "python",
   "nbconvert_exporter": "python",
   "pygments_lexer": "ipython3",
   "version": "3.7.3"
  },
  "toc": {
   "base_numbering": 1,
   "nav_menu": {
    "height": "86.7333px",
    "width": "160px"
   },
   "number_sections": true,
   "sideBar": false,
   "skip_h1_title": true,
   "title_cell": "Table of Contents",
   "title_sidebar": "Contents",
   "toc_cell": true,
   "toc_position": {
    "height": "100px",
    "left": "366px",
    "top": "669.033px",
    "width": "165px"
   },
   "toc_section_display": true,
   "toc_window_display": false
  }
 },
 "nbformat": 4,
 "nbformat_minor": 2
}
