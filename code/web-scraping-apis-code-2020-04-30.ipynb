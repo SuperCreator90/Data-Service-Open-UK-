{
 "cells": [
  {
   "cell_type": "markdown",
   "metadata": {},
   "source": [
    "![UKDS Logo](./images/UKDS_Logos_Col_Grey_300dpi.png)"
   ]
  },
  {
   "cell_type": "markdown",
   "metadata": {},
   "source": [
    "# Web-scraping for Social Science Research"
   ]
  },
  {
   "cell_type": "markdown",
   "metadata": {},
   "source": [
    "Welcome to the <a href=\"https://ukdataservice.ac.uk/\" target=_blank>UK Data Service</a> training series on *New Forms of Data for Social Science Research*. This series guides you through some of the most common and valuable new sources of data available for social science research: data collected from websites, social media platorms, text data, conducting simulations (agent based modelling), to name a few. To help you get to grips with these new forms of data, we provide webinars, interactive notebooks containing live programming code, reading lists and more.\n",
    "\n",
    "* To access training materials for the entire series: <a href=\"https://github.com/UKDataServiceOpen/new-forms-of-data\" target=_blank>[Training Materials]</a>\n",
    "\n",
    "* To keep up to date with upcoming and past training events: <a href=\"https://ukdataservice.ac.uk/news-and-events/events\" target=_blank>[Events]</a>\n",
    "\n",
    "* To get in contact with feedback, ideas or to seek assistance: <a href=\"https://ukdataservice.ac.uk/help.aspx\" target=_blank>[Help]</a>\n",
    "\n",
    "<a href=\"https://www.research.manchester.ac.uk/portal/julia.kasmire.html\" target=_blank>Dr Julia Kasmire</a> and <a href=\"https://www.research.manchester.ac.uk/portal/diarmuid.mcdonnell.html\" target=_blank>Dr Diarmuid McDonnell</a> <br />\n",
    "UK Data Service  <br />\n",
    "University of Manchester <br />\n",
    "April 2020"
   ]
  },
  {
   "cell_type": "markdown",
   "metadata": {
    "toc": true
   },
   "source": [
    "<h1>Table of Contents<span class=\"tocSkip\"></span></h1>\n",
    "<div class=\"toc\"><ul class=\"toc-item\"><li><span><a href=\"#Introduction\" data-toc-modified-id=\"Introduction-1\"><span class=\"toc-item-num\">1&nbsp;&nbsp;</span>Introduction</a></span></li><li><span><a href=\"#Guide-to-using-this-resource\" data-toc-modified-id=\"Guide-to-using-this-resource-2\"><span class=\"toc-item-num\">2&nbsp;&nbsp;</span>Guide to using this resource</a></span><ul class=\"toc-item\"><li><span><a href=\"#Interaction\" data-toc-modified-id=\"Interaction-2.1\"><span class=\"toc-item-num\">2.1&nbsp;&nbsp;</span>Interaction</a></span></li><li><span><a href=\"#Learn-more\" data-toc-modified-id=\"Learn-more-2.2\"><span class=\"toc-item-num\">2.2&nbsp;&nbsp;</span>Learn more</a></span></li></ul></li><li><span><a href=\"#Collecting-data-from-online-databases-using-an-API\" data-toc-modified-id=\"Collecting-data-from-online-databases-using-an-API-3\"><span class=\"toc-item-num\">3&nbsp;&nbsp;</span>Collecting data from online databases using an API</a></span><ul class=\"toc-item\"><li><span><a href=\"#What-is-an-API?\" data-toc-modified-id=\"What-is-an-API?-3.1\"><span class=\"toc-item-num\">3.1&nbsp;&nbsp;</span>What is an API?</a></span></li><li><span><a href=\"#Reasons-to-interact-with-an-API\" data-toc-modified-id=\"Reasons-to-interact-with-an-API-3.2\"><span class=\"toc-item-num\">3.2&nbsp;&nbsp;</span>Reasons to interact with an API</a></span></li><li><span><a href=\"#Logic-of-using-an-API\" data-toc-modified-id=\"Logic-of-using-an-API-3.3\"><span class=\"toc-item-num\">3.3&nbsp;&nbsp;</span>Logic of using an API</a></span></li></ul></li><li><span><a href=\"#Example:-Capturing-Covid-19-data\" data-toc-modified-id=\"Example:-Capturing-Covid-19-data-4\"><span class=\"toc-item-num\">4&nbsp;&nbsp;</span>Example: Capturing Covid-19 data</a></span><ul class=\"toc-item\"><li><span><a href=\"#Locating-the-API\" data-toc-modified-id=\"Locating-the-API-4.1\"><span class=\"toc-item-num\">4.1&nbsp;&nbsp;</span>Locating the API</a></span></li><li><span><a href=\"#API-terms-of-use\" data-toc-modified-id=\"API-terms-of-use-4.2\"><span class=\"toc-item-num\">4.2&nbsp;&nbsp;</span>API terms of use</a></span></li><li><span><a href=\"#Locating-data\" data-toc-modified-id=\"Locating-data-4.3\"><span class=\"toc-item-num\">4.3&nbsp;&nbsp;</span>Locating data</a></span></li><li><span><a href=\"#Registering-use-of-API\" data-toc-modified-id=\"Registering-use-of-API-4.4\"><span class=\"toc-item-num\">4.4&nbsp;&nbsp;</span>Registering use of API</a></span></li><li><span><a href=\"#Requesting-data\" data-toc-modified-id=\"Requesting-data-4.5\"><span class=\"toc-item-num\">4.5&nbsp;&nbsp;</span>Requesting data</a></span></li><li><span><a href=\"#Saving-results\" data-toc-modified-id=\"Saving-results-4.6\"><span class=\"toc-item-num\">4.6&nbsp;&nbsp;</span>Saving results</a></span></li><li><span><a href=\"#Refining-Covid-19-data-collection\" data-toc-modified-id=\"Refining-Covid-19-data-collection-4.7\"><span class=\"toc-item-num\">4.7&nbsp;&nbsp;</span>Refining Covid-19 data collection</a></span></li></ul></li><li><span><a href=\"#Value,-limitations-and-ethics\" data-toc-modified-id=\"Value,-limitations-and-ethics-5\"><span class=\"toc-item-num\">5&nbsp;&nbsp;</span>Value, limitations and ethics</a></span></li><li><span><a href=\"#Conclusion\" data-toc-modified-id=\"Conclusion-6\"><span class=\"toc-item-num\">6&nbsp;&nbsp;</span>Conclusion</a></span></li><li><span><a href=\"#Bibliography\" data-toc-modified-id=\"Bibliography-7\"><span class=\"toc-item-num\">7&nbsp;&nbsp;</span>Bibliography</a></span></li><li><span><a href=\"#Further-reading-and-resources\" data-toc-modified-id=\"Further-reading-and-resources-8\"><span class=\"toc-item-num\">8&nbsp;&nbsp;</span>Further reading and resources</a></span></li><li><span><a href=\"#Appendices\" data-toc-modified-id=\"Appendices-9\"><span class=\"toc-item-num\">9&nbsp;&nbsp;</span>Appendices</a></span><ul class=\"toc-item\"><li><span><a href=\"#Appendix-A---Requesting-URLs\" data-toc-modified-id=\"Appendix-A---Requesting-URLs-9.1\"><span class=\"toc-item-num\">9.1&nbsp;&nbsp;</span>Appendix A - Requesting URLs</a></span></li><li><span><a href=\"#Appendix-B---Capturing-UK-Police-data\" data-toc-modified-id=\"Appendix-B---Capturing-UK-Police-data-9.2\"><span class=\"toc-item-num\">9.2&nbsp;&nbsp;</span>Appendix B - Capturing UK Police data</a></span></li></ul></li></ul></div>"
   ]
  },
  {
   "cell_type": "markdown",
   "metadata": {},
   "source": [
    "## Introduction\n",
    "\n",
    "In this training series we cover some of the essential skills needed to collect data from the web. In particular we focus on two different approaches:\n",
    "1. Collecting data stored on web pages. <a href=\"./web-scraping-websites-code-2020-04-23.ipynb\" target=_blank>[LINK]</a>\n",
    "2. Downloading data from online databases using Application Programming Interfaces (APIs). [Focus of this notebook]\n",
    "    \n",
    "Do not be alarmed by the technical aspects: both approaches can be implemented using simple code, a standard desktop or laptop, and a decent internet connection.    \n",
    "\n",
    "Given the Covid-19 public health crisis in which this programme of work occurred, we will examine ways in which web-scraping techniques can provide valuable data for studying this phenomenon. This is a fast moving, evolving public health emergency that, in addition to other impacts, will shape research agendas across the sciences for years to come. Therefore it is important to learn how we, as social scientists, can access or generate data that will provide a better understanding of this disease.\n",
    "\n",
    "In this lesson we will search the <a href=\"https://www.theguardian.com\" target=_blank>Guardian newspaper's</a> online database for articles referring to Covid-19. We will also examine two APIs that should be of wider interest to the social science community: \n",
    "* UK Police API, which provides data on street-level crime and outcomes, police stations and much more.\n",
    "* Companies House API, which provides data on the governance, finances and activities of UK registered companies."
   ]
  },
  {
   "cell_type": "markdown",
   "metadata": {},
   "source": [
    "## Guide to using this resource\n",
    "\n",
    "This learning resource was built using <a href=\"https://jupyter.org/\" target=_blank>Jupyter Notebook</a>, an open-source software application that allows you to mix code, results and narrative in a single document. As <a href=\"https://jupyter4edu.github.io/jupyter-edu-book/\" target=_blank>Barba et al. (2019)</a> espouse:\n",
    "> In a world where every subject matter can have a data-supported treatment, where computational devices are omnipresent and pervasive, the union of natural language and computation creates compelling communication and learning opportunities.\n",
    "\n",
    "If you are familiar with Jupyter notebooks then skip ahead to the main content (*Collecting data from online databases using an API*). Otherwise, the following is a quick guide to navigating and interacting with the notebook."
   ]
  },
  {
   "cell_type": "markdown",
   "metadata": {},
   "source": [
    "### Interaction\n",
    "\n",
    "**You only need to execute the code that is contained in sections which are marked by `In []`.**\n",
    "\n",
    "To execute a cell, click or double-click the cell and press the `Run` button on the top toolbar (you can also use the keyboard shortcut Shift + Enter).\n",
    "\n",
    "Try it for yourself:"
   ]
  },
  {
   "cell_type": "code",
   "execution_count": null,
   "metadata": {},
   "outputs": [
    {
     "name": "stdout",
     "output_type": "stream",
     "text": [
      "Enter your name and press enter:\n"
     ]
    }
   ],
   "source": [
    "print(\"Enter your name and press enter:\")\n",
    "name = input()\n",
    "print(\"Hello {}, enjoy learning more about Python and web-scraping!\".format(name)) "
   ]
  },
  {
   "cell_type": "markdown",
   "metadata": {},
   "source": [
    "### Learn more\n",
    "\n",
    "Jupyter notebooks provide rich, flexible features for conducting and documenting your data analysis workflow. To learn more about additional notebook features, we recommend working through some of the <a href=\"https://github.com/darribas/gds19/blob/master/content/labs/lab_00.ipynb\" target=_blank>materials</a> provided by Dani Arribas-Bel at the University of Liverpool. "
   ]
  },
  {
   "cell_type": "markdown",
   "metadata": {},
   "source": [
    "## Collecting data from online databases using an API\n",
    "\n",
    "### What is an API?\n",
    "\n",
    "An Application Programming Interface (API) is\n",
    "> a set of functions and procedures allowing the creation of applications that access the features or data of an operating system, application, or other service\" (Oxford English Dictionary). \n",
    "\n",
    "In essence: an API acts as an intermediary between software applications. It performs this role by providing a set of protocols/standards for making *requests* and formulating *responses* between applications. For example, a smart phone application might need real-time traffic data from an online database. An API can valididate the smart phone's request for data, and handle the online database's response (i.e., the transfer of data to the application). In the absence of an API, the smart phone application would need to know a lot more technical information about the online database in order to communicate with it. But thanks to the API, it only needs to know how to formulate a request that the API understands, which then communicates the request to the database.\n",
    "\n",
    "Think of an API's role as similar to that of a translator faciliating a conversation between two individuals who do not speak the same language. Neither individual needs to know the other's language, just how to formulate their response in a way the translator can understand. In sum, an API simplifies how applications communicate with each other.\n",
    "\n",
    "(If you want to learn more about APIs, especially from a technical perspective, we highly recommend one of our previous webinars: <a href=\"https://www.youtube.com/watch?v=ffSQHPHO_c0\" target=_blank>What are APIs?</a>)\n",
    "\n",
    "### Reasons to interact with an API\n",
    "\n",
    "Many public, private and charitable institutions collect and share data of value to social scientists. Often they deposit their data to a data portal - e.g., <a href=\"https://data.gov.uk/\" target=_blank>UK Government Open Data</a> -, allowing you to download the files as and when needed. However, another approach they can adopt is to allow access to the underlying information that is stored in their database through an API. Using this method, individuals can send a customised *request* for information to the database; if the request is valid, the database *responds* by providing you with the information you asked for. Think of using an API as the difference between downloading a raw data file which then needs to be filtered to arrive at the information you need, and performing the filtering when you request the data, so only what you need is returned (the API method).\n",
    "\n",
    "Before we delve into writing code to capture data through an API, let's clearly state the logic underpinning the technique."
   ]
  },
  {
   "cell_type": "markdown",
   "metadata": {},
   "source": [
    "### Logic of using an API\n",
    "\n",
    "We begin by identifying an online database containing information of interest. Then we need to **know** the following:\n",
    "1. The location of the API (i.e., web address) through which the database can be accessed. For example, the UK Police API can be accessed via <a href=\"https://data.police.uk/api\" target=_blank>https://data.police.uk/api</a>.\n",
    "2. The terms of use associated with the API. Many APIs restrict the number of requests you can make over a given time period, while others require registration in order to authenicate who is trying to access the data. For example, the UK Police API does not require you to provide authentication but restricts the number of requests for data you can make (15 per second) - the number of allowable requests is known as the *rate limit*.\n",
    "3. The location of the data of interest on the API. For example, data on street-level crime from the UK Police API is available at: <a href=\"https://data.police.uk/api/crimes-street\" target=_blank>https://data.police.uk/api/crimes-street</a>. The location of the data is known as its *endpoint*.\n",
    "\n",
    "We can usually find all of the information we need by reading the API's documentation e.g., <a href=\"https://data.police.uk/docs/\" target=_blank>https://data.police.uk/docs/</a>.\n",
    "\n",
    "Then we need to **do** the following:\n",
    "4. Register your use of the API (if required).\n",
    "5. Request data from the endpoint of interest, supplying authentication if required. This process is known as *making a call* to the API.\n",
    "6. Write this data to a file for future use."
   ]
  },
  {
   "cell_type": "markdown",
   "metadata": {},
   "source": [
    "## Example: Capturing Covid-19 data"
   ]
  },
  {
   "cell_type": "markdown",
   "metadata": {},
   "source": [
    "<a href=\"https://open-platform.theguardian.com/documentation/\" target=_blank>The Guardian's API</a> provides access to some of the data and metadata associcated with its content. For example, you can query its database to search for articles with certain tags (\"environmenmt\", \"covid-19\"), or articles published over a certain date range."
   ]
  },
  {
   "cell_type": "markdown",
   "metadata": {},
   "source": [
    "### Locating the API\n",
    "\n",
    "In some cases the organisation will allow you to explore the API without the need to write code or register for an API key. For instance, the Guardian's API can be explored at <a href=\"https://open-platform.theguardian.com/explore/\" target=_blank>https://open-platform.theguardian.com/explore/</a>.\n",
    "\n",
    "**TASK**: take some time to interact with the Guardian's API through its user interface.\n",
    "\n",
    "(Note: it possible to load websites into Python in order to view them, however the Guardian's API doesn't allow this. See the example code below for how it would work for a different website - just remove the quotation marks enclosing the code and run the cell)."
   ]
  },
  {
   "cell_type": "code",
   "execution_count": null,
   "metadata": {},
   "outputs": [],
   "source": [
    "\"\"\"\n",
    "from IPython.display import IFrame\n",
    "\n",
    "IFrame(\"https://ukdataservice.ac.uk/\", width=\"600\", height=\"650\")\n",
    "\"\"\""
   ]
  },
  {
   "cell_type": "markdown",
   "metadata": {},
   "source": [
    "However, interacting with an API through a user interface (i.e., text boxes, drop-down menues) is slow, untransparent, labour intensive and often not possible. We will instead focus on writing code that performs the requests for us. Therefore, we need to use the following web address to access the API: https://content.guardianapis.com.\n",
    "\n",
    "(Note that you cannot request this web address through your browser; this is because access to the API is only possible by providing authentication i.e., an API key. Try for yourself by clicking on the links)."
   ]
  },
  {
   "cell_type": "markdown",
   "metadata": {},
   "source": [
    "### API terms of use\n",
    "\n",
    "The Guardian API is well documented (not always the case, unfortunately) and we can clearly identify what is required in order to interact with it. Firstly, the API requires authentication, in the form of an API key, to be provided when making requests. The API key is generated when you register your use of the API.\n",
    "\n",
    "Secondly, the API provides multiple levels of access, each with its own set of restrictions and usage allowances. The free level of access allows you to make up to 12 calls per second, with a daily limit of 5,000; requests are also restricted to text content (no access to images, audio, video) - if you need more than the free level of access provides, there is a commercial product with custom rate limits, access to other type of data (e.g., images, videos) etc.\n",
    "\n",
    "See <a href=\"https://open-platform.theguardian.com/access/\" target=_blank>https://open-platform.theguardian.com/access/</a> for full information on levels of access."
   ]
  },
  {
   "cell_type": "markdown",
   "metadata": {},
   "source": [
    "### Locating data\n",
    "\n",
    "The Guardian API allows access to five endpoints:\n",
    "* Content - https://content.guardianapis.com/search\n",
    "* Tags - http://content.guardianapis.com/tags\n",
    "* Sections - https://content.guardianapis.com/sections\n",
    "* Editions - https://content.guardianapis.com/editions\n",
    "* Single Item - https://content.guardianapis.com/"
   ]
  },
  {
   "cell_type": "markdown",
   "metadata": {},
   "source": [
    "### Registering use of API\n",
    "\n",
    "We need an API key in order to start requesting data. The API key acts as a user's unique id when accessing the API. For the purposes of this lesson we have <a href=\"https://bonobo.capi.gutools.co.uk/register/developer\" target=_blank>registered our use</a> and been given an API key which is contained in a file called *guardian-api-key.txt*. \n",
    "\n",
    "Run the code below to check if the file exists:"
   ]
  },
  {
   "cell_type": "code",
   "execution_count": 1,
   "metadata": {},
   "outputs": [
    {
     "data": {
      "text/plain": [
       "['guardian-api-key.txt']"
      ]
     },
     "execution_count": 1,
     "metadata": {},
     "output_type": "execute_result"
    }
   ],
   "source": [
    "import os\n",
    "\n",
    "os.listdir(\"./auth\")"
   ]
  },
  {
   "cell_type": "markdown",
   "metadata": {},
   "source": [
    "You should generate your own API key, and keep it private and secure, when using the Guardian API for your own purposes."
   ]
  },
  {
   "cell_type": "markdown",
   "metadata": {},
   "source": [
    "### Requesting data\n",
    "\n",
    "We're ready for the interesting bit: requesting data through the API. We'll focus on finding and saving data about articles relating to the Covid-19 public health crisis.\n",
    "\n",
    "There is a preliminary step, which is setting up Python with the modules it needs to interact with the API."
   ]
  },
  {
   "cell_type": "code",
   "execution_count": 1,
   "metadata": {},
   "outputs": [
    {
     "name": "stdout",
     "output_type": "stream",
     "text": [
      "Succesfully imported necessary modules\n"
     ]
    }
   ],
   "source": [
    "# Import modules\n",
    "\n",
    "import os # module for navigating your machine (e.g., file directories)\n",
    "import requests # module for requesting urls\n",
    "import json # module for working with JSON data structures\n",
    "from datetime import datetime # module for working with dates and time\n",
    "print(\"Succesfully imported necessary modules\")"
   ]
  },
  {
   "cell_type": "markdown",
   "metadata": {},
   "source": [
    "Modules are additional techniques or functions that are not present when you launch Python. Some do not even come with Python when you download it and must be installed on your machine separately - think of using `ssc install <package>` in Stata, or `install.packages(<package>)` in R. For now just understand that many useful modules need to be imported every time you start a new Python session."
   ]
  },
  {
   "cell_type": "markdown",
   "metadata": {},
   "source": [
    "Now let's make our first request to the API. First, we need to load in the API key as it is stored in a separate file for privacy reasons.\n",
    "\n",
    "(Delete the `#` symbol if you want to see the value of the API key)."
   ]
  },
  {
   "cell_type": "code",
   "execution_count": 2,
   "metadata": {},
   "outputs": [],
   "source": [
    "api_key = open(\"./auth/guardian-api-key.txt\", \"r\").read() # open the file and read its contents\n",
    "# api_key"
   ]
  },
  {
   "cell_type": "markdown",
   "metadata": {},
   "source": [
    "Next, let's search for articles mentioning the term \"covid-19\"."
   ]
  },
  {
   "cell_type": "code",
   "execution_count": 3,
   "metadata": {},
   "outputs": [
    {
     "name": "stdout",
     "output_type": "stream",
     "text": [
      "http://content.guardianapis.com/search?q=covid-19\n"
     ]
    },
    {
     "data": {
      "text/plain": [
       "200"
      ]
     },
     "execution_count": 3,
     "metadata": {},
     "output_type": "execute_result"
    }
   ],
   "source": [
    "# Define web address and search terms\n",
    "\n",
    "baseurl = \"http://content.guardianapis.com/search?\" # base web address\n",
    "searchterm = \"covid-19\" # term we want to search for\n",
    "auth = {\"api-key\": api_key} # authentication\n",
    "webadd = baseurl + \"q=\" + searchterm # construct web address for requesting\n",
    "print(webadd)\n",
    "\n",
    "# Make call to API\n",
    "\n",
    "response = requests.get(webadd, headers=auth) # request the web address\n",
    "response.status_code # check if API was requested successfully"
   ]
  },
  {
   "cell_type": "markdown",
   "metadata": {},
   "source": [
    "Let's unpack the above code, as there is a lot happening. First, we declare a variable (also known as an 'object' in Python) called `baseurl` that contains the base web address of the *Content* endpoint. Then we declare a variable containing the term we are interested in searching for (`searchterm`). Next, we define a variable to store the API key that is needed when making the request (`auth`). Finally we concatenate these separate elements to form a valid web address that can be requested from the API (`webadd`). <br> The next step is to use the `get()` method of the `requests` module to request the web address, and in the same line of code, we store the results of the request in a variable called `response`. Finally, we check whether the request was successful by calling on the `status_code` attribute of the `response` variable.\n",
    "\n",
    "Confused? Don't worry, the conventions of Python and using its modules take a bit of getting used to. At this point, just understand that you can store the results of commands in variables, and a variable can have different attributes that can be accessed when needed. Also note that you have a lot of freedom in how you name your variables (subject to certain restrictions - see <a href=\"https://www.python.org/dev/peps/pep-0008/\" target=_blank>here for some guidance</a>).\n",
    "\n",
    "For example, the following would also work (bonus points if you can name the brewery lending its name to the variables):"
   ]
  },
  {
   "cell_type": "code",
   "execution_count": 42,
   "metadata": {},
   "outputs": [
    {
     "name": "stdout",
     "output_type": "stream",
     "text": [
      "http://content.guardianapis.com/tags?q=covid-19\n"
     ]
    },
    {
     "data": {
      "text/plain": [
       "200"
      ]
     },
     "execution_count": 42,
     "metadata": {},
     "output_type": "execute_result"
    }
   ],
   "source": [
    "highlander = \"http://content.guardianapis.com/tags?\" # base web address\n",
    "jarl = \"covid-19\" # term we want to search for\n",
    "avalanche = {\"api-key\": api_key} # authentication\n",
    "hurricane_jack = highlander + \"q=\" + jarl # construct web address for requesting\n",
    "print(hurricane_jack)\n",
    "\n",
    "# Make call to API\n",
    "\n",
    "beers = requests.get(webadd, headers=avalanche) # request the web address\n",
    "beers.status_code # check if API was requested successfully"
   ]
  },
  {
   "cell_type": "markdown",
   "metadata": {},
   "source": [
    "Back to the request:\n",
    "\n",
    "Good, we get a status code of _200_ - this means we made a successful call to the API. <a href=\"https://www.textbook.ds100.org/ch/07/web_http.html\" target=_blank>Lau, Gonzalez and Nolan</a> provide a succinct description of different types of status codes:\n",
    "\n",
    "* **100s** - Informational: More input is expected from client or server (e.g. 100 Continue, 102 Processing)\n",
    "* **200s** - Success: The client's request was successful (e.g. 200 OK, 202 Accepted)\n",
    "* **300s** - Redirection: Requested URL is located elsewhere; May need user's further action (e.g. 300 Multiple Choices, 301 Moved Permanently)\n",
    "* **400s** - Client Error: Client-side error (e.g. 400 Bad Request, 403 Forbidden, 404 Not Found)\n",
    "* **500s** - Server Error: Server-side error or server is incapable of performing the request (e.g. 500 Internal Server Error, 503 Service Unavailable)\n",
    "\n",
    "For clarity:\n",
    "* **Client**: your machine\n",
    "* **Server**: the machine you are requesting the resource from"
   ]
  },
  {
   "cell_type": "markdown",
   "metadata": {},
   "source": [
    "You may be wondering exactly what it is we requested. To see the content of our request, we can call the `json()` method on the `response` variable:"
   ]
  },
  {
   "cell_type": "code",
   "execution_count": 6,
   "metadata": {},
   "outputs": [
    {
     "data": {
      "text/plain": [
       "{'response': {'status': 'ok',\n",
       "  'userTier': 'developer',\n",
       "  'total': 15654,\n",
       "  'startIndex': 1,\n",
       "  'pageSize': 10,\n",
       "  'currentPage': 1,\n",
       "  'pages': 1566,\n",
       "  'orderBy': 'relevance',\n",
       "  'results': [{'id': 'world/2020/feb/27/what-is-covid-19',\n",
       "    'type': 'article',\n",
       "    'sectionId': 'world',\n",
       "    'sectionName': 'World news',\n",
       "    'webPublicationDate': '2020-03-25T07:00:39Z',\n",
       "    'webTitle': 'What is Covid-19?',\n",
       "    'webUrl': 'https://www.theguardian.com/world/2020/feb/27/what-is-covid-19',\n",
       "    'apiUrl': 'https://content.guardianapis.com/world/2020/feb/27/what-is-covid-19',\n",
       "    'isHosted': False,\n",
       "    'pillarId': 'pillar/news',\n",
       "    'pillarName': 'News'},\n",
       "   {'id': 'environment/2020/apr/18/covid-19-a-blessing-for-pangolins',\n",
       "    'type': 'article',\n",
       "    'sectionId': 'environment',\n",
       "    'sectionName': 'Environment',\n",
       "    'webPublicationDate': '2020-04-18T17:00:14Z',\n",
       "    'webTitle': 'Covid-19 – a blessing for pangolins?',\n",
       "    'webUrl': 'https://www.theguardian.com/environment/2020/apr/18/covid-19-a-blessing-for-pangolins',\n",
       "    'apiUrl': 'https://content.guardianapis.com/environment/2020/apr/18/covid-19-a-blessing-for-pangolins',\n",
       "    'isHosted': False,\n",
       "    'pillarId': 'pillar/news',\n",
       "    'pillarName': 'News'},\n",
       "   {'id': 'world/2020/apr/17/pregnancy-and-the-covid-19-frontline',\n",
       "    'type': 'article',\n",
       "    'sectionId': 'world',\n",
       "    'sectionName': 'World news',\n",
       "    'webPublicationDate': '2020-04-17T15:46:13Z',\n",
       "    'webTitle': 'Pregnancy and the Covid-19 frontline | Letters',\n",
       "    'webUrl': 'https://www.theguardian.com/world/2020/apr/17/pregnancy-and-the-covid-19-frontline',\n",
       "    'apiUrl': 'https://content.guardianapis.com/world/2020/apr/17/pregnancy-and-the-covid-19-frontline',\n",
       "    'isHosted': False,\n",
       "    'pillarId': 'pillar/news',\n",
       "    'pillarName': 'News'},\n",
       "   {'id': 'world/2020/apr/19/key-questions-for-a-covid-19-inquiry',\n",
       "    'type': 'article',\n",
       "    'sectionId': 'world',\n",
       "    'sectionName': 'World news',\n",
       "    'webPublicationDate': '2020-04-19T16:57:00Z',\n",
       "    'webTitle': 'Key questions for a Covid-19 inquiry | Letters',\n",
       "    'webUrl': 'https://www.theguardian.com/world/2020/apr/19/key-questions-for-a-covid-19-inquiry',\n",
       "    'apiUrl': 'https://content.guardianapis.com/world/2020/apr/19/key-questions-for-a-covid-19-inquiry',\n",
       "    'isHosted': False,\n",
       "    'pillarId': 'pillar/news',\n",
       "    'pillarName': 'News'},\n",
       "   {'id': 'world/2020/mar/29/first-nhs-consultant-dies-from-covid-19',\n",
       "    'type': 'article',\n",
       "    'sectionId': 'world',\n",
       "    'sectionName': 'World news',\n",
       "    'webPublicationDate': '2020-03-29T16:37:18Z',\n",
       "    'webTitle': 'NHS consultant dies from Covid-19',\n",
       "    'webUrl': 'https://www.theguardian.com/world/2020/mar/29/first-nhs-consultant-dies-from-covid-19',\n",
       "    'apiUrl': 'https://content.guardianapis.com/world/2020/mar/29/first-nhs-consultant-dies-from-covid-19',\n",
       "    'isHosted': False,\n",
       "    'pillarId': 'pillar/news',\n",
       "    'pillarName': 'News'},\n",
       "   {'id': 'world/2020/mar/25/dispatches-from-the-covid-19-frontline',\n",
       "    'type': 'article',\n",
       "    'sectionId': 'world',\n",
       "    'sectionName': 'World news',\n",
       "    'webPublicationDate': '2020-03-25T19:27:20Z',\n",
       "    'webTitle': 'Dispatches from the Covid-19 frontline',\n",
       "    'webUrl': 'https://www.theguardian.com/world/2020/mar/25/dispatches-from-the-covid-19-frontline',\n",
       "    'apiUrl': 'https://content.guardianapis.com/world/2020/mar/25/dispatches-from-the-covid-19-frontline',\n",
       "    'isHosted': False,\n",
       "    'pillarId': 'pillar/news',\n",
       "    'pillarName': 'News'},\n",
       "   {'id': 'world/2020/mar/18/russian-media-spreading-covid-19-disinformation',\n",
       "    'type': 'article',\n",
       "    'sectionId': 'world',\n",
       "    'sectionName': 'World news',\n",
       "    'webPublicationDate': '2020-03-18T16:57:30Z',\n",
       "    'webTitle': 'Russian media ‘spreading Covid-19 disinformation’',\n",
       "    'webUrl': 'https://www.theguardian.com/world/2020/mar/18/russian-media-spreading-covid-19-disinformation',\n",
       "    'apiUrl': 'https://content.guardianapis.com/world/2020/mar/18/russian-media-spreading-covid-19-disinformation',\n",
       "    'isHosted': False,\n",
       "    'pillarId': 'pillar/news',\n",
       "    'pillarName': 'News'},\n",
       "   {'id': 'environment/2020/apr/17/polluter-bailouts-and-lobbying-during-covid-19-pandemic',\n",
       "    'type': 'article',\n",
       "    'sectionId': 'environment',\n",
       "    'sectionName': 'Environment',\n",
       "    'webPublicationDate': '2020-04-17T09:00:10Z',\n",
       "    'webTitle': 'Polluter bailouts and lobbying during Covid-19 pandemic',\n",
       "    'webUrl': 'https://www.theguardian.com/environment/2020/apr/17/polluter-bailouts-and-lobbying-during-covid-19-pandemic',\n",
       "    'apiUrl': 'https://content.guardianapis.com/environment/2020/apr/17/polluter-bailouts-and-lobbying-during-covid-19-pandemic',\n",
       "    'isHosted': False,\n",
       "    'pillarId': 'pillar/news',\n",
       "    'pillarName': 'News'},\n",
       "   {'id': 'technology/2020/apr/06/minister-condemns-airbnb-hosts-offering-covid-19-retreats',\n",
       "    'type': 'article',\n",
       "    'sectionId': 'technology',\n",
       "    'sectionName': 'Technology',\n",
       "    'webPublicationDate': '2020-04-06T17:00:23Z',\n",
       "    'webTitle': \"Minister condemns Airbnb hosts offering 'Covid-19 retreats'\",\n",
       "    'webUrl': 'https://www.theguardian.com/technology/2020/apr/06/minister-condemns-airbnb-hosts-offering-covid-19-retreats',\n",
       "    'apiUrl': 'https://content.guardianapis.com/technology/2020/apr/06/minister-condemns-airbnb-hosts-offering-covid-19-retreats',\n",
       "    'isHosted': False,\n",
       "    'pillarId': 'pillar/news',\n",
       "    'pillarName': 'News'},\n",
       "   {'id': 'world/2020/apr/04/fraudsters-exploiting-covid-19-fears-have-scammed-16m',\n",
       "    'type': 'article',\n",
       "    'sectionId': 'world',\n",
       "    'sectionName': 'World news',\n",
       "    'webPublicationDate': '2020-04-04T16:29:35Z',\n",
       "    'webTitle': 'Fraudsters exploiting Covid-19 fears have scammed £1.6m',\n",
       "    'webUrl': 'https://www.theguardian.com/world/2020/apr/04/fraudsters-exploiting-covid-19-fears-have-scammed-16m',\n",
       "    'apiUrl': 'https://content.guardianapis.com/world/2020/apr/04/fraudsters-exploiting-covid-19-fears-have-scammed-16m',\n",
       "    'isHosted': False,\n",
       "    'pillarId': 'pillar/news',\n",
       "    'pillarName': 'News'}]}}"
      ]
     },
     "execution_count": 6,
     "metadata": {},
     "output_type": "execute_result"
    }
   ],
   "source": [
    "data = response.json() \n",
    "data # view the content of the response"
   ]
  },
  {
   "cell_type": "markdown",
   "metadata": {},
   "source": [
    "Just by scanning the first few lines we can pick out useful metadata about the response: we can see our search has yielded over 15,000 results, and there are ten results per page spread out over 1,500 pages. We can also see where the actual content of the search is contained, in a section helpfully called `results`.\n",
    "\n",
    "It is important we familiarise ourselves with the hierarchical structure of the response. Note how we needed to call the `json()` method on the `response` variable. JSON stands for Javascript Object Notation, and is a hierarchical data structure based on key-value pairs (known as *items*), which are separated by commas (Brooker, 2020; Tagliaferri, n.d.). For example, the `pageSize` key stores the value `10`. The hierarchical structure is evident in how a key can contain a list of other key-value pairs (items). For example, the `results` key contains a list of items relating to each search result.\n",
    "\n",
    "A JSON data structure (known in Python as a *dictionary*) can be difficult to understand at first, in no small part due to the unappealing presentation format. Visually, it is worth noting that this data structure begins and ends with curly braces (`{}`); this is useful to know when you want to create your own dictionary. \n",
    "\n",
    "Let's examine some of Python's methods for navigating and processing this data structure."
   ]
  },
  {
   "cell_type": "markdown",
   "metadata": {},
   "source": [
    "#### Navigating a dictionary (JSON) variable"
   ]
  },
  {
   "cell_type": "markdown",
   "metadata": {},
   "source": [
    "The first thing we should do is list the keys contained in the dictionary:"
   ]
  },
  {
   "cell_type": "code",
   "execution_count": 7,
   "metadata": {},
   "outputs": [
    {
     "data": {
      "text/plain": [
       "dict_keys(['response'])"
      ]
     },
     "execution_count": 7,
     "metadata": {},
     "output_type": "execute_result"
    }
   ],
   "source": [
    "data.keys()"
   ]
  },
  {
   "cell_type": "markdown",
   "metadata": {},
   "source": [
    "If you're wondering why only one key is listed, remember that we are dealing with a hierarchical data structure. The value of the `response` key is itself another dictionary, therefore we can access those keys as follows: "
   ]
  },
  {
   "cell_type": "code",
   "execution_count": 8,
   "metadata": {},
   "outputs": [
    {
     "data": {
      "text/plain": [
       "dict_keys(['status', 'userTier', 'total', 'startIndex', 'pageSize', 'currentPage', 'pages', 'orderBy', 'results'])"
      ]
     },
     "execution_count": 8,
     "metadata": {},
     "output_type": "execute_result"
    }
   ],
   "source": [
    "data[\"response\"].keys() # list keys contained in the \"response\" key"
   ]
  },
  {
   "cell_type": "markdown",
   "metadata": {},
   "source": [
    "Note how we mentioned that keys can contain a list of other key-value pairs. A *list* is a Python data type used to store ordered sequences of elements (Tagliaferri, n.d.). Let's see how we can deal with lists by examining the `results` key:"
   ]
  },
  {
   "cell_type": "code",
   "execution_count": 10,
   "metadata": {},
   "outputs": [
    {
     "data": {
      "text/plain": [
       "[{'id': 'world/2020/feb/27/what-is-covid-19',\n",
       "  'type': 'article',\n",
       "  'sectionId': 'world',\n",
       "  'sectionName': 'World news',\n",
       "  'webPublicationDate': '2020-03-25T07:00:39Z',\n",
       "  'webTitle': 'What is Covid-19?',\n",
       "  'webUrl': 'https://www.theguardian.com/world/2020/feb/27/what-is-covid-19',\n",
       "  'apiUrl': 'https://content.guardianapis.com/world/2020/feb/27/what-is-covid-19',\n",
       "  'isHosted': False,\n",
       "  'pillarId': 'pillar/news',\n",
       "  'pillarName': 'News'},\n",
       " {'id': 'environment/2020/apr/18/covid-19-a-blessing-for-pangolins',\n",
       "  'type': 'article',\n",
       "  'sectionId': 'environment',\n",
       "  'sectionName': 'Environment',\n",
       "  'webPublicationDate': '2020-04-18T17:00:14Z',\n",
       "  'webTitle': 'Covid-19 – a blessing for pangolins?',\n",
       "  'webUrl': 'https://www.theguardian.com/environment/2020/apr/18/covid-19-a-blessing-for-pangolins',\n",
       "  'apiUrl': 'https://content.guardianapis.com/environment/2020/apr/18/covid-19-a-blessing-for-pangolins',\n",
       "  'isHosted': False,\n",
       "  'pillarId': 'pillar/news',\n",
       "  'pillarName': 'News'},\n",
       " {'id': 'world/2020/apr/17/pregnancy-and-the-covid-19-frontline',\n",
       "  'type': 'article',\n",
       "  'sectionId': 'world',\n",
       "  'sectionName': 'World news',\n",
       "  'webPublicationDate': '2020-04-17T15:46:13Z',\n",
       "  'webTitle': 'Pregnancy and the Covid-19 frontline | Letters',\n",
       "  'webUrl': 'https://www.theguardian.com/world/2020/apr/17/pregnancy-and-the-covid-19-frontline',\n",
       "  'apiUrl': 'https://content.guardianapis.com/world/2020/apr/17/pregnancy-and-the-covid-19-frontline',\n",
       "  'isHosted': False,\n",
       "  'pillarId': 'pillar/news',\n",
       "  'pillarName': 'News'},\n",
       " {'id': 'world/2020/apr/19/key-questions-for-a-covid-19-inquiry',\n",
       "  'type': 'article',\n",
       "  'sectionId': 'world',\n",
       "  'sectionName': 'World news',\n",
       "  'webPublicationDate': '2020-04-19T16:57:00Z',\n",
       "  'webTitle': 'Key questions for a Covid-19 inquiry | Letters',\n",
       "  'webUrl': 'https://www.theguardian.com/world/2020/apr/19/key-questions-for-a-covid-19-inquiry',\n",
       "  'apiUrl': 'https://content.guardianapis.com/world/2020/apr/19/key-questions-for-a-covid-19-inquiry',\n",
       "  'isHosted': False,\n",
       "  'pillarId': 'pillar/news',\n",
       "  'pillarName': 'News'},\n",
       " {'id': 'world/2020/mar/29/first-nhs-consultant-dies-from-covid-19',\n",
       "  'type': 'article',\n",
       "  'sectionId': 'world',\n",
       "  'sectionName': 'World news',\n",
       "  'webPublicationDate': '2020-03-29T16:37:18Z',\n",
       "  'webTitle': 'NHS consultant dies from Covid-19',\n",
       "  'webUrl': 'https://www.theguardian.com/world/2020/mar/29/first-nhs-consultant-dies-from-covid-19',\n",
       "  'apiUrl': 'https://content.guardianapis.com/world/2020/mar/29/first-nhs-consultant-dies-from-covid-19',\n",
       "  'isHosted': False,\n",
       "  'pillarId': 'pillar/news',\n",
       "  'pillarName': 'News'},\n",
       " {'id': 'world/2020/mar/25/dispatches-from-the-covid-19-frontline',\n",
       "  'type': 'article',\n",
       "  'sectionId': 'world',\n",
       "  'sectionName': 'World news',\n",
       "  'webPublicationDate': '2020-03-25T19:27:20Z',\n",
       "  'webTitle': 'Dispatches from the Covid-19 frontline',\n",
       "  'webUrl': 'https://www.theguardian.com/world/2020/mar/25/dispatches-from-the-covid-19-frontline',\n",
       "  'apiUrl': 'https://content.guardianapis.com/world/2020/mar/25/dispatches-from-the-covid-19-frontline',\n",
       "  'isHosted': False,\n",
       "  'pillarId': 'pillar/news',\n",
       "  'pillarName': 'News'},\n",
       " {'id': 'world/2020/mar/18/russian-media-spreading-covid-19-disinformation',\n",
       "  'type': 'article',\n",
       "  'sectionId': 'world',\n",
       "  'sectionName': 'World news',\n",
       "  'webPublicationDate': '2020-03-18T16:57:30Z',\n",
       "  'webTitle': 'Russian media ‘spreading Covid-19 disinformation’',\n",
       "  'webUrl': 'https://www.theguardian.com/world/2020/mar/18/russian-media-spreading-covid-19-disinformation',\n",
       "  'apiUrl': 'https://content.guardianapis.com/world/2020/mar/18/russian-media-spreading-covid-19-disinformation',\n",
       "  'isHosted': False,\n",
       "  'pillarId': 'pillar/news',\n",
       "  'pillarName': 'News'},\n",
       " {'id': 'environment/2020/apr/17/polluter-bailouts-and-lobbying-during-covid-19-pandemic',\n",
       "  'type': 'article',\n",
       "  'sectionId': 'environment',\n",
       "  'sectionName': 'Environment',\n",
       "  'webPublicationDate': '2020-04-17T09:00:10Z',\n",
       "  'webTitle': 'Polluter bailouts and lobbying during Covid-19 pandemic',\n",
       "  'webUrl': 'https://www.theguardian.com/environment/2020/apr/17/polluter-bailouts-and-lobbying-during-covid-19-pandemic',\n",
       "  'apiUrl': 'https://content.guardianapis.com/environment/2020/apr/17/polluter-bailouts-and-lobbying-during-covid-19-pandemic',\n",
       "  'isHosted': False,\n",
       "  'pillarId': 'pillar/news',\n",
       "  'pillarName': 'News'},\n",
       " {'id': 'technology/2020/apr/06/minister-condemns-airbnb-hosts-offering-covid-19-retreats',\n",
       "  'type': 'article',\n",
       "  'sectionId': 'technology',\n",
       "  'sectionName': 'Technology',\n",
       "  'webPublicationDate': '2020-04-06T17:00:23Z',\n",
       "  'webTitle': \"Minister condemns Airbnb hosts offering 'Covid-19 retreats'\",\n",
       "  'webUrl': 'https://www.theguardian.com/technology/2020/apr/06/minister-condemns-airbnb-hosts-offering-covid-19-retreats',\n",
       "  'apiUrl': 'https://content.guardianapis.com/technology/2020/apr/06/minister-condemns-airbnb-hosts-offering-covid-19-retreats',\n",
       "  'isHosted': False,\n",
       "  'pillarId': 'pillar/news',\n",
       "  'pillarName': 'News'},\n",
       " {'id': 'world/2020/apr/04/fraudsters-exploiting-covid-19-fears-have-scammed-16m',\n",
       "  'type': 'article',\n",
       "  'sectionId': 'world',\n",
       "  'sectionName': 'World news',\n",
       "  'webPublicationDate': '2020-04-04T16:29:35Z',\n",
       "  'webTitle': 'Fraudsters exploiting Covid-19 fears have scammed £1.6m',\n",
       "  'webUrl': 'https://www.theguardian.com/world/2020/apr/04/fraudsters-exploiting-covid-19-fears-have-scammed-16m',\n",
       "  'apiUrl': 'https://content.guardianapis.com/world/2020/apr/04/fraudsters-exploiting-covid-19-fears-have-scammed-16m',\n",
       "  'isHosted': False,\n",
       "  'pillarId': 'pillar/news',\n",
       "  'pillarName': 'News'}]"
      ]
     },
     "execution_count": 10,
     "metadata": {},
     "output_type": "execute_result"
    }
   ],
   "source": [
    "search_results = data[\"response\"][\"results\"] \n",
    "search_results # view the contents of the \"results\" key nested within the \"response\" key"
   ]
  },
  {
   "cell_type": "markdown",
   "metadata": {},
   "source": [
    "Visually, a list begins and ends with square parentheses (`[]`) -  however we can just ask Python to confirm that the `search_results` variable is a list:"
   ]
  },
  {
   "cell_type": "code",
   "execution_count": 11,
   "metadata": {},
   "outputs": [
    {
     "data": {
      "text/plain": [
       "list"
      ]
     },
     "execution_count": 11,
     "metadata": {},
     "output_type": "execute_result"
    }
   ],
   "source": [
    "type(search_results)"
   ]
  },
  {
   "cell_type": "markdown",
   "metadata": {},
   "source": [
    "We can check how many elements are in a list by calling on the `len()` function:"
   ]
  },
  {
   "cell_type": "code",
   "execution_count": 12,
   "metadata": {},
   "outputs": [
    {
     "data": {
      "text/plain": [
       "10"
      ]
     },
     "execution_count": 12,
     "metadata": {},
     "output_type": "execute_result"
    }
   ],
   "source": [
    "len(search_results)"
   ]
  },
  {
   "cell_type": "markdown",
   "metadata": {},
   "source": [
    "We can view each element in the list of search results as follows:"
   ]
  },
  {
   "cell_type": "code",
   "execution_count": 13,
   "metadata": {},
   "outputs": [
    {
     "name": "stdout",
     "output_type": "stream",
     "text": [
      "article\n",
      "World news\n",
      "2020-03-25T07:00:39Z\n",
      "\r\n",
      "-------------\n",
      "\r\n",
      "article\n",
      "Environment\n",
      "2020-04-18T17:00:14Z\n",
      "\r\n",
      "-------------\n",
      "\r\n",
      "article\n",
      "World news\n",
      "2020-04-17T15:46:13Z\n",
      "\r\n",
      "-------------\n",
      "\r\n",
      "article\n",
      "World news\n",
      "2020-04-19T16:57:00Z\n",
      "\r\n",
      "-------------\n",
      "\r\n",
      "article\n",
      "World news\n",
      "2020-03-29T16:37:18Z\n",
      "\r\n",
      "-------------\n",
      "\r\n",
      "article\n",
      "World news\n",
      "2020-03-25T19:27:20Z\n",
      "\r\n",
      "-------------\n",
      "\r\n",
      "article\n",
      "World news\n",
      "2020-03-18T16:57:30Z\n",
      "\r\n",
      "-------------\n",
      "\r\n",
      "article\n",
      "Environment\n",
      "2020-04-17T09:00:10Z\n",
      "\r\n",
      "-------------\n",
      "\r\n",
      "article\n",
      "Technology\n",
      "2020-04-06T17:00:23Z\n",
      "\r\n",
      "-------------\n",
      "\r\n",
      "article\n",
      "World news\n",
      "2020-04-04T16:29:35Z\n",
      "\r\n",
      "-------------\n",
      "\r\n"
     ]
    }
   ],
   "source": [
    "for result in search_results:\n",
    "    print(result[\"type\"]) # view content type\n",
    "    print(result[\"sectionName\"]) # view newspaper section content appeared in\n",
    "    print(result[\"webPublicationDate\"]) # view date content was published online\n",
    "    print(\"\\r\")\n",
    "    print(\"-------------\")\n",
    "    print(\"\\r\")"
   ]
  },
  {
   "cell_type": "markdown",
   "metadata": {},
   "source": [
    "It takes a bit of time to get used to unfamiliar data structures and types. If you are a quantitative social scientist, you may be used to working with data structured in a tabular (i.e., variable-by-case) format, such as the sample dataset below.\n",
    "\n",
    "In section 4.7, we'll see how we can convert data from a JSON structure to a tabular format, but just keep in mind that JSON is a popular means of storing and sharing data found on the web and it is worth becoming proficient in managing and manipulating it.\n",
    "\n",
    "**TASK**: jnknknk"
   ]
  },
  {
   "cell_type": "markdown",
   "metadata": {},
   "source": [
    "### Saving results\n",
    "\n",
    "The final task is to save the data to a file that we can use in the future. We'll write to a JSON file, as this is the format the data were returned in."
   ]
  },
  {
   "cell_type": "code",
   "execution_count": 50,
   "metadata": {},
   "outputs": [
    {
     "name": "stdout",
     "output_type": "stream",
     "text": [
      "Unable to create folder: already exists\n"
     ]
    }
   ],
   "source": [
    "# Create a downloads folder\n",
    "\n",
    "try:\n",
    "    os.mkdir(\"./downloads\")\n",
    "except:\n",
    "    print(\"Unable to create folder: already exists\")"
   ]
  },
  {
   "cell_type": "markdown",
   "metadata": {},
   "source": [
    "The use of \"./\" tells the `os.mkdir()` command that the \"downloads\" folder should be created at the same level of the directory where this notebook is located. So if this notebook was stored in a directory located at \"C:/Users/joebloggs/notebooks\", the `os.mkdir()` command would result in a new folder located at \"C:/Users/joebloggs/notebooks/downloads\".\n",
    "   \n",
    "(Technically the \"./\" is not needed and you could just write `os.mkdir(\"downloads\")` but it's good practice to be explicit)"
   ]
  },
  {
   "cell_type": "code",
   "execution_count": 51,
   "metadata": {},
   "outputs": [
    {
     "name": "stdout",
     "output_type": "stream",
     "text": [
      "2020-04-27\n"
     ]
    }
   ],
   "source": [
    "# Write the results to a JSON file\n",
    "\n",
    "date = datetime.now().strftime(\"%Y-%m-%d\") # get today's date in YYYY-MM-DD format\n",
    "print(date)\n",
    "\n",
    "outfile = \"./downloads/guardian-api-covid-19-search-\" + date + \".json\"\n",
    "\n",
    "with open(outfile, \"w\") as f:\n",
    "    json.dump(data, f)"
   ]
  },
  {
   "cell_type": "markdown",
   "metadata": {},
   "source": [
    "The code above defines a name and location for the file which will store the results of the API request. We then open the file in *write* mode and save (or \"dump\") the contents of the `data` variable to it."
   ]
  },
  {
   "cell_type": "markdown",
   "metadata": {},
   "source": [
    "How do we know this worked? The simplest way is to check whether a) the file was created, and b) the results were written to it."
   ]
  },
  {
   "cell_type": "code",
   "execution_count": 52,
   "metadata": {},
   "outputs": [
    {
     "data": {
      "text/plain": [
       "['covid-19-country-statistics-2020-04-23.csv',\n",
       " 'covid-19-statistics-2020-04-23.csv',\n",
       " 'guardian-api-covid-19-search-2020-04-27.json']"
      ]
     },
     "execution_count": 52,
     "metadata": {},
     "output_type": "execute_result"
    }
   ],
   "source": [
    "# a) Check presence of file in \"downloads\" folder\n",
    "\n",
    "os.listdir(\"./downloads\")"
   ]
  },
  {
   "cell_type": "code",
   "execution_count": 53,
   "metadata": {},
   "outputs": [
    {
     "name": "stdout",
     "output_type": "stream",
     "text": [
      "{'response': {'status': 'ok', 'userTier': 'developer', 'total': 15585, 'startIndex': 1, 'pageSize': 10, 'currentPage': 1, 'pages': 1559, 'orderBy': 'relevance', 'results': [{'id': 'world/2020/feb/27/what-is-covid-19', 'type': 'article', 'sectionId': 'world', 'sectionName': 'World news', 'webPublicationDate': '2020-03-25T07:00:39Z', 'webTitle': 'What is Covid-19?', 'webUrl': 'https://www.theguardian.com/world/2020/feb/27/what-is-covid-19', 'apiUrl': 'https://content.guardianapis.com/world/2020/feb/27/what-is-covid-19', 'isHosted': False, 'pillarId': 'pillar/news', 'pillarName': 'News'}, {'id': 'world/2020/apr/17/pregnancy-and-the-covid-19-frontline', 'type': 'article', 'sectionId': 'world', 'sectionName': 'World news', 'webPublicationDate': '2020-04-17T15:46:13Z', 'webTitle': 'Pregnancy and the Covid-19 frontline | Letters', 'webUrl': 'https://www.theguardian.com/world/2020/apr/17/pregnancy-and-the-covid-19-frontline', 'apiUrl': 'https://content.guardianapis.com/world/2020/apr/17/pregnancy-and-the-covid-19-frontline', 'isHosted': False, 'pillarId': 'pillar/news', 'pillarName': 'News'}, {'id': 'environment/2020/apr/18/covid-19-a-blessing-for-pangolins', 'type': 'article', 'sectionId': 'environment', 'sectionName': 'Environment', 'webPublicationDate': '2020-04-18T17:00:14Z', 'webTitle': 'Covid-19 – a blessing for pangolins?', 'webUrl': 'https://www.theguardian.com/environment/2020/apr/18/covid-19-a-blessing-for-pangolins', 'apiUrl': 'https://content.guardianapis.com/environment/2020/apr/18/covid-19-a-blessing-for-pangolins', 'isHosted': False, 'pillarId': 'pillar/news', 'pillarName': 'News'}, {'id': 'world/2020/apr/19/key-questions-for-a-covid-19-inquiry', 'type': 'article', 'sectionId': 'world', 'sectionName': 'World news', 'webPublicationDate': '2020-04-19T16:57:00Z', 'webTitle': 'Key questions for a Covid-19 inquiry | Letters', 'webUrl': 'https://www.theguardian.com/world/2020/apr/19/key-questions-for-a-covid-19-inquiry', 'apiUrl': 'https://content.guardianapis.com/world/2020/apr/19/key-questions-for-a-covid-19-inquiry', 'isHosted': False, 'pillarId': 'pillar/news', 'pillarName': 'News'}, {'id': 'world/2020/mar/29/first-nhs-consultant-dies-from-covid-19', 'type': 'article', 'sectionId': 'world', 'sectionName': 'World news', 'webPublicationDate': '2020-03-29T16:37:18Z', 'webTitle': 'NHS consultant dies from Covid-19', 'webUrl': 'https://www.theguardian.com/world/2020/mar/29/first-nhs-consultant-dies-from-covid-19', 'apiUrl': 'https://content.guardianapis.com/world/2020/mar/29/first-nhs-consultant-dies-from-covid-19', 'isHosted': False, 'pillarId': 'pillar/news', 'pillarName': 'News'}, {'id': 'world/2020/mar/25/dispatches-from-the-covid-19-frontline', 'type': 'article', 'sectionId': 'world', 'sectionName': 'World news', 'webPublicationDate': '2020-03-25T19:27:20Z', 'webTitle': 'Dispatches from the Covid-19 frontline', 'webUrl': 'https://www.theguardian.com/world/2020/mar/25/dispatches-from-the-covid-19-frontline', 'apiUrl': 'https://content.guardianapis.com/world/2020/mar/25/dispatches-from-the-covid-19-frontline', 'isHosted': False, 'pillarId': 'pillar/news', 'pillarName': 'News'}, {'id': 'world/2020/mar/18/russian-media-spreading-covid-19-disinformation', 'type': 'article', 'sectionId': 'world', 'sectionName': 'World news', 'webPublicationDate': '2020-03-18T16:57:30Z', 'webTitle': 'Russian media ‘spreading Covid-19 disinformation’', 'webUrl': 'https://www.theguardian.com/world/2020/mar/18/russian-media-spreading-covid-19-disinformation', 'apiUrl': 'https://content.guardianapis.com/world/2020/mar/18/russian-media-spreading-covid-19-disinformation', 'isHosted': False, 'pillarId': 'pillar/news', 'pillarName': 'News'}, {'id': 'environment/2020/apr/17/polluter-bailouts-and-lobbying-during-covid-19-pandemic', 'type': 'article', 'sectionId': 'environment', 'sectionName': 'Environment', 'webPublicationDate': '2020-04-17T09:00:10Z', 'webTitle': 'Polluter bailouts and lobbying during Covid-19 pandemic', 'webUrl': 'https://www.theguardian.com/environment/2020/apr/17/polluter-bailouts-and-lobbying-during-covid-19-pandemic', 'apiUrl': 'https://content.guardianapis.com/environment/2020/apr/17/polluter-bailouts-and-lobbying-during-covid-19-pandemic', 'isHosted': False, 'pillarId': 'pillar/news', 'pillarName': 'News'}, {'id': 'world/2020/mar/27/pregnant-covid-19-patient-stop-going-out', 'type': 'article', 'sectionId': 'world', 'sectionName': 'World news', 'webPublicationDate': '2020-03-27T12:40:57Z', 'webTitle': \"Pregnant Covid-19 patient: 'Stop going out'\", 'webUrl': 'https://www.theguardian.com/world/2020/mar/27/pregnant-covid-19-patient-stop-going-out', 'apiUrl': 'https://content.guardianapis.com/world/2020/mar/27/pregnant-covid-19-patient-stop-going-out', 'isHosted': False, 'pillarId': 'pillar/news', 'pillarName': 'News'}, {'id': 'world/2020/apr/04/fraudsters-exploiting-covid-19-fears-have-scammed-16m', 'type': 'article', 'sectionId': 'world', 'sectionName': 'World news', 'webPublicationDate': '2020-04-04T16:29:35Z', 'webTitle': 'Fraudsters exploiting Covid-19 fears have scammed £1.6m', 'webUrl': 'https://www.theguardian.com/world/2020/apr/04/fraudsters-exploiting-covid-19-fears-have-scammed-16m', 'apiUrl': 'https://content.guardianapis.com/world/2020/apr/04/fraudsters-exploiting-covid-19-fears-have-scammed-16m', 'isHosted': False, 'pillarId': 'pillar/news', 'pillarName': 'News'}]}}\n"
     ]
    }
   ],
   "source": [
    "# b) Open file and read (import) its contents\n",
    "\n",
    "with open(outfile, \"r\") as f:\n",
    "    data = json.load(f) # use the \"load()\" method of the \"json\" module\n",
    "    \n",
    "print(data)"
   ]
  },
  {
   "cell_type": "markdown",
   "metadata": {},
   "source": [
    "And Voila, we have successfully requested data using an API!"
   ]
  },
  {
   "cell_type": "markdown",
   "metadata": {},
   "source": [
    "### Refining Covid-19 data collection\n",
    "\n",
    "We will complete our work gathering data on articles relating to Covid-19 by refining our request and handling of the response. In particular, we will deal with the following outstanding issues:\n",
    "1. Including additional search terms\n",
    "2. Dealing with multiple pages of results\n",
    "3. Requesting the contents (text) of some of the articles contained in our list of search results \n",
    "4. Converting data stored in JSON to a different file format\n",
    "5. Handling the rate limit\n",
    "\n",
    "The following blocks of code contain fewer comments explaining what each command is doing, so feel free to add these back in if you like.\n",
    "\n",
    "Let's get some the preliminaries out of the way before we begin:"
   ]
  },
  {
   "cell_type": "code",
   "execution_count": 40,
   "metadata": {},
   "outputs": [],
   "source": [
    "import os\n",
    "import requests\n",
    "import json\n",
    "import pandas as pd\n",
    "from datetime import datetime\n",
    "from bs4 import BeautifulSoup as soup\n",
    "\n",
    "date = datetime.now().strftime(\"%Y-%m-%d\")"
   ]
  },
  {
   "cell_type": "markdown",
   "metadata": {},
   "source": [
    "#### Including additional search terms\n",
    "\n",
    "We can use logical operators - AND, OR and NOT - to include additional search terms in our request."
   ]
  },
  {
   "cell_type": "code",
   "execution_count": 41,
   "metadata": {},
   "outputs": [
    {
     "name": "stdout",
     "output_type": "stream",
     "text": [
      "http://content.guardianapis.com/search?q=covid-19 OR coronavirus\n"
     ]
    },
    {
     "data": {
      "text/plain": [
       "200"
      ]
     },
     "execution_count": 41,
     "metadata": {},
     "output_type": "execute_result"
    }
   ],
   "source": [
    "# Define web address and search terms\n",
    "\n",
    "baseurl = \"http://content.guardianapis.com/search?\"\n",
    "searchterms = \"covid-19 OR coronavirus\" # terms we want to search for\n",
    "auth = {\"api-key\": api_key}\n",
    "\n",
    "webadd = baseurl + \"q=\" + searchterms\n",
    "print(webadd)\n",
    "\n",
    "# Make call to API\n",
    "\n",
    "response = requests.get(webadd, headers=auth)\n",
    "response.status_code"
   ]
  },
  {
   "cell_type": "code",
   "execution_count": 42,
   "metadata": {},
   "outputs": [
    {
     "data": {
      "text/plain": [
       "{'response': {'status': 'ok',\n",
       "  'userTier': 'developer',\n",
       "  'total': 19610,\n",
       "  'startIndex': 1,\n",
       "  'pageSize': 10,\n",
       "  'currentPage': 1,\n",
       "  'pages': 1961,\n",
       "  'orderBy': 'relevance',\n",
       "  'results': [{'id': 'world/2020/apr/24/coronavirus-what-have-scientists-learned-about-covid-19-so-far',\n",
       "    'type': 'article',\n",
       "    'sectionId': 'world',\n",
       "    'sectionName': 'World news',\n",
       "    'webPublicationDate': '2020-04-24T10:16:18Z',\n",
       "    'webTitle': 'Coronavirus: what have scientists learned about Covid-19 so far?',\n",
       "    'webUrl': 'https://www.theguardian.com/world/2020/apr/24/coronavirus-what-have-scientists-learned-about-covid-19-so-far',\n",
       "    'apiUrl': 'https://content.guardianapis.com/world/2020/apr/24/coronavirus-what-have-scientists-learned-about-covid-19-so-far',\n",
       "    'isHosted': False,\n",
       "    'pillarId': 'pillar/news',\n",
       "    'pillarName': 'News'},\n",
       "   {'id': 'australia-news/2020/apr/21/australia-coronavirus-victims-age-names-deaths-covid-19-australian-death-toll',\n",
       "    'type': 'article',\n",
       "    'sectionId': 'australia-news',\n",
       "    'sectionName': 'Australia news',\n",
       "    'webPublicationDate': '2020-04-21T04:09:50Z',\n",
       "    'webTitle': 'Australia’s coronavirus victims: Covid-19 related deaths across the country',\n",
       "    'webUrl': 'https://www.theguardian.com/australia-news/2020/apr/21/australia-coronavirus-victims-age-names-deaths-covid-19-australian-death-toll',\n",
       "    'apiUrl': 'https://content.guardianapis.com/australia-news/2020/apr/21/australia-coronavirus-victims-age-names-deaths-covid-19-australian-death-toll',\n",
       "    'isHosted': False,\n",
       "    'pillarId': 'pillar/news',\n",
       "    'pillarName': 'News'},\n",
       "   {'id': 'world/2020/apr/14/uk-care-providers-allege-covid-19-death-toll-underestimated',\n",
       "    'type': 'article',\n",
       "    'sectionId': 'world',\n",
       "    'sectionName': 'World news',\n",
       "    'webPublicationDate': '2020-04-15T06:09:09Z',\n",
       "    'webTitle': 'UK coronavirus: care providers allege Covid-19 death toll underestimated',\n",
       "    'webUrl': 'https://www.theguardian.com/world/2020/apr/14/uk-care-providers-allege-covid-19-death-toll-underestimated',\n",
       "    'apiUrl': 'https://content.guardianapis.com/world/2020/apr/14/uk-care-providers-allege-covid-19-death-toll-underestimated',\n",
       "    'isHosted': False,\n",
       "    'pillarId': 'pillar/news',\n",
       "    'pillarName': 'News'},\n",
       "   {'id': 'world/2020/mar/07/uk-coronavirus-total-infected-covid-19-passes-200',\n",
       "    'type': 'article',\n",
       "    'sectionId': 'world',\n",
       "    'sectionName': 'World news',\n",
       "    'webPublicationDate': '2020-03-07T15:55:13Z',\n",
       "    'webTitle': 'Coronavirus UK: total infected with Covid-19 passes 200',\n",
       "    'webUrl': 'https://www.theguardian.com/world/2020/mar/07/uk-coronavirus-total-infected-covid-19-passes-200',\n",
       "    'apiUrl': 'https://content.guardianapis.com/world/2020/mar/07/uk-coronavirus-total-infected-covid-19-passes-200',\n",
       "    'isHosted': False,\n",
       "    'pillarId': 'pillar/news',\n",
       "    'pillarName': 'News'},\n",
       "   {'id': 'world/2020/feb/27/what-is-covid-19',\n",
       "    'type': 'article',\n",
       "    'sectionId': 'world',\n",
       "    'sectionName': 'World news',\n",
       "    'webPublicationDate': '2020-03-25T07:00:39Z',\n",
       "    'webTitle': 'What is Covid-19?',\n",
       "    'webUrl': 'https://www.theguardian.com/world/2020/feb/27/what-is-covid-19',\n",
       "    'apiUrl': 'https://content.guardianapis.com/world/2020/feb/27/what-is-covid-19',\n",
       "    'isHosted': False,\n",
       "    'pillarId': 'pillar/news',\n",
       "    'pillarName': 'News'},\n",
       "   {'id': 'world/live/2020/apr/24/coronavirus-death-toll-trump-china-live-news-us-passes-480bn-relief-bill-as-ramadan-restrictions-are-imposed-indonesia',\n",
       "    'type': 'liveblog',\n",
       "    'sectionId': 'world',\n",
       "    'sectionName': 'World news',\n",
       "    'webPublicationDate': '2020-04-25T00:22:03Z',\n",
       "    'webTitle': 'Coronavirus live: US Covid-19 death toll passes 50,000 - as it happened',\n",
       "    'webUrl': 'https://www.theguardian.com/world/live/2020/apr/24/coronavirus-death-toll-trump-china-live-news-us-passes-480bn-relief-bill-as-ramadan-restrictions-are-imposed-indonesia',\n",
       "    'apiUrl': 'https://content.guardianapis.com/world/live/2020/apr/24/coronavirus-death-toll-trump-china-live-news-us-passes-480bn-relief-bill-as-ramadan-restrictions-are-imposed-indonesia',\n",
       "    'isHosted': False,\n",
       "    'pillarId': 'pillar/news',\n",
       "    'pillarName': 'News'},\n",
       "   {'id': 'world/2020/apr/11/can-a-face-mask-protect-me-from-coronavirus-covid-19-myths-busted',\n",
       "    'type': 'article',\n",
       "    'sectionId': 'world',\n",
       "    'sectionName': 'World news',\n",
       "    'webPublicationDate': '2020-04-11T10:52:44Z',\n",
       "    'webTitle': 'Can a face mask protect me from coronavirus? Covid-19 myths busted',\n",
       "    'webUrl': 'https://www.theguardian.com/world/2020/apr/11/can-a-face-mask-protect-me-from-coronavirus-covid-19-myths-busted',\n",
       "    'apiUrl': 'https://content.guardianapis.com/world/2020/apr/11/can-a-face-mask-protect-me-from-coronavirus-covid-19-myths-busted',\n",
       "    'isHosted': False,\n",
       "    'pillarId': 'pillar/news',\n",
       "    'pillarName': 'News'},\n",
       "   {'id': 'world/2020/mar/26/life-after-coronavirus-pandemic-change-world',\n",
       "    'type': 'article',\n",
       "    'sectionId': 'world',\n",
       "    'sectionName': 'World news',\n",
       "    'webPublicationDate': '2020-03-26T07:00:21Z',\n",
       "    'webTitle': 'Cities after coronavirus: how Covid-19 could radically alter urban life',\n",
       "    'webUrl': 'https://www.theguardian.com/world/2020/mar/26/life-after-coronavirus-pandemic-change-world',\n",
       "    'apiUrl': 'https://content.guardianapis.com/world/2020/mar/26/life-after-coronavirus-pandemic-change-world',\n",
       "    'isHosted': False,\n",
       "    'pillarId': 'pillar/news',\n",
       "    'pillarName': 'News'},\n",
       "   {'id': 'society/2020/apr/02/london-hospital-almost-runs-out-oxygen-coronavirus-patients',\n",
       "    'type': 'article',\n",
       "    'sectionId': 'society',\n",
       "    'sectionName': 'Society',\n",
       "    'webPublicationDate': '2020-04-02T06:28:58Z',\n",
       "    'webTitle': 'Coronavirus: London hospital almost runs out of oxygen for Covid-19 patients',\n",
       "    'webUrl': 'https://www.theguardian.com/society/2020/apr/02/london-hospital-almost-runs-out-oxygen-coronavirus-patients',\n",
       "    'apiUrl': 'https://content.guardianapis.com/society/2020/apr/02/london-hospital-almost-runs-out-oxygen-coronavirus-patients',\n",
       "    'isHosted': False,\n",
       "    'pillarId': 'pillar/news',\n",
       "    'pillarName': 'News'},\n",
       "   {'id': 'world/2020/apr/17/world-biggest-drug-trial-covid-19-uk',\n",
       "    'type': 'article',\n",
       "    'sectionId': 'world',\n",
       "    'sectionName': 'World news',\n",
       "    'webPublicationDate': '2020-04-17T09:11:50Z',\n",
       "    'webTitle': \"Coronavirus: world's biggest trial of drug to treat Covid-19 begins in UK\",\n",
       "    'webUrl': 'https://www.theguardian.com/world/2020/apr/17/world-biggest-drug-trial-covid-19-uk',\n",
       "    'apiUrl': 'https://content.guardianapis.com/world/2020/apr/17/world-biggest-drug-trial-covid-19-uk',\n",
       "    'isHosted': False,\n",
       "    'pillarId': 'pillar/news',\n",
       "    'pillarName': 'News'}]}}"
      ]
     },
     "execution_count": 42,
     "metadata": {},
     "output_type": "execute_result"
    }
   ],
   "source": [
    "response.json()"
   ]
  },
  {
   "cell_type": "markdown",
   "metadata": {},
   "source": [
    "Note how the total number of results is higher than if we just searched for \"covid-19\" on its own."
   ]
  },
  {
   "cell_type": "markdown",
   "metadata": {},
   "source": [
    "#### Dealing with multiple pages of results\n",
    "\n",
    "Sticking with our previous example, we noted how the search results were restricted to ten per page. There are a couple of ways of dealing with this issue:\n",
    "* Increasing the number of results returned per page; AND\n",
    "* Requesting each individual page of results\n",
    "\n",
    "First, increase the number of results per page using the `page-size` filter:"
   ]
  },
  {
   "cell_type": "code",
   "execution_count": 43,
   "metadata": {},
   "outputs": [
    {
     "name": "stdout",
     "output_type": "stream",
     "text": [
      "http://content.guardianapis.com/search?q=covid-19 OR coronavirus&page-size=50\n"
     ]
    },
    {
     "data": {
      "text/plain": [
       "200"
      ]
     },
     "execution_count": 43,
     "metadata": {},
     "output_type": "execute_result"
    }
   ],
   "source": [
    "# Define web address and search terms\n",
    "\n",
    "baseurl = \"http://content.guardianapis.com/search?\"\n",
    "searchterms = \"covid-19 OR coronavirus\"\n",
    "auth = {\"api-key\": api_key}\n",
    "numresults = \"50\" # number of results per page\n",
    "\n",
    "webadd = baseurl + \"q=\" + searchterms + \"&page-size=\" + numresults\n",
    "print(webadd)\n",
    "\n",
    "# Make call to API\n",
    "\n",
    "response = requests.get(webadd, headers=auth)\n",
    "response.status_code"
   ]
  },
  {
   "cell_type": "markdown",
   "metadata": {},
   "source": [
    "Confirm the `page-size` filter was applied:"
   ]
  },
  {
   "cell_type": "code",
   "execution_count": 44,
   "metadata": {},
   "outputs": [
    {
     "data": {
      "text/plain": [
       "50"
      ]
     },
     "execution_count": 44,
     "metadata": {},
     "output_type": "execute_result"
    }
   ],
   "source": [
    "data = response.json()\n",
    "data[\"response\"][\"pageSize\"]"
   ]
  },
  {
   "cell_type": "markdown",
   "metadata": {},
   "source": [
    "Good, now let's request each page of results. We start by finding out how many pages we need to request:"
   ]
  },
  {
   "cell_type": "code",
   "execution_count": 45,
   "metadata": {},
   "outputs": [
    {
     "data": {
      "text/plain": [
       "394"
      ]
     },
     "execution_count": 45,
     "metadata": {},
     "output_type": "execute_result"
    }
   ],
   "source": [
    "total_pages = data[\"response\"][\"pages\"]\n",
    "total_pages = total_pages + 1\n",
    "total_pages"
   ]
  },
  {
   "cell_type": "markdown",
   "metadata": {},
   "source": [
    "Note how we needed to add one to the total number of pages. This is because of the way Python loops over a range of numbers. For example, the code below loops over numbers beginning at one and **up to but not including** five:"
   ]
  },
  {
   "cell_type": "code",
   "execution_count": 46,
   "metadata": {},
   "outputs": [
    {
     "name": "stdout",
     "output_type": "stream",
     "text": [
      "1\n",
      "2\n",
      "3\n",
      "4\n"
     ]
    }
   ],
   "source": [
    "for i in range(1, 5):\n",
    "    print(i)"
   ]
  },
  {
   "cell_type": "markdown",
   "metadata": {},
   "source": [
    "Requesting the total number of pages may take a while, so let's just request the first 20:"
   ]
  },
  {
   "cell_type": "code",
   "execution_count": 49,
   "metadata": {},
   "outputs": [
    {
     "name": "stdout",
     "output_type": "stream",
     "text": [
      "http://content.guardianapis.com/search?q=covid-19 OR coronavirus&page-size=50&page=1\n",
      "http://content.guardianapis.com/search?q=covid-19 OR coronavirus&page-size=50&page=2\n",
      "http://content.guardianapis.com/search?q=covid-19 OR coronavirus&page-size=50&page=3\n",
      "http://content.guardianapis.com/search?q=covid-19 OR coronavirus&page-size=50&page=4\n",
      "http://content.guardianapis.com/search?q=covid-19 OR coronavirus&page-size=50&page=5\n",
      "http://content.guardianapis.com/search?q=covid-19 OR coronavirus&page-size=50&page=6\n",
      "http://content.guardianapis.com/search?q=covid-19 OR coronavirus&page-size=50&page=7\n",
      "http://content.guardianapis.com/search?q=covid-19 OR coronavirus&page-size=50&page=8\n",
      "http://content.guardianapis.com/search?q=covid-19 OR coronavirus&page-size=50&page=9\n",
      "http://content.guardianapis.com/search?q=covid-19 OR coronavirus&page-size=50&page=10\n",
      "http://content.guardianapis.com/search?q=covid-19 OR coronavirus&page-size=50&page=11\n",
      "http://content.guardianapis.com/search?q=covid-19 OR coronavirus&page-size=50&page=12\n",
      "http://content.guardianapis.com/search?q=covid-19 OR coronavirus&page-size=50&page=13\n",
      "http://content.guardianapis.com/search?q=covid-19 OR coronavirus&page-size=50&page=14\n",
      "http://content.guardianapis.com/search?q=covid-19 OR coronavirus&page-size=50&page=15\n",
      "http://content.guardianapis.com/search?q=covid-19 OR coronavirus&page-size=50&page=16\n",
      "http://content.guardianapis.com/search?q=covid-19 OR coronavirus&page-size=50&page=17\n",
      "http://content.guardianapis.com/search?q=covid-19 OR coronavirus&page-size=50&page=18\n",
      "http://content.guardianapis.com/search?q=covid-19 OR coronavirus&page-size=50&page=19\n",
      "http://content.guardianapis.com/search?q=covid-19 OR coronavirus&page-size=50&page=20\n"
     ]
    }
   ],
   "source": [
    "for pagenum in range(1, 21):\n",
    "    \n",
    "    baseurl = \"http://content.guardianapis.com/search?\"\n",
    "    searchterms = \"covid-19 OR coronavirus\"\n",
    "    auth = {\"api-key\": api_key}\n",
    "    numresults = \"50\"\n",
    "    \n",
    "    webadd = baseurl + \"q=\" + searchterms + \"&page-size=\" + numresults \\\n",
    "        + \"&page=\" + str(pagenum)\n",
    "    print(webadd)\n",
    "\n",
    "    # Make call to API\n",
    "\n",
    "    response = requests.get(webadd, headers=auth)\n",
    "    response.status_code\n",
    "    \n",
    "    # Save to file\n",
    "    \n",
    "    outfile = \"./downloads/guardian-api-covid-19-search-page-\" \\\n",
    "        + str(pagenum) + \"-\" + date + \".json\"\n",
    "\n",
    "    with open(outfile, \"w\") as f:\n",
    "        json.dump(data, f)"
   ]
  },
  {
   "cell_type": "code",
   "execution_count": 50,
   "metadata": {},
   "outputs": [
    {
     "data": {
      "text/plain": [
       "['guardian-api-covid-19-search-page-1-2020-04-28.json',\n",
       " 'guardian-api-covid-19-search-page-10-2020-04-28.json',\n",
       " 'guardian-api-covid-19-search-page-11-2020-04-28.json',\n",
       " 'guardian-api-covid-19-search-page-12-2020-04-28.json',\n",
       " 'guardian-api-covid-19-search-page-13-2020-04-28.json',\n",
       " 'guardian-api-covid-19-search-page-14-2020-04-28.json',\n",
       " 'guardian-api-covid-19-search-page-15-2020-04-28.json',\n",
       " 'guardian-api-covid-19-search-page-16-2020-04-28.json',\n",
       " 'guardian-api-covid-19-search-page-17-2020-04-28.json',\n",
       " 'guardian-api-covid-19-search-page-18-2020-04-28.json',\n",
       " 'guardian-api-covid-19-search-page-19-2020-04-28.json',\n",
       " 'guardian-api-covid-19-search-page-2-2020-04-28.json',\n",
       " 'guardian-api-covid-19-search-page-20-2020-04-28.json',\n",
       " 'guardian-api-covid-19-search-page-3-2020-04-28.json',\n",
       " 'guardian-api-covid-19-search-page-4-2020-04-28.json',\n",
       " 'guardian-api-covid-19-search-page-5-2020-04-28.json',\n",
       " 'guardian-api-covid-19-search-page-6-2020-04-28.json',\n",
       " 'guardian-api-covid-19-search-page-7-2020-04-28.json',\n",
       " 'guardian-api-covid-19-search-page-8-2020-04-28.json',\n",
       " 'guardian-api-covid-19-search-page-9-2020-04-28.json']"
      ]
     },
     "execution_count": 50,
     "metadata": {},
     "output_type": "execute_result"
    }
   ],
   "source": [
    "os.listdir(\"./downloads\")"
   ]
  },
  {
   "cell_type": "markdown",
   "metadata": {},
   "source": [
    "#### Requesting article contents (text)\n",
    "\n",
    "The list of search results contain data and metadata about individual articles. What if we wanted the contents of the article? Thankfully the API has an endpoint (*Single Item*) that provides access to this data.\n",
    "\n",
    "First, we need to extract an article from our list of search results. We do this by accessing its *positional value* (index) in the list: "
   ]
  },
  {
   "cell_type": "code",
   "execution_count": 51,
   "metadata": {},
   "outputs": [
    {
     "data": {
      "text/plain": [
       "{'id': 'world/2020/apr/24/coronavirus-what-have-scientists-learned-about-covid-19-so-far',\n",
       " 'type': 'article',\n",
       " 'sectionId': 'world',\n",
       " 'sectionName': 'World news',\n",
       " 'webPublicationDate': '2020-04-24T10:16:18Z',\n",
       " 'webTitle': 'Coronavirus: what have scientists learned about Covid-19 so far?',\n",
       " 'webUrl': 'https://www.theguardian.com/world/2020/apr/24/coronavirus-what-have-scientists-learned-about-covid-19-so-far',\n",
       " 'apiUrl': 'https://content.guardianapis.com/world/2020/apr/24/coronavirus-what-have-scientists-learned-about-covid-19-so-far',\n",
       " 'isHosted': False,\n",
       " 'pillarId': 'pillar/news',\n",
       " 'pillarName': 'News'}"
      ]
     },
     "execution_count": 51,
     "metadata": {},
     "output_type": "execute_result"
    }
   ],
   "source": [
    "search_results = data[\"response\"][\"results\"]\n",
    "article = search_results[0] # extract first article in list of results\n",
    "article"
   ]
  },
  {
   "cell_type": "markdown",
   "metadata": {},
   "source": [
    "In Python, indexing begins at zero (in R indexing begins at 1). Therefore, the first item in a list is located at position zero (e.g., `search_results[0]`), the second item at position one (e.g., `search_results[1]`) etc.\n",
    "\n",
    "**TASK**: extract a different article using another index value. Remember, there are 50 elements in the `search_results` list, so `[49]` is the highest index value you can refer to."
   ]
  },
  {
   "cell_type": "markdown",
   "metadata": {},
   "source": [
    "Next, we need to request its contents using the web address contained in the `apiUrl` key and specifying we want the body (text) of the article returned also:"
   ]
  },
  {
   "cell_type": "code",
   "execution_count": 60,
   "metadata": {},
   "outputs": [
    {
     "data": {
      "text/plain": [
       "200"
      ]
     },
     "execution_count": 60,
     "metadata": {},
     "output_type": "execute_result"
    }
   ],
   "source": [
    "baseurl = article[\"apiUrl\"]\n",
    "auth = {\"api-key\": api_key}\n",
    "field = \"body\"\n",
    "\n",
    "webadd = baseurl + \"?\" + \"show-fields=\" + field\n",
    "\n",
    "# Make call to API\n",
    "\n",
    "response = requests.get(webadd, headers=auth)\n",
    "response.status_code"
   ]
  },
  {
   "cell_type": "code",
   "execution_count": 61,
   "metadata": {},
   "outputs": [
    {
     "data": {
      "text/plain": [
       "{'response': {'status': 'ok',\n",
       "  'userTier': 'developer',\n",
       "  'total': 1,\n",
       "  'content': {'id': 'world/2020/apr/24/coronavirus-what-have-scientists-learned-about-covid-19-so-far',\n",
       "   'type': 'article',\n",
       "   'sectionId': 'world',\n",
       "   'sectionName': 'World news',\n",
       "   'webPublicationDate': '2020-04-24T10:16:18Z',\n",
       "   'webTitle': 'Coronavirus: what have scientists learned about Covid-19 so far?',\n",
       "   'webUrl': 'https://www.theguardian.com/world/2020/apr/24/coronavirus-what-have-scientists-learned-about-covid-19-so-far',\n",
       "   'apiUrl': 'https://content.guardianapis.com/world/2020/apr/24/coronavirus-what-have-scientists-learned-about-covid-19-so-far',\n",
       "   'fields': {'body': '<p>Coronaviruses have been causing problems for humanity for a long time. Several versions are known to trigger common colds and more recently two types have set off outbreaks of deadly illnesses: severe acute respiratory syndrome (Sars) and Middle East respiratory syndrome (Mers).</p> \\n<p>But their impact has been mild compared with the global havoc unleashed by the coronavirus that is causing the Covid-19 pandemic. In only a few months it has triggered lockdowns in dozens of nations, and the disease continues to spread.</p> \\n<p>That is an extraordinary achievement for a spiky ball of genetic material coated in fatty chemicals called lipids, and which measures 80 billionths of a metre in diameter. Humanity has been brought low by a very humble assailant.</p> \\n<p>On the other hand, our knowledge about the Sars-CoV-2, the virus that causes Covid-19, is also remarkable. This was an organism unknown to science five months ago. Today it is the subject of study on an unprecedented scale. <a href=\"https://www.theguardian.com/world/2020/apr/12/when-will-we-have-a-coronavirus-vaccine\">Vaccines projects proliferate,</a> antiviral drug trials have been launched and new diagnostic tests are appearing. </p> \\n<p>The questions are therefore straightforward: what have we learned over the past five months and how might that knowledge put an end to this pandemic?</p> \\n<figure class=\"element element-atom\"> \\n <gu-atom data-atom-id=\"ba9786c6-c779-4063-8bf9-1d3009eb7c70\" data-atom-type=\"media\"> \\n  <div>\\n   <iframe frameborder=\"0\" allowfullscreen=\"true\" src=\"https://www.youtube-nocookie.com/embed/3qV7R2iYVXg?showinfo=0&amp;rel=0\"></iframe>\\n  </div>\\n </gu-atom> \\n</figure> \\n<h2>Where did it come from and how did it first infect humans?</h2> \\n<p>The Sars-CoV-2 virus almost certainly <a href=\"https://www.theguardian.com/world/2020/apr/09/how-did-the-coronavirus-start-where-did-it-come-from-how-did-it-spread-humans-was-it-really-bats-pangolins-wuhan-animal-market\">originated in bats,</a> which have evolved fierce immune responses to viruses, researchers have discovered. These defences drive viruses to replicate faster so that they can get past bats’ immune defences. In turn, that transforms the bat into <a href=\"https://www.theguardian.com/world/2017/dec/10/sars-virus-bats-china-severe-acute-respiratory-syndrome\">a reservoir of rapidly reproducing and highly transmissible</a> viruses. Then when these bat viruses move into other mammals, creatures that lack a fast-response immune system, the viruses quickly spread into their new hosts. Most evidence suggests that Sars-CoV-2 started infecting humans via an intermediary species, such as pangolins.</p> \\n<aside class=\"element element-rich-link element--thumbnail\"> \\n <p> <span>Related: </span><a href=\"https://www.theguardian.com/world/2020/apr/12/coronavirus-statistics-what-can-we-trust-and-what-should-we-ignore\">Coronavirus statistics: what can we trust and what should we ignore?</a> </p> \\n</aside> \\n<p>“This virus probably jumped from a bat into another animal, and that other animal was probably near a human, maybe in a market,” says the virologist Prof Edward Holmes of Sydney University. “And so if that wildlife animal has a virus it’s picked up from a bat and we’re interacting with it, there’s a good chance that the virus will then spread to the person handling the animal. Then that person will go home and spread it to someone else and we have an outbreak.”</p> \\n<p>As to the transmission of Sars-CoV-2, that occurs when droplets of water containing the virus are expelled by an infected person in a cough or sneeze.</p> \\n<figure class=\"element element-image\" data-media-id=\"5cd7885ddb57e8ad5a16fc8146db6dbb81b1c5ca\"> \\n <img src=\"https://media.guim.co.uk/5cd7885ddb57e8ad5a16fc8146db6dbb81b1c5ca/0_192_5760_3456/1000.jpg\" alt=\"Health officials inspect bats to be confiscated in the wake of a coronavirus outbreak at a live animal market in Solo, Central Java, Indonesia.\" width=\"1000\" height=\"600\" class=\"gu-image\"> \\n <figcaption> \\n  <span class=\"element-image__caption\">Health officials inspect bats to be confiscated in the wake of a coronavirus outbreak at a live animal market in Solo, Central Java, Indonesia.</span> \\n  <span class=\"element-image__credit\">Photograph: AP</span> \\n </figcaption> \\n</figure> \\n<h2><strong>How does the virus spread and how does it affect people?</strong></h2> \\n<p>Virus-ridden particles are inhaled by others and come into contact with cells lining the throat and larynx. These cells have large numbers of receptors – known as Ace-2 receptors – on their surfaces. (Cell receptors play a key role in passing chemicals into cells and in triggering signals between cells.) “This virus has a surface protein that is primed to lock on that receptor and slip its RNA into the cell,” says the virologist Prof Jonathan Ball of Nottingham University.</p> \\n<p>Once inside, that RNA inserts itself into the cell’s own replication machinery and makes multiple copies of the virus. These burst out of the cell, and the infection spreads. Antibodies generated by the body’s immune system eventually target the virus and in most cases halt its progress.</p> \\n<p>“A Covid-19 infection is generally mild, and that really is the secret of the virus’s success,” adds Ball. “Many people don’t even notice they have got an infection and so go around their work, homes and supermarkets infecting others.”</p> \\n<p>By contrast, Sars – which is also caused by a coronavirus – makes patients much sicker and kills about one in 10 of those infected. In most cases, these patients are hospitalised and that stops them infecting others – by cutting the transmission chain. Milder Covid-19 avoids that issue.</p> \\n<figure class=\"element element-atom\"> \\n <gu-atom data-atom-id=\"04fcb605-dc6b-400f-9a32-dea28497dcee\" data-atom-type=\"media\"> \\n  <div>\\n   <iframe frameborder=\"0\" allowfullscreen=\"true\" src=\"https://www.youtube-nocookie.com/embed/sMtzWVTPmLI?showinfo=0&amp;rel=0\"></iframe>\\n  </div>\\n </gu-atom> \\n</figure> \\n<h2>Why does the virus sometimes cause death?</h2> \\n<p>Occasionally, however, the virus can cause severe problems. This happens when it moves down the respiratory tract and infects the lungs, which are even richer in cells with Ace-2 receptors. Many of these cells are destroyed, and lungs become congested with bits of broken cell. In these cases, patients will require treatment in intensive care.</p> \\n<p>Even worse, in some cases, a person’s immune system goes into overdrive, attracting cells to the lungs in order to attack the virus, resulting in inflammation. This process can run out of control, more immune cells pour in, and the inflammation gets worse. This is known as a <a href=\"https://www.newscientist.com/term/cytokine-storm/\">cytokine storm.</a> (In Greek, “cyto” means cell and “kino” means movement.) In some cases, this can kill the patient.</p> \\n<p>Just why cytokine storms occur in some patients but not in the vast majority is unclear. One possibility is that some people have versions of Ace-2 receptors that are slightly more vulnerable to attacks from the coronavirus than are those of most people.</p> \\n<h2><strong>Are we protected for life if we get infected?</strong></h2> \\n<p>Doctors examining patients recovering from a Covid-19 infection are finding fairly high levels of neutralising antibodies in their blood. These <a href=\"https://www.theguardian.com/commentisfree/2020/apr/10/heres-how-body-gains-immunity-coronavirus\">antibodies are made by the immune system</a>, and they coat an invading virus at specific points, blocking its ability to break into cells.</p> \\n<p>“It is clear that immune responses are being mounted against Covid-19 in infected people,” says the virologist Mike Skinner of Imperial College London. “And the antibodies created by that response will provide protection against future infections – but we should note that it is unlikely this protection will be for life.”</p> \\n<p>Instead, most virologists believe that immunity against Covid-19 will last only a year or two. “That is in line with other coronaviruses that infect humans,” says Skinner. “That means that even if most people do eventually become exposed to the virus, it is still likely to become endemic – which means we would see seasonal peaks of infection of this disease. We will have reached a steady state with regard to Covid-19.”</p> \\n<p>The virus will be with us for some time, in short. But could it change its virulence? Some researchers have suggested that it could become less deadly. Others have argued that it could mutate to become more lethal. Skinner is doubtful. “We have got to consider this pandemic from the virus’s position,” he says. “It is spreading round the world very nicely. It is doing OK. Change brings it no benefit.”</p> \\n<p>In the end, it will be the development and rollout of an effective vaccine that will free us from the threat of Covid-19, Skinner says.</p> \\n<h2>When will we get a vaccine?</h2> \\n<p>On 9 April, the <a href=\"https://www.nature.com/articles/d41573-020-00073-5\">journal </a><em><a href=\"https://www.nature.com/articles/d41573-020-00073-5\">Nature</a></em><a href=\"https://www.nature.com/articles/d41573-020-00073-5\"> reported that 78 vaccine projects</a> had been launched round the globe – with a further 37 in development. Among the projects that are under way is a vaccine programme that is now in phase-one trials at Oxford University, two others at US biotechnology corporations and three more at Chinese scientific groups. Many other vaccine developers say they plan to start human testing this year.</p> \\n<figure class=\"element element-image\" data-media-id=\"71bd74e2bdb349a18119fec7e436bb5e029b72e9\"> \\n <img src=\"https://media.guim.co.uk/71bd74e2bdb349a18119fec7e436bb5e029b72e9/0_66_3500_2099/1000.jpg\" alt=\"A woman holds a small bottle labeled with a “Vaccine COVID-19” sticker.\" width=\"1000\" height=\"600\" class=\"gu-image\"> \\n <figcaption> \\n  <span class=\"element-image__caption\">Around the globe, there are 78 vaccine projects.</span> \\n  <span class=\"element-image__credit\">Photograph: Dado Ruvić/Reuters</span> \\n </figcaption> \\n</figure> \\n<p>This remarkable response raises <a href=\"https://www.theguardian.com/world/2020/apr/08/lockdowns-cant-end-until-covid-19-vaccine-found-study-says\">hopes that a Covid-19 vaccine could be developed</a> in a fairly short time. However, vaccines require large-scale safety and efficacy studies. Thousands of people would receive either the vaccine itself or a placebo to determine if the former were effective at preventing infection from the virus which they would have encountered naturally. That, inevitably, is a lengthy process.</p> \\n<p>As a result, some scientists have proposed a way to speed up the process – by deliberately exposing volunteers to the virus to determine a vaccine’s efficacy. “This approach is not without risks but has the potential to expedite candidate vaccine testing by many months,” says Nir Eyal, a professor of bioethics at Rutgers University.</p> \\n<p>Volunteers would have to be young and healthy, he stresses: “Their health would also be closely monitored, and they would have access to intensive care and any available medicines.” The result could be a vaccine that would save millions of lives by being ready for use in a much shorter time than one that went through standard phase three trials.</p> \\n<p>But deliberately infecting people – in particular volunteers who would be given a placebo vaccine as part of the trial – is controversial. “This will have to be thought through very carefully,” says Prof Adam Finn of Bristol University. “Young people might jump at the opportunity to join such a trial but this is a virus that does kill the odd young person. We don’t know why yet. However, phase-three trials are still some way off, so we have time to consider the idea carefully.”</p> \\n<ul> \\n <li><p>This article was amended on 12 April 2020. The original version incorrectly described the Covid-19 virus as measuring “an 80-billionth of a metre”, when it should have said “80 billionths of a metre”. A quote from Mike Skinner, responding to whether Covid-19’s virulence could change, was also corrected.</p></li> \\n</ul> \\n<ul> \\n <li><p><em>Due to the unprecedented and ongoing nature of the coronavirus outbreak, this article is being regularly updated to ensure that it reflects the current situation as best as possible. Any significant corrections made to this or previous versions of the article will continue to be footnoted in line with Guardian editorial policy.</em></p></li> \\n</ul>'},\n",
       "   'isHosted': False,\n",
       "   'pillarId': 'pillar/news',\n",
       "   'pillarName': 'News'}}}"
      ]
     },
     "execution_count": 61,
     "metadata": {},
     "output_type": "execute_result"
    }
   ],
   "source": [
    "data = response.json()\n",
    "data"
   ]
  },
  {
   "cell_type": "markdown",
   "metadata": {},
   "source": [
    "Note we now have a key called `fields` which contains a dictionary with one key (`body`):"
   ]
  },
  {
   "cell_type": "code",
   "execution_count": 63,
   "metadata": {},
   "outputs": [
    {
     "data": {
      "text/plain": [
       "dict_keys(['body'])"
      ]
     },
     "execution_count": 63,
     "metadata": {},
     "output_type": "execute_result"
    }
   ],
   "source": [
    "data[\"response\"][\"content\"][\"fields\"].keys()"
   ]
  },
  {
   "cell_type": "code",
   "execution_count": 64,
   "metadata": {},
   "outputs": [
    {
     "data": {
      "text/plain": [
       "'<p>Coronaviruses have been causing problems for humanity for a long time. Several versions are known to trigger common colds and more recently two types have set off outbreaks of deadly illnesses: severe acute respiratory syndrome (Sars) and Middle East respiratory syndrome (Mers).</p> \\n<p>But their impact has been mild compared with the global havoc unleashed by the coronavirus that is causing the Covid-19 pandemic. In only a few months it has triggered lockdowns in dozens of nations, and the disease continues to spread.</p> \\n<p>That is an extraordinary achievement for a spiky ball of genetic material coated in fatty chemicals called lipids, and which measures 80 billionths of a metre in diameter. Humanity has been brought low by a very humble assailant.</p> \\n<p>On the other hand, our knowledge about the Sars-CoV-2, the virus that causes Covid-19, is also remarkable. This was an organism unknown to science five months ago. Today it is the subject of study on an unprecedented scale. <a href=\"https://www.theguardian.com/world/2020/apr/12/when-will-we-have-a-coronavirus-vaccine\">Vaccines projects proliferate,</a> antiviral drug trials have been launched and new diagnostic tests are appearing. </p> \\n<p>The questions are therefore straightforward: what have we learned over the past five months and how might that knowledge put an end to this pandemic?</p> \\n<figure class=\"element element-atom\"> \\n <gu-atom data-atom-id=\"ba9786c6-c779-4063-8bf9-1d3009eb7c70\" data-atom-type=\"media\"> \\n  <div>\\n   <iframe frameborder=\"0\" allowfullscreen=\"true\" src=\"https://www.youtube-nocookie.com/embed/3qV7R2iYVXg?showinfo=0&amp;rel=0\"></iframe>\\n  </div>\\n </gu-atom> \\n</figure> \\n<h2>Where did it come from and how did it first infect humans?</h2> \\n<p>The Sars-CoV-2 virus almost certainly <a href=\"https://www.theguardian.com/world/2020/apr/09/how-did-the-coronavirus-start-where-did-it-come-from-how-did-it-spread-humans-was-it-really-bats-pangolins-wuhan-animal-market\">originated in bats,</a> which have evolved fierce immune responses to viruses, researchers have discovered. These defences drive viruses to replicate faster so that they can get past bats’ immune defences. In turn, that transforms the bat into <a href=\"https://www.theguardian.com/world/2017/dec/10/sars-virus-bats-china-severe-acute-respiratory-syndrome\">a reservoir of rapidly reproducing and highly transmissible</a> viruses. Then when these bat viruses move into other mammals, creatures that lack a fast-response immune system, the viruses quickly spread into their new hosts. Most evidence suggests that Sars-CoV-2 started infecting humans via an intermediary species, such as pangolins.</p> \\n<aside class=\"element element-rich-link element--thumbnail\"> \\n <p> <span>Related: </span><a href=\"https://www.theguardian.com/world/2020/apr/12/coronavirus-statistics-what-can-we-trust-and-what-should-we-ignore\">Coronavirus statistics: what can we trust and what should we ignore?</a> </p> \\n</aside> \\n<p>“This virus probably jumped from a bat into another animal, and that other animal was probably near a human, maybe in a market,” says the virologist Prof Edward Holmes of Sydney University. “And so if that wildlife animal has a virus it’s picked up from a bat and we’re interacting with it, there’s a good chance that the virus will then spread to the person handling the animal. Then that person will go home and spread it to someone else and we have an outbreak.”</p> \\n<p>As to the transmission of Sars-CoV-2, that occurs when droplets of water containing the virus are expelled by an infected person in a cough or sneeze.</p> \\n<figure class=\"element element-image\" data-media-id=\"5cd7885ddb57e8ad5a16fc8146db6dbb81b1c5ca\"> \\n <img src=\"https://media.guim.co.uk/5cd7885ddb57e8ad5a16fc8146db6dbb81b1c5ca/0_192_5760_3456/1000.jpg\" alt=\"Health officials inspect bats to be confiscated in the wake of a coronavirus outbreak at a live animal market in Solo, Central Java, Indonesia.\" width=\"1000\" height=\"600\" class=\"gu-image\"> \\n <figcaption> \\n  <span class=\"element-image__caption\">Health officials inspect bats to be confiscated in the wake of a coronavirus outbreak at a live animal market in Solo, Central Java, Indonesia.</span> \\n  <span class=\"element-image__credit\">Photograph: AP</span> \\n </figcaption> \\n</figure> \\n<h2><strong>How does the virus spread and how does it affect people?</strong></h2> \\n<p>Virus-ridden particles are inhaled by others and come into contact with cells lining the throat and larynx. These cells have large numbers of receptors – known as Ace-2 receptors – on their surfaces. (Cell receptors play a key role in passing chemicals into cells and in triggering signals between cells.) “This virus has a surface protein that is primed to lock on that receptor and slip its RNA into the cell,” says the virologist Prof Jonathan Ball of Nottingham University.</p> \\n<p>Once inside, that RNA inserts itself into the cell’s own replication machinery and makes multiple copies of the virus. These burst out of the cell, and the infection spreads. Antibodies generated by the body’s immune system eventually target the virus and in most cases halt its progress.</p> \\n<p>“A Covid-19 infection is generally mild, and that really is the secret of the virus’s success,” adds Ball. “Many people don’t even notice they have got an infection and so go around their work, homes and supermarkets infecting others.”</p> \\n<p>By contrast, Sars – which is also caused by a coronavirus – makes patients much sicker and kills about one in 10 of those infected. In most cases, these patients are hospitalised and that stops them infecting others – by cutting the transmission chain. Milder Covid-19 avoids that issue.</p> \\n<figure class=\"element element-atom\"> \\n <gu-atom data-atom-id=\"04fcb605-dc6b-400f-9a32-dea28497dcee\" data-atom-type=\"media\"> \\n  <div>\\n   <iframe frameborder=\"0\" allowfullscreen=\"true\" src=\"https://www.youtube-nocookie.com/embed/sMtzWVTPmLI?showinfo=0&amp;rel=0\"></iframe>\\n  </div>\\n </gu-atom> \\n</figure> \\n<h2>Why does the virus sometimes cause death?</h2> \\n<p>Occasionally, however, the virus can cause severe problems. This happens when it moves down the respiratory tract and infects the lungs, which are even richer in cells with Ace-2 receptors. Many of these cells are destroyed, and lungs become congested with bits of broken cell. In these cases, patients will require treatment in intensive care.</p> \\n<p>Even worse, in some cases, a person’s immune system goes into overdrive, attracting cells to the lungs in order to attack the virus, resulting in inflammation. This process can run out of control, more immune cells pour in, and the inflammation gets worse. This is known as a <a href=\"https://www.newscientist.com/term/cytokine-storm/\">cytokine storm.</a> (In Greek, “cyto” means cell and “kino” means movement.) In some cases, this can kill the patient.</p> \\n<p>Just why cytokine storms occur in some patients but not in the vast majority is unclear. One possibility is that some people have versions of Ace-2 receptors that are slightly more vulnerable to attacks from the coronavirus than are those of most people.</p> \\n<h2><strong>Are we protected for life if we get infected?</strong></h2> \\n<p>Doctors examining patients recovering from a Covid-19 infection are finding fairly high levels of neutralising antibodies in their blood. These <a href=\"https://www.theguardian.com/commentisfree/2020/apr/10/heres-how-body-gains-immunity-coronavirus\">antibodies are made by the immune system</a>, and they coat an invading virus at specific points, blocking its ability to break into cells.</p> \\n<p>“It is clear that immune responses are being mounted against Covid-19 in infected people,” says the virologist Mike Skinner of Imperial College London. “And the antibodies created by that response will provide protection against future infections – but we should note that it is unlikely this protection will be for life.”</p> \\n<p>Instead, most virologists believe that immunity against Covid-19 will last only a year or two. “That is in line with other coronaviruses that infect humans,” says Skinner. “That means that even if most people do eventually become exposed to the virus, it is still likely to become endemic – which means we would see seasonal peaks of infection of this disease. We will have reached a steady state with regard to Covid-19.”</p> \\n<p>The virus will be with us for some time, in short. But could it change its virulence? Some researchers have suggested that it could become less deadly. Others have argued that it could mutate to become more lethal. Skinner is doubtful. “We have got to consider this pandemic from the virus’s position,” he says. “It is spreading round the world very nicely. It is doing OK. Change brings it no benefit.”</p> \\n<p>In the end, it will be the development and rollout of an effective vaccine that will free us from the threat of Covid-19, Skinner says.</p> \\n<h2>When will we get a vaccine?</h2> \\n<p>On 9 April, the <a href=\"https://www.nature.com/articles/d41573-020-00073-5\">journal </a><em><a href=\"https://www.nature.com/articles/d41573-020-00073-5\">Nature</a></em><a href=\"https://www.nature.com/articles/d41573-020-00073-5\"> reported that 78 vaccine projects</a> had been launched round the globe – with a further 37 in development. Among the projects that are under way is a vaccine programme that is now in phase-one trials at Oxford University, two others at US biotechnology corporations and three more at Chinese scientific groups. Many other vaccine developers say they plan to start human testing this year.</p> \\n<figure class=\"element element-image\" data-media-id=\"71bd74e2bdb349a18119fec7e436bb5e029b72e9\"> \\n <img src=\"https://media.guim.co.uk/71bd74e2bdb349a18119fec7e436bb5e029b72e9/0_66_3500_2099/1000.jpg\" alt=\"A woman holds a small bottle labeled with a “Vaccine COVID-19” sticker.\" width=\"1000\" height=\"600\" class=\"gu-image\"> \\n <figcaption> \\n  <span class=\"element-image__caption\">Around the globe, there are 78 vaccine projects.</span> \\n  <span class=\"element-image__credit\">Photograph: Dado Ruvić/Reuters</span> \\n </figcaption> \\n</figure> \\n<p>This remarkable response raises <a href=\"https://www.theguardian.com/world/2020/apr/08/lockdowns-cant-end-until-covid-19-vaccine-found-study-says\">hopes that a Covid-19 vaccine could be developed</a> in a fairly short time. However, vaccines require large-scale safety and efficacy studies. Thousands of people would receive either the vaccine itself or a placebo to determine if the former were effective at preventing infection from the virus which they would have encountered naturally. That, inevitably, is a lengthy process.</p> \\n<p>As a result, some scientists have proposed a way to speed up the process – by deliberately exposing volunteers to the virus to determine a vaccine’s efficacy. “This approach is not without risks but has the potential to expedite candidate vaccine testing by many months,” says Nir Eyal, a professor of bioethics at Rutgers University.</p> \\n<p>Volunteers would have to be young and healthy, he stresses: “Their health would also be closely monitored, and they would have access to intensive care and any available medicines.” The result could be a vaccine that would save millions of lives by being ready for use in a much shorter time than one that went through standard phase three trials.</p> \\n<p>But deliberately infecting people – in particular volunteers who would be given a placebo vaccine as part of the trial – is controversial. “This will have to be thought through very carefully,” says Prof Adam Finn of Bristol University. “Young people might jump at the opportunity to join such a trial but this is a virus that does kill the odd young person. We don’t know why yet. However, phase-three trials are still some way off, so we have time to consider the idea carefully.”</p> \\n<ul> \\n <li><p>This article was amended on 12 April 2020. The original version incorrectly described the Covid-19 virus as measuring “an 80-billionth of a metre”, when it should have said “80 billionths of a metre”. A quote from Mike Skinner, responding to whether Covid-19’s virulence could change, was also corrected.</p></li> \\n</ul> \\n<ul> \\n <li><p><em>Due to the unprecedented and ongoing nature of the coronavirus outbreak, this article is being regularly updated to ensure that it reflects the current situation as best as possible. Any significant corrections made to this or previous versions of the article will continue to be footnoted in line with Guardian editorial policy.</em></p></li> \\n</ul>'"
      ]
     },
     "execution_count": 64,
     "metadata": {},
     "output_type": "execute_result"
    }
   ],
   "source": [
    "text = data[\"response\"][\"content\"][\"fields\"][\"body\"]\n",
    "text"
   ]
  },
  {
   "cell_type": "markdown",
   "metadata": {},
   "source": [
    "The article's content is returned as a long piece of text (known as a *string* data type in Python). However you may have noticed lots of strange symbols or tags scattered throughout (e.g., `<p>`, `</ul>`) - their presence confirms that the content is actually a piece of HTML, the programming language that web pages are written in.\n",
    "\n",
    "[TALK ABOUT BEAUTIFUL SOUP]"
   ]
  },
  {
   "cell_type": "markdown",
   "metadata": {},
   "source": [
    "Finally, let's conclude by saving the article's data and metadata to a JSON file:"
   ]
  },
  {
   "cell_type": "code",
   "execution_count": 67,
   "metadata": {},
   "outputs": [],
   "source": [
    "# Use the articles unique id to name the file\n",
    "\n",
    "article_id = data[\"response\"][\"content\"][\"id\"].replace(\"/\", \"-\")\n",
    "#\n",
    "# We need to remove forward slashes (\"/\") as our computer interprets\n",
    "# these as folder separators.\n",
    "#\n",
    "\n",
    "outfile = \"./downloads/\" + article_id + \".json\"\n",
    "\n",
    "with open(outfile, \"w\") as f:\n",
    "    json.dump(data, f)"
   ]
  },
  {
   "cell_type": "markdown",
   "metadata": {},
   "source": [
    "#### Converting data stored in JSON to a different file format\n",
    "\n",
    "While JSON is an excellent format for storing and sharing data found on the web, it is not always the easiest to work with when using other commonn social science software applications (e.g., Stata, SPSS, NVivo). In some circumstances it can be worth converting data stored as JSON into a \"friendlier\" data structure. There are two ways of achieving this:\n",
    "1. Extracting information of interest from the JSON variable and storing in a different data structure (e.g., a table, data frame).\n",
    "2. Collapsing (\"flattening\") the hierachical structure of the JSON variable.\n",
    "\n",
    "The former is simpler but time intensive if there are lots of fields you need to extract. The latter is quicker but can be difficult to implement if there are lots of nested fields in the data.\n",
    "\n",
    "We'll demonstrate both approaches, leaving you to choose the method you prefer for your own work."
   ]
  },
  {
   "cell_type": "code",
   "execution_count": null,
   "metadata": {},
   "outputs": [],
   "source": []
  },
  {
   "cell_type": "markdown",
   "metadata": {},
   "source": [
    "## Value, limitations and ethics\n",
    "\n",
    "Computational methods for collecting data from the web are an increasingly important component of a social scientist's toolkit. They enable individuals to collect and reshape data - qualitative and quantitative - that otherwise would be inaccessible for research purposes. Thus far, this notebook has focused on the logic and practice of using APIs, however it is crucial we reflect critically on its value, limitations and ethical implications for social science purposes."
   ]
  },
  {
   "cell_type": "markdown",
   "metadata": {},
   "source": [
    "## Conclusion\n",
    "\n",
    "*Web-scraping is a simple yet powerful computational method for collecting data of value for social science research. It provides a relatively gentle introduction to using programming languages, also. However, \"with great power comes great responsibility\" (sorry). Web-scraping takes you into the realm of data protection, website Terms of Service (ToS), and many murky ethical issues. Wielded sensibly and sensitively, web-scraping is a valuable and exciting social science research method.* [UPDATE]\n",
    "\n",
    "Good luck on your data-driven travels!"
   ]
  },
  {
   "cell_type": "markdown",
   "metadata": {},
   "source": [
    "## Bibliography\n",
    "\n",
    "Barba, Lorena A. et al. (2019). *Teaching and Learning with Jupyter*. <a href=\"https://jupyter4edu.github.io/jupyter-edu-book/\" target=_blank>https://jupyter4edu.github.io/jupyter-edu-book/</a>.\n",
    "\n",
    "Brooker, P. (2020). *Programming with Python for Social Scientists*. London: SAGE Publications Ltd.\n",
    "\n",
    "Lau, S., Gonzalez, J., & Nolan, D. (n.d.). *Principles and Techniques of Data Science*. https://www.textbook.ds100.org\n",
    "\n",
    "Tagliaferri, L. (n.d.). *How to Code in Python 3*. https://assets.digitalocean.com/books/python/how-to-code-in-python.pdf"
   ]
  },
  {
   "cell_type": "markdown",
   "metadata": {},
   "source": [
    "## Further reading and resources\n",
    "\n",
    "We publish a list of useful books, papers, websites and other resources on our web-scraping Github repository: <a href=\"https://github.com/UKDataServiceOpen/web-scraping/tree/master/reading-list/\" target=_blank>[Reading list]</a>\n",
    "\n",
    "The help documentation for the `requests` module is refreshingly readable and useful:\n",
    "* <a href=\"https://requests.readthedocs.io/en/master/\" target=_blank>`requests`</a>\n",
    "\n",
    "You may also be interested in the following articles specifically relating to APIs:"
   ]
  },
  {
   "cell_type": "markdown",
   "metadata": {},
   "source": [
    "## Appendices"
   ]
  },
  {
   "cell_type": "markdown",
   "metadata": {},
   "source": [
    "### Appendix A - Requesting URLs\n",
    "\n",
    "We refer to a website's location on the internet as its web address or Uniform Resource Locator (URL).\n",
    "\n",
    "In Python we've made use of the excellent `requests` module. By calling the `requests.get()` method, we mimic the manual process of launching a web browser and visiting a website. The `requests` module achieves this by placing a _request_ to the server hosting the website (e.g., show me the contents of the website), and handling the _response_ that is returned (e.g., the contents of the website and some metadata about the request). This _request-response_ protocol is known as HTTP (HyperText Transfer Protocol); HTTP allows computers to communicate with each other over the internet - you can learn more about it at <a href=\"https://www.w3schools.com/whatis/whatis_http.asp\" target=_blank>W3 Schools</a>.\n",
    "\n",
    "Run the code below to learn more about the data and metadata returned by `requests.get()`."
   ]
  },
  {
   "cell_type": "code",
   "execution_count": null,
   "metadata": {},
   "outputs": [],
   "source": [
    "import requests\n",
    "\n",
    "url = \"https://httpbin.org/html\"\n",
    "response = requests.get(url)\n",
    "\n",
    "print(\"1. {}\".format(response)) # returns the object type (i.e. a response) and status code\n",
    "print(\"\\r\")\n",
    "\n",
    "print(\"2. {}\".format(response.headers)) # returns a dictionary of response headers\n",
    "print(\"\\r\")\n",
    "\n",
    "print(\"3. {}\".format(response.headers[\"Date\"])) # return a particular header\n",
    "print(\"\\r\")\n",
    "\n",
    "print(\"4. {}\".format(response.request)) # returns the request object that requested this response\n",
    "print(\"\\r\")\n",
    "\n",
    "print(\"5. {}\".format(response.url)) # returns the URL of the response\n",
    "print(\"\\r\")\n",
    "\n",
    "#print(response.text) # returns the text contained in the response (i.e. the paragraphs, headers etc of the web page)\n",
    "#print(response.content) # returns the content of the response (i.e. the HTML contents of the web page)\n",
    "\n",
    "# Visit https://www.w3schools.com/python/ref_requests_response.asp for a full list of what is returned by the server\n",
    "# in response to a request."
   ]
  },
  {
   "cell_type": "markdown",
   "metadata": {},
   "source": [
    "### Appendix B - Capturing UK Police data"
   ]
  },
  {
   "cell_type": "markdown",
   "metadata": {},
   "source": [
    "For our first example we will attempt to download data on 'Stop and searches' activity by police forces in England, Wales and Northern Ireland. We will use open police data available at [https://data.police.uk/](https://data.police.uk/).\n",
    "\n",
    "Let's see how we can use Python to achieve this task."
   ]
  },
  {
   "cell_type": "code",
   "execution_count": null,
   "metadata": {},
   "outputs": [],
   "source": [
    "## Title: Downloading 'Stop and search' police data\n",
    "## Created: 10/02/2020\n",
    "## Creater: Diarmuid McDonnell, University of Manchester\n",
    "\n",
    "# Importing modules #\n",
    "\n",
    "# Python comes with a large suite of ready-to-use functions; however, some must be explicitly downloaded and imported \n",
    "# into your Python session. \n",
    "#\n",
    "# A module bundles together code, data, documentation and tests, and provides an easy method to share with others.\n",
    "\n",
    "try:\n",
    "    import requests # module for requesting urls\n",
    "    import csv # module for handling csv files\n",
    "    import json # module for handling json data\n",
    "    import os # module for performing operating system tasks\n",
    "    print(\"Successfully imported modules\")\n",
    "except:\n",
    "    print(\"Did not import one or more modules!\")   "
   ]
  },
  {
   "cell_type": "markdown",
   "metadata": {},
   "source": [
    "**QUESTION:** What do you think the ```try, except``` block does? "
   ]
  },
  {
   "cell_type": "markdown",
   "metadata": {},
   "source": [
    " "
   ]
  },
  {
   "cell_type": "markdown",
   "metadata": {},
   "source": [
    "The next step is to figure out what datasets are available through the API and how they can be accessed. This can only be learned by reading the [API documentation](https://data.police.uk/docs/).\n",
    "\n",
    "The unique id or name of a dataset available via an API is known as an *endpoint*. For example, 'Stop and search' data is available via the ```stops-street``` endpoint, and we would request this dataset by sending the following URL to the API: ```https://data.police.uk/api/stops-street?``` (any characters following the '?' symbol represent customisable search terms e.g. 'Stop and search' data for certain areas)."
   ]
  },
  {
   "cell_type": "code",
   "execution_count": null,
   "metadata": {},
   "outputs": [],
   "source": [
    "# Exploring the Police API #\n",
    "\n",
    "# See what 'Stop and search' datasets are available\n",
    "\n",
    "datasets = 'https://data.police.uk/api/crimes-street-dates' # define the endpoint where a list of available datasets is found\n",
    "\n",
    "\n",
    "# Request the list of available datasets from the above endpoint\n",
    "\n",
    "response = requests.get(datasets, allow_redirects=True) # request the url\n",
    "print(\"----------------------------\") # additional print() commands to format output\n",
    "print(\"\\r\")\n",
    "print(response.status_code, \" | \", response.headers) # print the metadata behind the request to see if it was successful\n",
    "print(\"\\r\")"
   ]
  },
  {
   "cell_type": "markdown",
   "metadata": {},
   "source": [
    "The status code is **200**, signifying we made a successful request to the API. Now let's examine the contents of the request i.e. the list of available datasets:"
   ]
  },
  {
   "cell_type": "code",
   "execution_count": null,
   "metadata": {},
   "outputs": [],
   "source": [
    "sdata = json.loads(response.content) # store the returned response as a json object (easier for manipulating and saving)\n",
    "print(type(sdata)) # view the response type\n",
    "sdata[0] # view the first item in the list"
   ]
  },
  {
   "cell_type": "markdown",
   "metadata": {},
   "source": [
    "Let's parse the results of the API request:\n",
    "1. We store the returned response - a list of all 'Stop and search' data available via the API - as a json object; this makes it easier to manipulate the contents and save to a file.\n",
    "2. We ask Python to tell us what data type we are dealing with. In this instance it is a ```list```."
   ]
  },
  {
   "cell_type": "markdown",
   "metadata": {},
   "source": [
    "-- END OF FILE --"
   ]
  }
 ],
 "metadata": {
  "kernelspec": {
   "display_name": "Python 3",
   "language": "python",
   "name": "python3"
  },
  "language_info": {
   "codemirror_mode": {
    "name": "ipython",
    "version": 3
   },
   "file_extension": ".py",
   "mimetype": "text/x-python",
   "name": "python",
   "nbconvert_exporter": "python",
   "pygments_lexer": "ipython3",
   "version": "3.7.3"
  },
  "toc": {
   "base_numbering": 1,
   "nav_menu": {
    "height": "86.7333px",
    "width": "160px"
   },
   "number_sections": true,
   "sideBar": false,
   "skip_h1_title": true,
   "title_cell": "Table of Contents",
   "title_sidebar": "Contents",
   "toc_cell": true,
   "toc_position": {
    "height": "100px",
    "left": "366px",
    "top": "669.033px",
    "width": "165px"
   },
   "toc_section_display": true,
   "toc_window_display": false
  }
 },
 "nbformat": 4,
 "nbformat_minor": 2
}
